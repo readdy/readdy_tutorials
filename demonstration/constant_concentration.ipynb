{
 "cells": [
  {
   "cell_type": "markdown",
   "metadata": {},
   "source": [
    "This will demonstrate how to achieve a constant concentration $[S]_\\mathrm{eq}$ of S particles, where the value of $[S]_\\mathrm{eq}$ can be roughly adjusted under some approximations. In [4] we use such a mechanism to construct a spherical shell in which a constant concentration is maintained.\n",
    "\n",
    "Define reactions of substrate with factory particles F\n",
    "\n",
    "$$F \\rightleftharpoons F + S$$ \n",
    "\n",
    "with forward propensity (intrinsic rate constant) $f_+$ and backward propensity $f_-$. The according macroscopic rates of these processes would be $k_+$ and $k_-$. In equilibrium under assumption of the law of mass action [1]:\n",
    "\n",
    "$$\n",
    "K = \\frac{[F]_\\mathrm{eq}[S]_\\mathrm{eq}}{[F]_\\mathrm{eq}} = [S]_\\mathrm{eq}\n",
    "$$\n",
    "\n",
    "The equilibrium constant also relates $k_+$ and $k_-$, which are functions of the propensities $f_+$ and $f_-$ respectively:\n",
    "\n",
    "$$\n",
    "K = \\frac{k_+(f_+)}{k_-(f_-)}\n",
    "$$\n",
    "\n",
    "Since the \"$+$\" reaction is unimolecular we have $k_+=f_+$. The \"$-$\" reaction depends on encounter of F and S. With no potentials between F and S one can use Doi's formula [2, 3] for $k_-$\n",
    "\n",
    "$$\n",
    "k_-= 4\\pi D R \\left(1-\\frac{\\tanh(\\kappa R)}{\\kappa R}\\right)\n",
    "$$\n",
    "\n",
    "where $\\kappa=\\sqrt{f_- / D}$ is an inverse penetration depth (proportional to the speed of the reaction), $D=D_F + D_S$ the relative diffusion coefficient and $R$ is the reaction radius. The expressions for $k_+$ and $k_-$ are only expected to work in the absence of re-binding and multibody effects. Additionally the law of mass action assumes all reactants to be in contact with one another. Both requirements are fulfilled if the reaction process is be in the well-mixed (reaction-limited) regime. This corresponds to $\\kappa R \\ll 1$.\n",
    "\n",
    "Combining the equations above gives the constant concentration\n",
    "\n",
    "$$\n",
    "[S]_\\mathrm{eq} = \\frac{f_+}{4\\pi DR\\left(1-\\frac{\\tanh(R\\sqrt{f_-/D})}{R\\sqrt{f_-/D}}\\right)}\n",
    "$$\n",
    "\n",
    "Choosing\n",
    "- $\\kappa R = 0.1$ (rather well-mixed)\n",
    "- $D_F = D_S = 1 ~[\\mathrm{length}]^2 [\\mathrm{time}]^{-1}$ gives $D=1 ~[\\mathrm{length}]^2 [\\mathrm{time}]^{-1}$\n",
    "- $R=0.5 ~[\\mathrm{length}]$\n",
    "\n",
    "gives $f_- = \\kappa R D / R^2 = 0.08 ~ [\\mathrm{time}]^{-1}$ as backward propensity and\n",
    "\n",
    "$$\n",
    "[S]_\\mathrm{eq} = \\frac{f_+}{0.041721} [\\mathrm{length}]^{-3}[\\mathrm{time}]^{1}\n",
    "$$\n",
    "\n",
    "as the value for the constant concentration, where $f_+$ remains as a \"control knob\". $[\\mathrm{length}]$ and $[\\mathrm{time}]$ are the units of length and time.\n",
    "\n",
    "- [1] Atkins, Peter; de Paula, Julio: Atkins’ physical chemistry, Oxford University Press, 2006 \n",
    "- [2] Doi, Masao: Theory of diffusion-controlled reactions between non-simple molecules. I , Chemical Physics ll, 107–113, 1975\n",
    "- [3] Erban, Radek; Chapman, Jonathan: Stochastic modelling of reaction-diffusion processes: algorithms for bimolecular reactions. , Physical biology 6(4), 046001, jan 2009\n",
    "- [4] Dibak, Manuel; Fröhner, Christoph; Noé, Frank; Höfling, Felix: Diffusion-influenced reaction rates in the presence of pair interactions. (_in prep_)"
   ]
  },
  {
   "cell_type": "code",
   "execution_count": 1,
   "metadata": {},
   "outputs": [],
   "source": [
    "import os\n",
    "import numpy as np\n",
    "import matplotlib.pyplot as plt\n",
    "import readdy"
   ]
  },
  {
   "cell_type": "code",
   "execution_count": 2,
   "metadata": {},
   "outputs": [
    {
     "data": {
      "text/plain": [
       "'v2.0.1-54'"
      ]
     },
     "execution_count": 2,
     "metadata": {},
     "output_type": "execute_result"
    }
   ],
   "source": [
    "readdy.__version__"
   ]
  },
  {
   "cell_type": "code",
   "execution_count": 3,
   "metadata": {},
   "outputs": [],
   "source": [
    "def equ_concentration(forward_propensity):\n",
    "    return forward_propensity / 0.041721\n",
    "\n",
    "factory_minus_rate = 0.08\n",
    "factory_plus_rate = 0.1\n",
    "factory_reaction_radius = 0.5\n",
    "concentration = equ_concentration(factory_plus_rate)"
   ]
  },
  {
   "cell_type": "code",
   "execution_count": 4,
   "metadata": {},
   "outputs": [],
   "source": [
    "system = readdy.ReactionDiffusionSystem(\n",
    "    box_size=[10.,10.,10.], \n",
    "    periodic_boundary_conditions=[True, True, True],\n",
    "    unit_system=None\n",
    ")\n",
    "\n",
    "system.add_species(\"S\", 1.)\n",
    "system.add_species(\"F\", 1.)\n",
    "\n",
    "system.reactions.add_fusion(\n",
    "    \"factory-fusion\", \"F\", \"S\", \"F\", factory_minus_rate,\n",
    "    factory_reaction_radius, weight1=0., weight2=1.)\n",
    "system.reactions.add_fission(\n",
    "    \"factory-fission\", \"F\", \"F\", \"S\", factory_plus_rate,\n",
    "    factory_reaction_radius, weight1=0., weight2=1.)"
   ]
  },
  {
   "cell_type": "code",
   "execution_count": 5,
   "metadata": {},
   "outputs": [
    {
     "data": {
      "application/vnd.jupyter.widget-view+json": {
       "model_id": "",
       "version_major": 2,
       "version_minor": 0
      },
      "text/plain": [
       "HBox(children=(HBox(children=(Label(value='Simulation progress'),), layout=Layout(max_width='35%', min_width='…"
      ]
     },
     "metadata": {},
     "output_type": "display_data"
    },
    {
     "name": "stdout",
     "output_type": "stream",
     "text": [
      "Configured kernel context with:\n",
      "--------------------------------\n",
      " - kBT = 1\n",
      " - periodic b.c. = (true, true, true)\n",
      " - box size = (10, 10, 10)\n",
      " - particle types:\n",
      "     *  particle type \"F\" with D=1\n",
      "     *  particle type \"S\" with D=1\n",
      " - unimolecular reactions:\n",
      "     * Fission F -> F + S with a rate of 0.1, a product distance of 0.5, and weights 0 and 1\n",
      " - bimolecular reactions:\n",
      "     * Fusion F + S -> F with a rate of 0.08, an educt distance of 0.5, and weights 0 and 1\n",
      "\n",
      "Configured simulation loop with:\n",
      "--------------------------------\n",
      " - timeStep = 0.005\n",
      " - evaluateObservables = true\n",
      " - progressOutputStride = 10\n",
      " - context written to file = true\n",
      " - Performing actions:\n",
      "   * Initialize neighbor list? true \n",
      "   * Update neighbor list? true \n",
      "   * Clear neighbor list? true \n",
      "   * Integrate diffusion? true \n",
      "   * Calculate forces? true \n",
      "   * Handle reactions? true \n",
      "   * Handle topology reactions? true \n",
      "\n",
      "[2019-05-06 15:22:56] [info] Simulation completed\n"
     ]
    }
   ],
   "source": [
    "simulation = system.simulation(\"SingleCPU\", reaction_handler=\"UncontrolledApproximation\")\n",
    "simulation.observe.number_of_particles(1, types=[\"S\", \"F\"])\n",
    "simulation.output_file = \"const_concentration.h5\"\n",
    "if os.path.exists(simulation.output_file):\n",
    "    os.remove(simulation.output_file)\n",
    "\n",
    "simulation.add_particles(\"F\", np.random.uniform(size=(1000,3)) * 10. - 5.)\n",
    "\n",
    "timestep = 5e-3\n",
    "simulation.run(50000, timestep)"
   ]
  },
  {
   "cell_type": "code",
   "execution_count": 7,
   "metadata": {},
   "outputs": [
    {
     "data": {
      "image/png": "[encoded data removed]",
      "text/plain": [
       "<Figure size 432x288 with 1 Axes>"
      ]
     },
     "metadata": {
      "needs_background": "light"
     },
     "output_type": "display_data"
    }
   ],
   "source": [
    "traj = readdy.Trajectory(simulation.output_file)\n",
    "time, counts = traj.read_observable_number_of_particles()\n",
    "\n",
    "volume = 10**3\n",
    "plt.plot(time * timestep, counts[:,0]/volume, label=r\"$[S]$\")\n",
    "plt.hlines(concentration, *plt.xlim(), label=r\"theoretical value $[S]_\\mathrm{eq}$\")\n",
    "plt.legend(loc=\"lower right\")\n",
    "plt.xlabel(r\"Time in $[\\mathrm{time}]$\")\n",
    "plt.ylabel(r\"Concentration in $[\\mathrm{length}]^{-3}$\")\n",
    "plt.show()"
   ]
  }
 ],
 "metadata": {
  "kernelspec": {
   "display_name": "Python 3",
   "language": "python",
   "name": "python3"
  },
  "language_info": {
   "codemirror_mode": {
    "name": "ipython",
    "version": 3
   },
   "file_extension": ".py",
   "mimetype": "text/x-python",
   "name": "python",
   "nbconvert_exporter": "python",
   "pygments_lexer": "ipython3",
   "version": "3.7.3"
  },
  "readdy": {
   "position": "5",
   "title": "Constant concentration"
  }
 },
 "nbformat": 4,
 "nbformat_minor": 2
}
