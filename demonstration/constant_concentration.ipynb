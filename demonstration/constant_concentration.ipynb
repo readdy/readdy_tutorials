{
 "cells": [
  {
   "cell_type": "markdown",
   "metadata": {},
   "source": [
    "This will demonstrate how to achieve a constant concentration $[S]_\\mathrm{eq}$ of S particles, where the value of $[S]_\\mathrm{eq}$ can be roughly adjusted under some approximations.\n",
    "\n",
    "Define reactions of substrate with factory particles F\n",
    "\n",
    "$$F \\rightleftharpoons F + S$$ \n",
    "\n",
    "with forward propensity (intrinsic rate constant) $f_+$ and backward propensity $f_-$. The according macroscopic rates of these processes would be $k_+$ and $k_-$. In equilibrium under assumption of the law of mass action [1]:\n",
    "\n",
    "$$\n",
    "K = \\frac{[F]_\\mathrm{eq}[S]_\\mathrm{eq}}{[F]_\\mathrm{eq}} = [S]_\\mathrm{eq}\n",
    "$$\n",
    "\n",
    "The equilibrium constant also relates $k_+$ and $k_-$, which are functions of the propensities $f_+$ and $f_-$ respectively:\n",
    "\n",
    "$$\n",
    "K = \\frac{k_+(f_+)}{k_-(f_-)}\n",
    "$$\n",
    "\n",
    "Since the \"$+$\" reaction is unimolecular we have $k_+=f_+$. The \"$-$\" reaction depends on the choice of reaction model. Here we choose the Doi model. Furthermore in equilibrium the effective \"$-$\" rate does not depend on diffusion and we can formulate it for a dilute system(well described by an isolated pair, see [2]) and in the absence of potentials yielding $k_-= f_- V_R$. The reaction volume is spherical $V_R=\\frac{4}{3}\\pi R^3$ with reaction radius $R$.\n",
    "Combining the equations above gives the constant concentration\n",
    "\n",
    "$$\n",
    "[S]_\\mathrm{eq} = \\frac{f_+}{f_- V_R}\n",
    "$$\n",
    "\n",
    "- [1] Atkins, Peter; de Paula, Julio: _Atkins’ physical chemistry_, Oxford University Press, 2006 \n",
    "- [2] Fröhner, Christoph; Noé, Frank: _Reversible interacting-particle reaction dynamics._ The Journal of Physical Chemistry B, 122.49 (2018): 11240-11250."
   ]
  },
  {
   "cell_type": "code",
   "execution_count": 1,
   "metadata": {},
   "outputs": [
    {
     "name": "stdout",
     "output_type": "stream",
     "text": [
      "v2.0.2-103\n"
     ]
    }
   ],
   "source": [
    "import os\n",
    "import numpy as np\n",
    "import matplotlib.pyplot as plt\n",
    "import readdy\n",
    "\n",
    "print(readdy.__version__)"
   ]
  },
  {
   "cell_type": "code",
   "execution_count": 2,
   "metadata": {},
   "outputs": [
    {
     "name": "stdout",
     "output_type": "stream",
     "text": [
      "2.3873241463784303\n"
     ]
    }
   ],
   "source": [
    "factory_minus_rate = 0.08\n",
    "factory_plus_rate = 0.1\n",
    "factory_reaction_radius = 0.5\n",
    "factory_reaction_volume = 4./3. * np.pi * factory_reaction_radius**3\n",
    "\n",
    "concentration = factory_plus_rate / factory_minus_rate / factory_reaction_volume\n",
    "print(concentration)"
   ]
  },
  {
   "cell_type": "code",
   "execution_count": 3,
   "metadata": {},
   "outputs": [],
   "source": [
    "system = readdy.ReactionDiffusionSystem(\n",
    "    box_size=[10.,10.,10.], \n",
    "    periodic_boundary_conditions=[True, True, True],\n",
    "    unit_system=None\n",
    ")\n",
    "\n",
    "system.add_species(\"S\", 1.)\n",
    "system.add_species(\"F\", 1.)\n",
    "\n",
    "system.reactions.add_fusion(\n",
    "    \"factory-fusion\", \"F\", \"S\", \"F\", factory_minus_rate,\n",
    "    factory_reaction_radius, weight1=0., weight2=1.)\n",
    "system.reactions.add_fission(\n",
    "    \"factory-fission\", \"F\", \"F\", \"S\", factory_plus_rate,\n",
    "    factory_reaction_radius, weight1=0., weight2=1.)"
   ]
  },
  {
   "cell_type": "code",
   "execution_count": 4,
   "metadata": {},
   "outputs": [
    {
     "name": "stderr",
     "output_type": "stream",
     "text": [
      "  0%|          | 9/5000 [00:00<00:58, 85.55it/s]"
     ]
    },
    {
     "name": "stdout",
     "output_type": "stream",
     "text": [
      "Configured kernel context with:\n",
      "--------------------------------\n",
      " - kBT = 1\n",
      " - periodic b.c. = (true, true, true)\n",
      " - box size = (10, 10, 10)\n",
      " - particle types:\n",
      "     *  particle type \"F\" with D=1\n",
      "     *  particle type \"S\" with D=1\n",
      " - unimolecular reactions:\n",
      "     * Fission F -> F + S with a rate of 0.1, a product distance of 0.5, and weights 0 and 1\n",
      " - bimolecular reactions:\n",
      "     * Fusion F + S -> F with a rate of 0.08, an educt distance of 0.5, and weights 0 and 1\n",
      "\n",
      "Configured simulation loop with:\n",
      "--------------------------------\n",
      " - timeStep = 0.005\n",
      " - evaluateObservables = true\n",
      " - progressOutputStride = 100\n",
      " - context written to file = true\n",
      " - Performing actions:\n",
      "   * Initialize neighbor list? true\n",
      "   * Update neighbor list? true\n",
      "   * Clear neighbor list? true\n",
      "   * Integrate diffusion? true\n",
      "   * Calculate forces? true\n",
      "   * Handle reactions? true\n",
      "   * Handle topology reactions? true\n",
      "\n"
     ]
    },
    {
     "name": "stderr",
     "output_type": "stream",
     "text": [
      "100%|██████████| 5000/5000 [03:09<00:00, 26.39it/s]\n"
     ]
    }
   ],
   "source": [
    "simulation = system.simulation(\"SingleCPU\", reaction_handler=\"UncontrolledApproximation\")\n",
    "simulation.observe.number_of_particles(1, types=[\"S\", \"F\"])\n",
    "simulation.output_file = \"const_concentration.h5\"\n",
    "\n",
    "if os.path.exists(simulation.output_file):\n",
    "    os.remove(simulation.output_file)\n",
    "\n",
    "simulation.add_particles(\"F\", np.random.uniform(size=(1000,3)) * 10. - 5.)\n",
    "\n",
    "timestep = 5e-3\n",
    "simulation.run(50000, timestep)"
   ]
  },
  {
   "cell_type": "code",
   "execution_count": 5,
   "metadata": {},
   "outputs": [
    {
     "data": {
      "image/png": "[encoded data removed]",
      "text/plain": [
       "<Figure size 432x288 with 1 Axes>"
      ]
     },
     "metadata": {
      "needs_background": "light"
     },
     "output_type": "display_data"
    }
   ],
   "source": [
    "traj = readdy.Trajectory(simulation.output_file)\n",
    "time, counts = traj.read_observable_number_of_particles()\n",
    "\n",
    "volume = 10**3\n",
    "plt.plot(time * timestep, counts[:,0]/volume, label=r\"$[S]$\")\n",
    "plt.hlines(concentration, *plt.xlim(), label=r\"theoretical value $[S]_\\mathrm{eq}$\")\n",
    "plt.legend(loc=\"lower right\")\n",
    "plt.xlabel(r\"Time in $[\\mathrm{time}]$\")\n",
    "plt.ylabel(r\"Concentration in $[\\mathrm{length}]^{-3}$\")\n",
    "plt.show()"
   ]
  }
 ],
 "metadata": {
  "kernelspec": {
   "display_name": "Python 3",
   "language": "python",
   "name": "python3"
  },
  "language_info": {
   "codemirror_mode": {
    "name": "ipython",
    "version": 3
   },
   "file_extension": ".py",
   "mimetype": "text/x-python",
   "name": "python",
   "nbconvert_exporter": "python",
   "pygments_lexer": "ipython3",
   "version": "3.7.3"
  },
  "readdy": {
   "position": "5",
   "title": "Constant concentration"
  }
 },
 "nbformat": 4,
 "nbformat_minor": 2
}
