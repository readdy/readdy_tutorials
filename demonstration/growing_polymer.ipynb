{
 "cells": [
  {
   "cell_type": "code",
   "execution_count": 1,
   "metadata": {},
   "outputs": [
    {
     "name": "stderr",
     "output_type": "stream",
     "text": [
      "/home/chris/miniconda3/envs/tutorials/lib/python3.6/site-packages/h5py/__init__.py:36: FutureWarning: Conversion of the second argument of issubdtype from `float` to `np.floating` is deprecated. In future, it will be treated as `np.float64 == np.dtype(float).type`.\n",
      "  from ._conv import register_converters as _register_converters\n"
     ]
    }
   ],
   "source": [
    "import numpy as np\n",
    "import readdy\n",
    "import os"
   ]
  },
  {
   "cell_type": "code",
   "execution_count": 2,
   "metadata": {},
   "outputs": [],
   "source": [
    "system = readdy.ReactionDiffusionSystem(box_size=[30., 30., 30.])"
   ]
  },
  {
   "cell_type": "code",
   "execution_count": 3,
   "metadata": {},
   "outputs": [],
   "source": [
    "system.add_species(\"Substrate\", 1.)\n",
    "system.topologies.add_type(\"Polymer\")\n",
    "system.add_topology_species(\"Head\", 1.)\n",
    "system.add_topology_species(\"Core\", 1.)"
   ]
  },
  {
   "cell_type": "code",
   "execution_count": 4,
   "metadata": {},
   "outputs": [],
   "source": [
    "system.topologies.configure_harmonic_bond(\"Head\", \"Core\", force_constant=70, length=1.)\n",
    "system.topologies.configure_harmonic_bond(\"Core\", \"Core\", force_constant=70, length=1.)\n",
    "system.topologies.configure_harmonic_angle(\"Core\", \"Core\", \"Core\", force_constant=5., equilibrium_angle=np.pi)\n",
    "\n",
    "system.potentials.add_harmonic_repulsion(\"Core\", \"Core\", force_constant=70., interaction_distance=1.)"
   ]
  },
  {
   "cell_type": "code",
   "execution_count": 5,
   "metadata": {},
   "outputs": [],
   "source": [
    "system.topologies.add_spatial_reaction(\n",
    "    \"Bind: Polymer(Head) + (Substrate) -> Polymer(Core--Head)\", \n",
    "    rate=10.0, radius=1.5\n",
    ")"
   ]
  },
  {
   "cell_type": "code",
   "execution_count": 6,
   "metadata": {},
   "outputs": [],
   "source": [
    "simulation = system.simulation(kernel=\"SingleCPU\")"
   ]
  },
  {
   "cell_type": "code",
   "execution_count": 7,
   "metadata": {},
   "outputs": [],
   "source": [
    "init_top_pos = np.array([\n",
    "    [ 1. ,0. ,0.],\n",
    "    [ 0. ,0. ,0.],\n",
    "    [-1. ,0. ,0.]\n",
    "])\n",
    "top = simulation.add_topology(\"Polymer\", [\"Head\", \"Core\", \"Head\"], init_top_pos)\n",
    "top.get_graph().add_edge(0, 1)\n",
    "top.get_graph().add_edge(1, 2)"
   ]
  },
  {
   "cell_type": "code",
   "execution_count": 8,
   "metadata": {},
   "outputs": [],
   "source": [
    "n_particles = 500\n",
    "positions = np.random.uniform(size=(500,3)) * system.box_size.magnitude - system.box_size.magnitude * 0.5\n",
    "simulation.add_particles(\"Substrate\", positions)"
   ]
  },
  {
   "cell_type": "code",
   "execution_count": 9,
   "metadata": {},
   "outputs": [],
   "source": [
    "simulation.output_file = 'growing_polymer.h5'\n",
    "if os.path.exists(simulation.output_file):\n",
    "    os.remove(simulation.output_file)\n",
    "simulation.observe.topologies(10)\n",
    "simulation.record_trajectory(10)\n",
    "simulation.progress_output_stride = 10"
   ]
  },
  {
   "cell_type": "code",
   "execution_count": 10,
   "metadata": {},
   "outputs": [
    {
     "name": "stdout",
     "output_type": "stream",
     "text": [
      "Configured kernel context with:\n",
      "--------------------------------\n",
      " - kBT = 2.43614\n",
      " - periodic b.c. = (true, true, true)\n",
      " - box size = (30, 30, 30)\n",
      " - particle types:\n",
      "     * Topology particle type \"Core\" with D=1\n",
      "     *  particle type \"Substrate\" with D=1\n",
      "     * Topology particle type \"Head\" with D=1\n",
      " - potentials of order 2:\n",
      "     * for types \"Core\" and \"Core\"\n",
      "         * Harmonic repulsion with force constant k=70\n",
      " - topology potential configuration:\n",
      "     - bonds (2):\n",
      "         - Bonds for particle types Core and Core:\n",
      "             * Harmonic bond with force constant 70 and length 1\n",
      "         - Bonds for particle types Head and Core:\n",
      "             * Harmonic bond with force constant 70 and length 1\n",
      "     - angles (1):\n",
      "             * Harmonic angle with force constant 5 and equilibrium angle 3.14159\n",
      " - topology types:\n",
      "     * topology type \"Polymer\" with 0 structural reactions\n",
      " - spatial topology reactions:\n",
      "     * Topology-particle fusion reaction \"Bind: Polymer(Head) + (Substrate) -> Polymer(Core--Head)\"\n",
      "\n"
     ]
    },
    {
     "data": {
      "application/vnd.jupyter.widget-view+json": {
       "model_id": "2980448feaf74ab0ab41925832c822d1",
       "version_major": 2,
       "version_minor": 0
      },
      "text/html": [
       "<p>Failed to display Jupyter Widget of type <code>HBox</code>.</p>\n",
       "<p>\n",
       "  If you're reading this message in the Jupyter Notebook or JupyterLab Notebook, it may mean\n",
       "  that the widgets JavaScript is still loading. If this message persists, it\n",
       "  likely means that the widgets JavaScript library is either not installed or\n",
       "  not enabled. See the <a href=\"https://ipywidgets.readthedocs.io/en/stable/user_install.html\">Jupyter\n",
       "  Widgets Documentation</a> for setup instructions.\n",
       "</p>\n",
       "<p>\n",
       "  If you're reading this message in another frontend (for example, a static\n",
       "  rendering on GitHub or <a href=\"https://nbviewer.jupyter.org/\">NBViewer</a>),\n",
       "  it may mean that your frontend doesn't currently support widgets.\n",
       "</p>\n"
      ],
      "text/plain": [
       "HBox(children=(HBox(children=(Label(value='Simulation progress'),), layout=Layout(max_width='35%', min_width='35%')), HBox(children=(IntProgress(value=0, max=20000), HTML(value='')), layout=Layout(padding='0 0 0 20px'))), layout=Layout(display='flex', width='100%'))"
      ]
     },
     "metadata": {},
     "output_type": "display_data"
    },
    {
     "name": "stdout",
     "output_type": "stream",
     "text": [
      "\r"
     ]
    }
   ],
   "source": [
    "simulation.run(200000, .001)"
   ]
  },
  {
   "cell_type": "code",
   "execution_count": 11,
   "metadata": {},
   "outputs": [],
   "source": [
    "traj = readdy.Trajectory(simulation.output_file)\n",
    "time, topology_records = traj.read_observable_topologies()"
   ]
  },
  {
   "cell_type": "code",
   "execution_count": 12,
   "metadata": {},
   "outputs": [],
   "source": [
    "chain_length = [ len(tops[0].particles) for tops in topology_records ]"
   ]
  },
  {
   "cell_type": "code",
   "execution_count": 13,
   "metadata": {},
   "outputs": [
    {
     "data": {
      "image/png": "[encoded data removed]",
      "text/plain": [
       "<matplotlib.figure.Figure at 0x7fbab8057dd8>"
      ]
     },
     "metadata": {},
     "output_type": "display_data"
    }
   ],
   "source": [
    "%matplotlib inline\n",
    "import matplotlib.pyplot as plt\n",
    "plt.plot(time, chain_length)\n",
    "plt.show()"
   ]
  }
 ],
 "metadata": {
  "kernelspec": {
   "display_name": "Python 3",
   "language": "python",
   "name": "python3"
  },
  "language_info": {
   "codemirror_mode": {
    "name": "ipython",
    "version": 3
   },
   "file_extension": ".py",
   "mimetype": "text/x-python",
   "name": "python",
   "nbconvert_exporter": "python",
   "pygments_lexer": "ipython3",
   "version": "3.6.4"
  },
  "readdy": {
   "position": "3",
   "title": "Growing polymer"
  }
 },
 "nbformat": 4,
 "nbformat_minor": 2
}
