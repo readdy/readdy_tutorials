{
 "cells": [
  {
   "cell_type": "code",
   "execution_count": 1,
   "metadata": {},
   "outputs": [],
   "source": [
    "import numpy as np\n",
    "import readdy\n",
    "import os"
   ]
  },
  {
   "cell_type": "code",
   "execution_count": 2,
   "metadata": {},
   "outputs": [
    {
     "data": {
      "text/plain": [
       "'v2.0.3-27'"
      ]
     },
     "execution_count": 2,
     "metadata": {},
     "output_type": "execute_result"
    }
   ],
   "source": [
    "readdy.__version__"
   ]
  },
  {
   "cell_type": "markdown",
   "metadata": {},
   "source": [
    "### Set up reaction-diffusion system"
   ]
  },
  {
   "cell_type": "code",
   "execution_count": 3,
   "metadata": {},
   "outputs": [],
   "source": [
    "system = readdy.ReactionDiffusionSystem(box_size=[30., 30., 30.])"
   ]
  },
  {
   "cell_type": "code",
   "execution_count": 4,
   "metadata": {},
   "outputs": [],
   "source": [
    "system.add_species(\"Substrate\", 1.)\n",
    "system.topologies.add_type(\"Polymer\")\n",
    "system.add_topology_species(\"Head\", 1.)\n",
    "system.add_topology_species(\"Core\", 1.)"
   ]
  },
  {
   "cell_type": "code",
   "execution_count": 5,
   "metadata": {},
   "outputs": [],
   "source": [
    "system.topologies.configure_harmonic_bond(\"Head\", \"Core\", force_constant=70, length=1.)\n",
    "system.topologies.configure_harmonic_bond(\"Core\", \"Core\", force_constant=70, length=1.)\n",
    "system.topologies.configure_harmonic_angle(\"Core\", \"Core\", \"Core\", force_constant=5., equilibrium_angle=np.pi)\n",
    "\n",
    "system.potentials.add_harmonic_repulsion(\"Core\", \"Core\", force_constant=70., interaction_distance=1.)"
   ]
  },
  {
   "cell_type": "markdown",
   "metadata": {},
   "source": [
    "Define reaction that is called \"Bind\" and attaches a \"Substrate\" particle to a \"Polymer\" topologies \"Head\" particle with a fixed rate once they are close enough, changing types from \"Head\" to \"Core\" and from \"Substrate\" to \"Head\"."
   ]
  },
  {
   "cell_type": "code",
   "execution_count": 6,
   "metadata": {},
   "outputs": [],
   "source": [
    "system.topologies.add_spatial_reaction(\n",
    "    \"Bind: Polymer(Head) + (Substrate) -> Polymer(Core--Head)\", \n",
    "    rate=10.0, radius=1.5\n",
    ")"
   ]
  },
  {
   "cell_type": "markdown",
   "metadata": {},
   "source": [
    "### Set up simulation"
   ]
  },
  {
   "cell_type": "code",
   "execution_count": 7,
   "metadata": {},
   "outputs": [],
   "source": [
    "simulation = system.simulation(kernel=\"SingleCPU\")"
   ]
  },
  {
   "cell_type": "markdown",
   "metadata": {},
   "source": [
    "One initial topology with three particles (`Head--Core--Head`)."
   ]
  },
  {
   "cell_type": "code",
   "execution_count": 8,
   "metadata": {},
   "outputs": [],
   "source": [
    "init_top_pos = np.array([\n",
    "    [ 1. ,0. ,0.],\n",
    "    [ 0. ,0. ,0.],\n",
    "    [-1. ,0. ,0.]\n",
    "])\n",
    "top = simulation.add_topology(\"Polymer\", [\"Head\", \"Core\", \"Head\"], init_top_pos)\n",
    "top.get_graph().add_edge(0, 1)\n",
    "top.get_graph().add_edge(1, 2)"
   ]
  },
  {
   "cell_type": "markdown",
   "metadata": {},
   "source": [
    "Some substrate particles, randomly distributed in the simulation box."
   ]
  },
  {
   "cell_type": "code",
   "execution_count": 9,
   "metadata": {},
   "outputs": [],
   "source": [
    "n_particles = 500\n",
    "positions = np.random.uniform(size=(500,3)) * system.box_size.magnitude - system.box_size.magnitude * 0.5\n",
    "simulation.add_particles(\"Substrate\", positions)"
   ]
  },
  {
   "cell_type": "markdown",
   "metadata": {},
   "source": [
    "Save the trajectory and topologies observable to an output file (which is removed if it already exists)."
   ]
  },
  {
   "cell_type": "code",
   "execution_count": 10,
   "metadata": {},
   "outputs": [],
   "source": [
    "simulation.output_file = 'growing_polymer.h5'\n",
    "if os.path.exists(simulation.output_file):\n",
    "    os.remove(simulation.output_file)\n",
    "simulation.observe.topologies(10)\n",
    "simulation.record_trajectory(10)\n",
    "simulation.progress_output_stride = 10"
   ]
  },
  {
   "cell_type": "markdown",
   "metadata": {},
   "source": [
    "Run the simulation."
   ]
  },
  {
   "cell_type": "code",
   "execution_count": 11,
   "metadata": {},
   "outputs": [
    {
     "name": "stderr",
     "output_type": "stream",
     "text": [
      "  0%|          | 20/20000 [00:00<01:42, 195.66it/s]"
     ]
    },
    {
     "name": "stdout",
     "output_type": "stream",
     "text": [
      "Configured kernel context with:\n",
      "--------------------------------\n",
      " - kBT = 2.43614\n",
      " - periodic b.c. = (true, true, true)\n",
      " - box size = (30.0, 30.0, 30.0)\n",
      " - particle types:\n",
      "     * Topology particle type \"Core\" with D=1.0\n",
      "     *  particle type \"Substrate\" with D=1.0\n",
      "     * Topology particle type \"Head\" with D=1.0\n",
      " - potentials of order 2:\n",
      "     * for types \"Core\" and \"Core\"\n",
      "         * Harmonic repulsion with Force constant k=70.0\n",
      " - topology potential configuration:\n",
      "     - bonds (2):\n",
      "         - Bonds for particle types Core and Core:\n",
      "             * Harmonic bond with force constant 70.0 and length 1.0\n",
      "         - Bonds for particle types Head and Core:\n",
      "             * Harmonic bond with force constant 70.0 and length 1.0\n",
      "     - angles (1):\n",
      "             * Harmonic angle with force constant 5.0 and equilibrium angle 3.14159\n",
      " - topology types:\n",
      "     * topology type \"Polymer\" with 0 structural reactions\n",
      " - spatial topology reactions:\n",
      "     * Topology-particle fusion reaction \"Bind: Polymer(Head) + (Substrate) -> Polymer(Core--Head)\"\n",
      "\n",
      "Configured simulation loop with:\n",
      "--------------------------------\n",
      " - timeStep = 0.00100000\n",
      " - evaluateObservables = true\n",
      " - progressOutputStride = 100\n",
      " - context written to file = true\n",
      " - Performing actions:\n",
      "   * Initialize neighbor list? true\n",
      "   * Update neighbor list? true\n",
      "   * Clear neighbor list? true\n",
      "   * Integrate diffusion? true\n",
      "   * Calculate forces? true\n",
      "   * Handle reactions? true\n",
      "   * Handle topology reactions? true\n",
      "\n"
     ]
    },
    {
     "name": "stderr",
     "output_type": "stream",
     "text": [
      "100%|██████████| 20000/20000 [01:35<00:00, 208.84it/s]\n"
     ]
    }
   ],
   "source": [
    "simulation.run(200000, .001)"
   ]
  },
  {
   "cell_type": "markdown",
   "metadata": {},
   "source": [
    "Read back the recorded data."
   ]
  },
  {
   "cell_type": "code",
   "execution_count": 12,
   "metadata": {},
   "outputs": [],
   "source": [
    "traj = readdy.Trajectory(simulation.output_file)\n",
    "time, topology_records = traj.read_observable_topologies()"
   ]
  },
  {
   "cell_type": "markdown",
   "metadata": {},
   "source": [
    "The `topology_records` object is a list of lists, each outer element representing a frame and each frame containing a list of topologies at that point of the simulation."
   ]
  },
  {
   "cell_type": "code",
   "execution_count": 13,
   "metadata": {},
   "outputs": [],
   "source": [
    "chain_length = [ len(tops[0].particles) for tops in topology_records ]"
   ]
  },
  {
   "cell_type": "code",
   "execution_count": 14,
   "metadata": {},
   "outputs": [
    {
     "data": {
      "image/png": "[encoded data removed]",
      "text/plain": [
       "<Figure size 432x288 with 1 Axes>"
      ]
     },
     "metadata": {
      "needs_background": "light"
     },
     "output_type": "display_data"
    }
   ],
   "source": [
    "%matplotlib inline\n",
    "import matplotlib.pyplot as plt\n",
    "plt.plot(time, chain_length)\n",
    "plt.show()"
   ]
  }
 ],
 "metadata": {
  "kernelspec": {
   "display_name": "Python 3",
   "language": "python",
   "name": "python3"
  },
  "language_info": {
   "codemirror_mode": {
    "name": "ipython",
    "version": 3
   },
   "file_extension": ".py",
   "mimetype": "text/x-python",
   "name": "python",
   "nbconvert_exporter": "python",
   "pygments_lexer": "ipython3",
   "version": "3.8.6"
  },
  "readdy": {
   "position": "3",
   "title": "Growing polymer"
  }
 },
 "nbformat": 4,
 "nbformat_minor": 2
}
