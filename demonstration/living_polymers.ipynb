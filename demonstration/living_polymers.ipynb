{
 "cells": [
  {
   "cell_type": "code",
   "execution_count": 2,
   "metadata": {},
   "outputs": [],
   "source": [
    "import numpy as np\n",
    "import readdy\n",
    "import matplotlib.pyplot as plt\n",
    "import os\n",
    "from collections import defaultdict"
   ]
  },
  {
   "cell_type": "code",
   "execution_count": 3,
   "metadata": {},
   "outputs": [
    {
     "data": {
      "text/plain": [
       "'v1.0.1-0'"
      ]
     },
     "execution_count": 3,
     "metadata": {},
     "output_type": "execute_result"
    }
   ],
   "source": [
    "readdy.__version__"
   ]
  },
  {
   "cell_type": "code",
   "execution_count": 4,
   "metadata": {},
   "outputs": [],
   "source": [
    "system = readdy.ReactionDiffusionSystem(box_size=[100, 100, 100])"
   ]
  },
  {
   "cell_type": "code",
   "execution_count": 5,
   "metadata": {},
   "outputs": [],
   "source": [
    "system.topologies.add_type(\"Polymer\")\n",
    "system.add_topology_species(\"Head\", .002)\n",
    "system.add_topology_species(\"Tail\", .002)"
   ]
  },
  {
   "cell_type": "code",
   "execution_count": 6,
   "metadata": {},
   "outputs": [],
   "source": [
    "system.topologies.configure_harmonic_bond(\"Head\", \"Tail\", force_constant=50, length=1.)\n",
    "system.topologies.configure_harmonic_bond(\"Tail\", \"Tail\", force_constant=50, length=1.)\n",
    "system.topologies.configure_harmonic_bond(\"Head\", \"Head\", force_constant=50, length=1.)\n",
    "system.topologies.configure_harmonic_angle(\"Head\", \"Tail\", \"Tail\", force_constant=10, equilibrium_angle=np.pi)\n",
    "system.topologies.configure_harmonic_angle(\"Tail\", \"Tail\", \"Tail\", force_constant=10, equilibrium_angle=np.pi)"
   ]
  },
  {
   "cell_type": "code",
   "execution_count": 7,
   "metadata": {},
   "outputs": [],
   "source": [
    "# dissociation\n",
    "def dissociation_rate_function(topology):\n",
    "    edges = topology.get_graph().get_edges()\n",
    "    return .000005 * float(len(edges)) if len(edges) > 2 else 0.\n",
    "def dissociation_reaction_function(topology):\n",
    "    recipe = readdy.StructuralReactionRecipe(topology)\n",
    "    edges = topology.get_graph().get_edges()\n",
    "    vertices = topology.get_graph().get_vertices()\n",
    "    \n",
    "    # at least a structure like\n",
    "    # v1 -- v2 -- v3 -- v4\n",
    "    if len(edges) > 2:\n",
    "        # find the end particles\n",
    "        counts = defaultdict(int)\n",
    "        for e in edges:\n",
    "            pix1 = e[0].get().particle_index\n",
    "            pix2 = e[1].get().particle_index\n",
    "            counts[pix1] += 1\n",
    "            counts[pix2] += 1\n",
    "        \n",
    "        # the end particles are the ones that have exactly one edge leading from/to them\n",
    "        endpoints = []\n",
    "        for pix in counts.keys():\n",
    "            if counts[pix] == 1:\n",
    "                endpoints.append(pix)\n",
    "\n",
    "        assert len(endpoints) == 2, \"the number of end points should always be 2 \\\n",
    "                but was {} (counts: {})\".format(len(endpoints), counts)\n",
    "\n",
    "        # draw an edge excluding the edges leading to the both ends\n",
    "        edge_index = np.random.randint(0, len(edges) - 2)\n",
    "        removed_edge = None\n",
    "        # for each edge in the graph\n",
    "        for e in edges:\n",
    "            pix1 = e[0].get().particle_index\n",
    "            pix2 = e[1].get().particle_index\n",
    "            # check if it belongs to one of the end vertices\n",
    "            if pix1 not in endpoints and pix2 not in endpoints:\n",
    "                # if not, reduce edge_index until 0\n",
    "                if edge_index == 0:\n",
    "                    # remove this edge\n",
    "                    recipe.remove_edge(e)\n",
    "                    removed_edge = e\n",
    "                    break\n",
    "                else:\n",
    "                    edge_index -= 1\n",
    "\n",
    "        assert removed_edge is not None\n",
    "\n",
    "        pix1 = removed_edge[0].get().particle_index\n",
    "        pix2 = removed_edge[1].get().particle_index\n",
    "\n",
    "        assert pix1 not in endpoints\n",
    "        assert pix2 not in endpoints\n",
    "\n",
    "        # since the edge was removed we now have two topologies and need to set the correct particle types\n",
    "        recipe.change_particle_type([vix for vix, v in enumerate(vertices) if v.particle_index == pix1][0], \"Head\")\n",
    "        recipe.change_particle_type([vix for vix, v in enumerate(vertices) if v.particle_index == pix2][0], \"Head\")\n",
    "    else:\n",
    "        print(\"this should not have happened\")\n",
    "    return recipe\n",
    "system.topologies.add_structural_reaction(\"Polymer\", dissociation_reaction_function, dissociation_rate_function)"
   ]
  },
  {
   "cell_type": "code",
   "execution_count": 8,
   "metadata": {},
   "outputs": [],
   "source": [
    "system.topologies.add_spatial_reaction(\"Association: Polymer(Head) + Polymer(Head) -> Polymer(Tail--Tail)\", \n",
    "                                       rate=1.0, radius=1.0)"
   ]
  },
  {
   "cell_type": "code",
   "execution_count": 9,
   "metadata": {},
   "outputs": [],
   "source": [
    "simulation = system.simulation(kernel=\"CPU\")"
   ]
  },
  {
   "cell_type": "code",
   "execution_count": 10,
   "metadata": {},
   "outputs": [],
   "source": [
    "# randomly place some polymers of length 4\n",
    "n_polymers = 500\n",
    "for head in range(n_polymers):\n",
    "    head_position = 80. * np.random.random((1, 3)) - 40.\n",
    "    offset1 = 2.*np.random.random((1, 3))-1.\n",
    "    offset1 /= np.linalg.norm(offset1)\n",
    "    tail1 = head_position + offset1\n",
    "    offset2 = 2.*np.random.random((1, 3))-1.\n",
    "    offset2 /= np.linalg.norm(offset2)\n",
    "    tail2 = head_position + offset1 + offset2\n",
    "    offset3 = 2.*np.random.random((1, 3)) - 1.\n",
    "    offset3 /= np.linalg.norm(offset3)\n",
    "    head_position2 = head_position + offset1 + offset2 + offset3\n",
    "\n",
    "    top = simulation.add_topology(\"Polymer\", [\"Head\", \"Tail\", \"Tail\", \"Head\"],\n",
    "                                  np.array([head_position, tail1, tail2, head_position2]).squeeze())\n",
    "    top.get_graph().add_edge(0, 1)\n",
    "    top.get_graph().add_edge(1, 2)\n",
    "    top.get_graph().add_edge(2, 3)"
   ]
  },
  {
   "cell_type": "code",
   "execution_count": 11,
   "metadata": {},
   "outputs": [],
   "source": [
    "simulation.output_file = '/srv/public/clonker/out/living_polymers.h5'\n",
    "simulation.observe.topologies(300)\n",
    "simulation.record_trajectory(300)\n",
    "simulation.progress_output_stride = 10\n",
    "simulation.show_progress = True"
   ]
  },
  {
   "cell_type": "code",
   "execution_count": 12,
   "metadata": {},
   "outputs": [
    {
     "name": "stdout",
     "output_type": "stream",
     "text": [
      "Configured kernel context with:\n",
      "--------------------------------\n",
      " - kBT = 2.43614\n",
      " - periodic b.c. = (true, true, true)\n",
      " - box size = (100, 100, 100)\n",
      " - particle types:\n",
      "     * Topology particle type \"Tail\" with D=0.002\n",
      "     * Topology particle type \"Head\" with D=0.002\n",
      " - topology potential configuration:\n",
      "     - bonds (3):\n",
      "         - Bonds for particle types Head and Head:\n",
      "             * Harmonic bond with force constant 50 and length 1\n",
      "         - Bonds for particle types Head and Tail:\n",
      "             * Harmonic bond with force constant 50 and length 1\n",
      "         - Bonds for particle types Tail and Tail:\n",
      "             * Harmonic bond with force constant 50 and length 1\n",
      "     - angles (2):\n",
      "             * Harmonic angle with force constant 10 and equilibrium angle 3.14159\n",
      "             * Harmonic angle with force constant 10 and equilibrium angle 3.14159\n",
      " - topology types:\n",
      "     * topology type \"Polymer\" with 1 structural reactions\n",
      " - spatial topology reactions:\n",
      "     * Topology-topology fusion reaction \"Association: Polymer(Head) + Polymer(Head) -> Polymer(Tail--Tail)\"\n",
      " - structural topology reactions:\n",
      "     - for topology type \"Polymer\" with 1 structural reactions:\n",
      "         * reaction with roll_back = false and create child topologies = true\n",
      "\n"
     ]
    },
    {
     "data": {
      "application/vnd.jupyter.widget-view+json": {
       "model_id": "",
       "version_major": 2,
       "version_minor": 0
      },
      "text/plain": [
       "HBox(children=(HBox(children=(Label(value='Simulation progress'),), layout=Layout(max_width='35%', min_width='…"
      ]
     },
     "metadata": {},
     "output_type": "display_data"
    },
    {
     "name": "stdout",
     "output_type": "stream",
     "text": [
      "\r"
     ]
    }
   ],
   "source": [
    "timestep = 1.\n",
    "if os.path.exists(simulation.output_file):\n",
    "    os.remove(simulation.output_file)\n",
    "simulation.run(50000, timestep)"
   ]
  },
  {
   "cell_type": "code",
   "execution_count": 13,
   "metadata": {},
   "outputs": [],
   "source": [
    "# read back topologies\n",
    "t = readdy.Trajectory(simulation.output_file)\n",
    "time, topology_records = t.read_observable_topologies()"
   ]
  },
  {
   "cell_type": "code",
   "execution_count": 14,
   "metadata": {},
   "outputs": [
    {
     "data": {
      "image/png": "[encoded data removed]",
      "text/plain": [
       "<Figure size 432x288 with 1 Axes>"
      ]
     },
     "metadata": {},
     "output_type": "display_data"
    }
   ],
   "source": [
    "# gather average length of topologies for respective time step\n",
    "avg_length = []\n",
    "# for each time step\n",
    "for topologies in topology_records:\n",
    "    # gather average polymer length\n",
    "    avg_length.append(0)\n",
    "    for top in topologies:\n",
    "        avg_length[-1] += len(top.edges)\n",
    "    avg_length[-1] /= len(topologies)\n",
    "f, ax = plt.subplots(nrows=1, ncols=1)\n",
    "ax.plot(time, avg_length)\n",
    "ax.set_title('average length')\n",
    "ax.set_xlabel('time')\n",
    "ax.set_ylabel('# beads')\n",
    "plt.show()"
   ]
  },
  {
   "cell_type": "code",
   "execution_count": 13,
   "metadata": {},
   "outputs": [
    {
     "data": {
      "image/jpeg": "[encoded data removed]",
      "text/html": [
       "\n",
       "        <iframe\n",
       "            width=\"400\"\n",
       "            height=\"300\"\n",
       "            src=\"https://www.youtube.com/embed/1fZqbZRQnEQ\"\n",
       "            frameborder=\"0\"\n",
       "            allowfullscreen\n",
       "        ></iframe>\n",
       "        "
      ],
      "text/plain": [
       "<IPython.lib.display.YouTubeVideo at 0x7fbcc7948ba8>"
      ]
     },
     "execution_count": 13,
     "metadata": {},
     "output_type": "execute_result"
    }
   ],
   "source": [
    "from IPython.display import YouTubeVideo\n",
    "YouTubeVideo('1fZqbZRQnEQ')"
   ]
  }
 ],
 "metadata": {
  "kernelspec": {
   "display_name": "Python 3",
   "language": "python",
   "name": "python3"
  },
  "language_info": {
   "codemirror_mode": {
    "name": "ipython",
    "version": 3
   },
   "file_extension": ".py",
   "mimetype": "text/x-python",
   "name": "python",
   "nbconvert_exporter": "python",
   "pygments_lexer": "ipython3",
   "version": "3.6.5"
  },
  "readdy": {
   "position": "4",
   "title": "Living polymers"
  }
 },
 "nbformat": 4,
 "nbformat_minor": 2
}
