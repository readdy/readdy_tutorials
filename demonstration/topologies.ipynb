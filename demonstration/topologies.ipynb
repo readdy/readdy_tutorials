{
 "cells": [
  {
   "cell_type": "code",
   "execution_count": 1,
   "metadata": {
    "collapsed": true
   },
   "outputs": [],
   "source": [
    "import numpy as np\n",
    "import readdy"
   ]
  },
  {
   "cell_type": "markdown",
   "metadata": {},
   "source": [
    "Step 1: Define the system"
   ]
  },
  {
   "cell_type": "code",
   "execution_count": 2,
   "metadata": {
    "collapsed": true
   },
   "outputs": [],
   "source": [
    "system = readdy.ReactionDiffusionSystem()\n",
    "system.box_size = 150,150,150\n",
    "system.kbt = 1.35\n",
    "system.periodic_boundary_conditions = False, False, False"
   ]
  },
  {
   "cell_type": "code",
   "execution_count": 3,
   "metadata": {
    "collapsed": true
   },
   "outputs": [],
   "source": [
    "system.add_species(\"Ligand\", diffusion_constant=3.)\n",
    "system.add_species(\"Decay\", diffusion_constant=1.)\n",
    "system.add_topology_species(\"T\", diffusion_constant=1.)\n",
    "system.add_topology_species(\"unstable T\", diffusion_constant=1.)"
   ]
  },
  {
   "cell_type": "markdown",
   "metadata": {},
   "source": [
    "Add a decay reaction for \"Decay\" praticles and harmonic repulsion between \"unstable T\" and \"Decay\""
   ]
  },
  {
   "cell_type": "code",
   "execution_count": 4,
   "metadata": {
    "collapsed": true
   },
   "outputs": [],
   "source": [
    "system.reactions.add(\"decay: Decay ->\", .1)\n",
    "system.potentials.add_box(\"Ligand\", 10., [-70, -70, -70], [130, 130, 130])\n",
    "system.potentials.add_box(\"Decay\", 10., [-70, -70, -70], [130, 130, 130])\n",
    "system.potentials.add_box(\"T\", 10., [-70, -70, -70], [130, 130, 130])\n",
    "system.potentials.add_box(\"unstable T\", 10., [-70, -70, -70], [130, 130, 130])\n",
    "system.potentials.add_harmonic_repulsion(\"Decay\", \"unstable T\", force_constant=20., \n",
    "                                         interaction_distance=2.)"
   ]
  },
  {
   "cell_type": "markdown",
   "metadata": {},
   "source": [
    "Add\n",
    "- harmonic bonds and angles between pairs/triples of \"T\" and \"unstable T\"\n",
    "- three topology types: stable (with no topology reactions), intermediate, and unstable"
   ]
  },
  {
   "cell_type": "code",
   "execution_count": 5,
   "metadata": {
    "collapsed": true
   },
   "outputs": [],
   "source": [
    "system.topologies.configure_harmonic_bond(\"T\", \"T\", force_constant=20., length=2.)\n",
    "system.topologies.configure_harmonic_bond(\"unstable T\", \"unstable T\", force_constant=20., \n",
    "                                          length=2.)\n",
    "\n",
    "system.topologies.add_type(\"stable\")\n",
    "system.topologies.add_type(\"intermediate\")\n",
    "system.topologies.add_type(\"unstable\")"
   ]
  },
  {
   "cell_type": "markdown",
   "metadata": {},
   "source": [
    "Change the topology type from stable to intermediate"
   ]
  },
  {
   "cell_type": "code",
   "execution_count": 6,
   "metadata": {
    "collapsed": true
   },
   "outputs": [],
   "source": [
    "system.topologies.add_spatial_reaction(\n",
    "    \"encounter: stable(T) + (Ligand) -> intermediate(T) + (Ligand)\", \n",
    "    rate=10.0, radius=2.0\n",
    ")"
   ]
  },
  {
   "cell_type": "markdown",
   "metadata": {},
   "source": [
    "Change the topology type from intermediate to unstable, change particle types from T to unstable T"
   ]
  },
  {
   "cell_type": "code",
   "execution_count": 7,
   "metadata": {
    "collapsed": true
   },
   "outputs": [],
   "source": [
    "def intermediate_rate_function(topology):\n",
    "    return 1e3\n",
    "def intermediate_reaction_function(topology):\n",
    "    recipe = readdy.StructuralReactionRecipe(topology)\n",
    "    for i in range(len(topology.get_graph().get_vertices())):\n",
    "        recipe.change_particle_type(i, \"unstable T\")\n",
    "    recipe.change_topology_type(\"unstable\")\n",
    "    return recipe\n",
    "system.topologies.add_structural_reaction(topology_type=\"intermediate\", \n",
    "                                          reaction_function=intermediate_reaction_function, \n",
    "                                          rate_function=intermediate_rate_function)"
   ]
  },
  {
   "cell_type": "markdown",
   "metadata": {},
   "source": [
    "Randomly select a vertex and separate it from the graph, change it's particle type to Decay"
   ]
  },
  {
   "cell_type": "code",
   "execution_count": 8,
   "metadata": {
    "collapsed": true
   },
   "outputs": [],
   "source": [
    "def unstable_rate_function(topology):\n",
    "    return .1\n",
    "def unstable_reaction_function(topology):\n",
    "    recipe = readdy.StructuralReactionRecipe(topology)\n",
    "    index = np.random.randint(0, len(topology.particles))\n",
    "    recipe.separate_vertex(index)\n",
    "    recipe.change_particle_type(index, \"Decay\")\n",
    "    return recipe\n",
    "system.topologies.add_structural_reaction(topology_type=\"unstable\",\n",
    "                                          reaction_function=unstable_reaction_function, \n",
    "                                          rate_function=unstable_rate_function)"
   ]
  },
  {
   "cell_type": "markdown",
   "metadata": {},
   "source": [
    "Step 2: Create the simulation object out of the system"
   ]
  },
  {
   "cell_type": "code",
   "execution_count": 9,
   "metadata": {
    "collapsed": true
   },
   "outputs": [],
   "source": [
    "simulation = system.simulation(kernel=\"CPU\")"
   ]
  },
  {
   "cell_type": "markdown",
   "metadata": {},
   "source": [
    "add topology"
   ]
  },
  {
   "cell_type": "code",
   "execution_count": 10,
   "metadata": {
    "collapsed": true
   },
   "outputs": [],
   "source": [
    "n_topology_particles = 70\n",
    "positions = [[0, 0, 0], np.random.normal(size=3)]\n",
    "for i in range(n_topology_particles-2):\n",
    "    delta = positions[-1] - positions[-2]\n",
    "    offset = np.random.normal(size=3) + delta\n",
    "    offset = offset / np.linalg.norm(offset)\n",
    "    positions.append(positions[-1] + 2.*offset)\n",
    "topology = simulation.add_topology(topology_type=\"stable\", particle_types=\"T\", \n",
    "                                   positions=np.array(positions).T)"
   ]
  },
  {
   "cell_type": "markdown",
   "metadata": {},
   "source": [
    "set up connectivity of topology"
   ]
  },
  {
   "cell_type": "code",
   "execution_count": 11,
   "metadata": {
    "collapsed": true
   },
   "outputs": [],
   "source": [
    "graph = topology.get_graph()\n",
    "for i in range(len(graph.get_vertices())-1):\n",
    "    graph.add_edge(i, i+1)"
   ]
  },
  {
   "cell_type": "markdown",
   "metadata": {},
   "source": [
    "add ligands"
   ]
  },
  {
   "cell_type": "code",
   "execution_count": 12,
   "metadata": {
    "collapsed": true
   },
   "outputs": [],
   "source": [
    "simulation.add_particles(\"Ligand\",-6 * np.ones((3, 5)))"
   ]
  },
  {
   "cell_type": "code",
   "execution_count": 13,
   "metadata": {
    "collapsed": true
   },
   "outputs": [],
   "source": [
    "simulation.output_file = \"topology_simulation.h5\"\n",
    "simulation.record_trajectory()"
   ]
  },
  {
   "cell_type": "code",
   "execution_count": 14,
   "metadata": {
    "collapsed": true
   },
   "outputs": [],
   "source": [
    "simulation.run(n_steps=10000, timestep=1e-2)"
   ]
  },
  {
   "cell_type": "code",
   "execution_count": 15,
   "metadata": {
    "collapsed": true
   },
   "outputs": [],
   "source": [
    "traj = readdy.Trajectory(simulation.output_file)"
   ]
  },
  {
   "cell_type": "code",
   "execution_count": 16,
   "metadata": {
    "collapsed": true
   },
   "outputs": [],
   "source": [
    "traj.convert_to_xyz()"
   ]
  }
 ],
 "metadata": {
  "kernelspec": {
   "display_name": "Python 3",
   "language": "python",
   "name": "python3"
  },
  "language_info": {
   "codemirror_mode": {
    "name": "ipython",
    "version": 3
   },
   "file_extension": ".py",
   "mimetype": "text/x-python",
   "name": "python",
   "nbconvert_exporter": "python",
   "pygments_lexer": "ipython3",
   "version": "3.6.2"
  },
  "readdy": {
   "category": "demonstration",
   "position": "2",
   "title": "Topologies"
  }
 },
 "nbformat": 4,
 "nbformat_minor": 2
}
