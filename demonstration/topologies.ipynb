{
 "cells": [
  {
   "cell_type": "code",
   "execution_count": 2,
   "metadata": {},
   "outputs": [],
   "source": [
    "import numpy as np\n",
    "import readdy"
   ]
  },
  {
   "cell_type": "code",
   "execution_count": 3,
   "metadata": {},
   "outputs": [
    {
     "data": {
      "text/plain": [
       "'v1.0.1-0'"
      ]
     },
     "execution_count": 3,
     "metadata": {},
     "output_type": "execute_result"
    }
   ],
   "source": [
    "readdy.__version__"
   ]
  },
  {
   "cell_type": "markdown",
   "metadata": {},
   "source": [
    "Step 1: Define the system"
   ]
  },
  {
   "cell_type": "code",
   "execution_count": 4,
   "metadata": {},
   "outputs": [],
   "source": [
    "system = readdy.ReactionDiffusionSystem(box_size=[150, 150, 150])\n",
    "system.periodic_boundary_conditions = False, False, False\n",
    "\n",
    "system.add_species(\"Ligand\", diffusion_constant=3.)\n",
    "system.add_species(\"Decay\", diffusion_constant=1.)\n",
    "system.add_topology_species(\"T\", diffusion_constant=1.)\n",
    "system.add_topology_species(\"unstable T\", diffusion_constant=1.)"
   ]
  },
  {
   "cell_type": "markdown",
   "metadata": {},
   "source": [
    "Add a decay reaction for \"Decay\" praticles and harmonic repulsion between \"unstable T\" and \"Decay\""
   ]
  },
  {
   "cell_type": "code",
   "execution_count": 5,
   "metadata": {},
   "outputs": [],
   "source": [
    "system.reactions.add(\"decay: Decay ->\", .1)\n",
    "system.potentials.add_box(\"Ligand\", 10., [-70, -70, -70], [130, 130, 130])\n",
    "system.potentials.add_box(\"Decay\", 10., [-70, -70, -70], [130, 130, 130])\n",
    "system.potentials.add_box(\"T\", 10., [-70, -70, -70], [130, 130, 130])\n",
    "system.potentials.add_box(\"unstable T\", 10., [-70, -70, -70], [130, 130, 130])\n",
    "system.potentials.add_harmonic_repulsion(\"Decay\", \"unstable T\", force_constant=20., \n",
    "                                         interaction_distance=2.)"
   ]
  },
  {
   "cell_type": "markdown",
   "metadata": {},
   "source": [
    "Add\n",
    "- harmonic bonds and angles between pairs/triples of \"T\" and \"unstable T\"\n",
    "- three topology types: stable (with no topology reactions), intermediate, and unstable"
   ]
  },
  {
   "cell_type": "code",
   "execution_count": 6,
   "metadata": {},
   "outputs": [],
   "source": [
    "system.topologies.configure_harmonic_bond(\"T\", \"T\", force_constant=20., length=2.)\n",
    "system.topologies.configure_harmonic_bond(\"unstable T\", \"unstable T\", force_constant=20., \n",
    "                                          length=2.)\n",
    "\n",
    "system.topologies.add_type(\"stable\")\n",
    "system.topologies.add_type(\"intermediate\")\n",
    "system.topologies.add_type(\"unstable\")"
   ]
  },
  {
   "cell_type": "markdown",
   "metadata": {},
   "source": [
    "Change the topology type from stable to intermediate"
   ]
  },
  {
   "cell_type": "code",
   "execution_count": 7,
   "metadata": {},
   "outputs": [],
   "source": [
    "system.topologies.add_spatial_reaction(\n",
    "    \"encounter: stable(T) + (Ligand) -> intermediate(T) + (Ligand)\", \n",
    "    rate=10.0, radius=2.0\n",
    ")"
   ]
  },
  {
   "cell_type": "markdown",
   "metadata": {},
   "source": [
    "Change the topology type from intermediate to unstable, change particle types from T to unstable T"
   ]
  },
  {
   "cell_type": "code",
   "execution_count": 8,
   "metadata": {},
   "outputs": [],
   "source": [
    "def intermediate_rate_function(topology):\n",
    "    return 1e3\n",
    "def intermediate_reaction_function(topology):\n",
    "    recipe = readdy.StructuralReactionRecipe(topology)\n",
    "    for i in range(len(topology.get_graph().get_vertices())):\n",
    "        recipe.change_particle_type(i, \"unstable T\")\n",
    "    recipe.change_topology_type(\"unstable\")\n",
    "    return recipe\n",
    "system.topologies.add_structural_reaction(topology_type=\"intermediate\", \n",
    "                                          reaction_function=intermediate_reaction_function, \n",
    "                                          rate_function=intermediate_rate_function)"
   ]
  },
  {
   "cell_type": "markdown",
   "metadata": {},
   "source": [
    "Randomly select a vertex and separate it from the graph, change it's particle type to Decay"
   ]
  },
  {
   "cell_type": "code",
   "execution_count": 9,
   "metadata": {},
   "outputs": [],
   "source": [
    "def unstable_rate_function(topology):\n",
    "    return .1\n",
    "def unstable_reaction_function(topology):\n",
    "    recipe = readdy.StructuralReactionRecipe(topology)\n",
    "    index = np.random.randint(0, len(topology.particles))\n",
    "    recipe.separate_vertex(index)\n",
    "    recipe.change_particle_type(index, \"Decay\")\n",
    "    return recipe\n",
    "system.topologies.add_structural_reaction(topology_type=\"unstable\",\n",
    "                                          reaction_function=unstable_reaction_function, \n",
    "                                          rate_function=unstable_rate_function)"
   ]
  },
  {
   "cell_type": "markdown",
   "metadata": {},
   "source": [
    "Step 2: Create the simulation object out of the system"
   ]
  },
  {
   "cell_type": "code",
   "execution_count": 10,
   "metadata": {},
   "outputs": [],
   "source": [
    "simulation = system.simulation(kernel=\"CPU\")"
   ]
  },
  {
   "cell_type": "markdown",
   "metadata": {},
   "source": [
    "add topology"
   ]
  },
  {
   "cell_type": "code",
   "execution_count": 11,
   "metadata": {},
   "outputs": [],
   "source": [
    "n_topology_particles = 70\n",
    "positions = [[0, 0, 0], np.random.normal(size=3)]\n",
    "for i in range(n_topology_particles-2):\n",
    "    delta = positions[-1] - positions[-2]\n",
    "    offset = np.random.normal(size=3) + delta\n",
    "    offset = offset / np.linalg.norm(offset)\n",
    "    positions.append(positions[-1] + 2.*offset)\n",
    "topology = simulation.add_topology(topology_type=\"stable\", particle_types=\"T\", \n",
    "                                   positions=np.array(positions))"
   ]
  },
  {
   "cell_type": "markdown",
   "metadata": {},
   "source": [
    "set up connectivity of topology"
   ]
  },
  {
   "cell_type": "code",
   "execution_count": 12,
   "metadata": {},
   "outputs": [],
   "source": [
    "graph = topology.get_graph()\n",
    "for i in range(len(graph.get_vertices())-1):\n",
    "    graph.add_edge(i, i+1)"
   ]
  },
  {
   "cell_type": "markdown",
   "metadata": {},
   "source": [
    "add ligands"
   ]
  },
  {
   "cell_type": "code",
   "execution_count": 13,
   "metadata": {},
   "outputs": [],
   "source": [
    "simulation.add_particles(\"Ligand\",-6 * np.ones((5, 3)))"
   ]
  },
  {
   "cell_type": "code",
   "execution_count": 14,
   "metadata": {},
   "outputs": [],
   "source": [
    "simulation.output_file = \"topology_simulation.h5\"\n",
    "simulation.record_trajectory()"
   ]
  },
  {
   "cell_type": "code",
   "execution_count": 15,
   "metadata": {},
   "outputs": [
    {
     "name": "stdout",
     "output_type": "stream",
     "text": [
      "Configured kernel context with:\n",
      "--------------------------------\n",
      " - kBT = 2.43614\n",
      " - periodic b.c. = (false, false, false)\n",
      " - box size = (150, 150, 150)\n",
      " - particle types:\n",
      "     * Topology particle type \"unstable T\" with D=1\n",
      "     * Topology particle type \"T\" with D=1\n",
      "     *  particle type \"Ligand\" with D=3\n",
      "     *  particle type \"Decay\" with D=1\n",
      " - potentials of order 1:\n",
      "     * for type \"Decay\"\n",
      "         * Box potential with origin=(-70, -70, -70), extent=(130, 130, 130), and force constant k=10\n",
      "     * for type \"Ligand\"\n",
      "         * Box potential with origin=(-70, -70, -70), extent=(130, 130, 130), and force constant k=10\n",
      "     * for type \"unstable T\"\n",
      "         * Box potential with origin=(-70, -70, -70), extent=(130, 130, 130), and force constant k=10\n",
      "     * for type \"T\"\n",
      "         * Box potential with origin=(-70, -70, -70), extent=(130, 130, 130), and force constant k=10\n",
      " - potentials of order 2:\n",
      "     * for types \"Decay\" and \"unstable T\"\n",
      "         * Harmonic repulsion with force constant k=20\n",
      " - unimolecular reactions:\n",
      "     * Decay Decay -> ø with a rate of 0.1\n",
      " - topology potential configuration:\n",
      "     - bonds (2):\n",
      "         - Bonds for particle types unstable T and unstable T:\n",
      "             * Harmonic bond with force constant 20 and length 2\n",
      "         - Bonds for particle types T and T:\n",
      "             * Harmonic bond with force constant 20 and length 2\n",
      " - topology types:\n",
      "     * topology type \"unstable\" with 1 structural reactions\n",
      "     * topology type \"stable\" with 0 structural reactions\n",
      "     * topology type \"intermediate\" with 1 structural reactions\n",
      " - spatial topology reactions:\n",
      "     * Topology-particle enzymatic reaction \"encounter: stable(T) + (Ligand) -> intermediate(T) + (Ligand)\"\n",
      " - structural topology reactions:\n",
      "     - for topology type \"unstable\" with 1 structural reactions:\n",
      "         * reaction with roll_back = false and create child topologies = true\n",
      "     - for topology type \"intermediate\" with 1 structural reactions:\n",
      "         * reaction with roll_back = false and create child topologies = true\n",
      "\n"
     ]
    },
    {
     "data": {
      "application/vnd.jupyter.widget-view+json": {
       "model_id": "",
       "version_major": 2,
       "version_minor": 0
      },
      "text/plain": [
       "HBox(children=(HBox(children=(Label(value='Simulation progress'),), layout=Layout(max_width='35%', min_width='…"
      ]
     },
     "metadata": {},
     "output_type": "display_data"
    },
    {
     "name": "stdout",
     "output_type": "stream",
     "text": [
      "\r"
     ]
    }
   ],
   "source": [
    "simulation.run(n_steps=10000, timestep=1e-2)"
   ]
  },
  {
   "cell_type": "code",
   "execution_count": 16,
   "metadata": {},
   "outputs": [],
   "source": [
    "traj = readdy.Trajectory(simulation.output_file)"
   ]
  },
  {
   "cell_type": "code",
   "execution_count": 17,
   "metadata": {},
   "outputs": [],
   "source": [
    "traj.convert_to_xyz()"
   ]
  },
  {
   "cell_type": "code",
   "execution_count": 18,
   "metadata": {},
   "outputs": [
    {
     "data": {
      "image/jpeg": "[encoded data removed]",
      "text/html": [
       "\n",
       "        <iframe\n",
       "            width=\"400\"\n",
       "            height=\"300\"\n",
       "            src=\"https://www.youtube.com/embed/9cG2J1Nihnk\"\n",
       "            frameborder=\"0\"\n",
       "            allowfullscreen\n",
       "        ></iframe>\n",
       "        "
      ],
      "text/plain": [
       "<IPython.lib.display.YouTubeVideo at 0x7ff9ba48d1d0>"
      ]
     },
     "execution_count": 18,
     "metadata": {},
     "output_type": "execute_result"
    }
   ],
   "source": [
    "from IPython.display import YouTubeVideo\n",
    "YouTubeVideo('9cG2J1Nihnk')"
   ]
  }
 ],
 "metadata": {
  "kernelspec": {
   "display_name": "Python 3",
   "language": "python",
   "name": "python3"
  },
  "language_info": {
   "codemirror_mode": {
    "name": "ipython",
    "version": 3
   },
   "file_extension": ".py",
   "mimetype": "text/x-python",
   "name": "python",
   "nbconvert_exporter": "python",
   "pygments_lexer": "ipython3",
   "version": "3.6.5"
  },
  "readdy": {
   "category": "demonstration",
   "position": "2",
   "title": "Topologies"
  }
 },
 "nbformat": 4,
 "nbformat_minor": 2
}
