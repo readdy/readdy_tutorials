{
 "cells": [
  {
   "cell_type": "code",
   "execution_count": 1,
   "metadata": {},
   "outputs": [],
   "source": [
    "import readdy"
   ]
  },
  {
   "cell_type": "markdown",
   "metadata": {
    "collapsed": true
   },
   "source": [
    "Step 1: Set up a reaction diffusion system"
   ]
  },
  {
   "cell_type": "code",
   "execution_count": 2,
   "metadata": {},
   "outputs": [],
   "source": [
    "system = readdy.ReactionDiffusionSystem([25.,25.,25.], temperature=300.*readdy.units.kelvin)\n",
    "system.add_species(\"A\", 1.0)"
   ]
  },
  {
   "cell_type": "markdown",
   "metadata": {},
   "source": [
    "Define reactions"
   ]
  },
  {
   "cell_type": "code",
   "execution_count": 3,
   "metadata": {},
   "outputs": [],
   "source": [
    "system.reactions.add(\"myfusion: A +(2) A -> A\", rate=10.)\n",
    "system.reactions.add(\"myfission: A -> A +(2) A\", rate=3.)"
   ]
  },
  {
   "cell_type": "markdown",
   "metadata": {},
   "source": [
    "Define potentials"
   ]
  },
  {
   "cell_type": "code",
   "execution_count": 4,
   "metadata": {},
   "outputs": [],
   "source": [
    "system.potentials.add_harmonic_repulsion(\"A\", \"A\", force_constant=10., \n",
    "                                         interaction_distance=2.)"
   ]
  },
  {
   "cell_type": "markdown",
   "metadata": {},
   "source": [
    "Step 2: Create a corresponding simulation"
   ]
  },
  {
   "cell_type": "code",
   "execution_count": 5,
   "metadata": {},
   "outputs": [],
   "source": [
    "simulation = system.simulation(kernel=\"CPU\")\n",
    "\n",
    "simulation.output_file = \"out.h5\"\n",
    "simulation.reaction_handler = \"UncontrolledApproximation\"\n",
    "\n",
    "simulation.add_particle(\"A\", [0.,0.,0.])\n",
    "\n",
    "simulation.record_trajectory(stride=1)\n",
    "simulation.observe.number_of_particles(stride=100, callback=lambda n: print(\"#A:\", n))"
   ]
  },
  {
   "cell_type": "markdown",
   "metadata": {},
   "source": [
    "Step 3: Run the simulation"
   ]
  },
  {
   "cell_type": "code",
   "execution_count": 6,
   "metadata": {},
   "outputs": [
    {
     "name": "stdout",
     "output_type": "stream",
     "text": [
      "Configured kernel context with:\n",
      "--------------------------------\n",
      " - kBT = 2.49434\n",
      " - periodic b.c. = (true, true, true)\n",
      " - box size = (25, 25, 25)\n",
      " - particle types:\n",
      "     *  particle type \"A\" with D=1\n",
      " - potentials of order 2:\n",
      "     * for types \"A\" and \"A\"\n",
      "         * Harmonic repulsion with force constant k=10\n",
      " - unimolecular reactions:\n",
      "     * Fission A -> A + A with a rate of 3, a product distance of 2, and weights 0.5 and 0.5\n",
      " - bimolecular reactions:\n",
      "     * Fusion A + A -> A with a rate of 10, an educt distance of 2, and weights 0.5 and 0.5\n",
      "\n"
     ]
    },
    {
     "data": {
      "application/vnd.jupyter.widget-view+json": {
       "model_id": "c0949293550141649d8f1888f5310fef",
       "version_major": 2,
       "version_minor": 0
      },
      "text/html": [
       "<p>Failed to display Jupyter Widget of type <code>HBox</code>.</p>\n",
       "<p>\n",
       "  If you're reading this message in the Jupyter Notebook or JupyterLab Notebook, it may mean\n",
       "  that the widgets JavaScript is still loading. If this message persists, it\n",
       "  likely means that the widgets JavaScript library is either not installed or\n",
       "  not enabled. See the <a href=\"https://ipywidgets.readthedocs.io/en/stable/user_install.html\">Jupyter\n",
       "  Widgets Documentation</a> for setup instructions.\n",
       "</p>\n",
       "<p>\n",
       "  If you're reading this message in another frontend (for example, a static\n",
       "  rendering on GitHub or <a href=\"https://nbviewer.jupyter.org/\">NBViewer</a>),\n",
       "  it may mean that your frontend doesn't currently support widgets.\n",
       "</p>\n"
      ],
      "text/plain": [
       "HBox(children=(HBox(children=(Label(value='Simulation progress'),), layout=Layout(max_width='35%', min_width='35%')), HBox(children=(IntProgress(value=0, max=300), HTML(value='')), layout=Layout(padding='0 0 0 20px'))), layout=Layout(display='flex', width='100%'))"
      ]
     },
     "metadata": {},
     "output_type": "display_data"
    },
    {
     "name": "stdout",
     "output_type": "stream",
     "text": [
      "#A: [1]\n",
      "#A: [1]\n",
      "#A: [1]\n",
      "#A: [9]\n",
      "#A: [19]\n",
      "#A: [31]\n",
      "#A: [57]\n",
      "#A: [82]\n",
      "#A: [104]\n",
      "#A: [110]\n",
      "#A: [163]\n",
      "#A: [225]\n",
      "#A: [247]\n",
      "#A: [276]\n",
      "#A: [310]\n",
      "#A: [316]\n",
      "#A: [298]\n",
      "#A: [311]\n",
      "#A: [323]\n",
      "#A: [303]\n",
      "#A: [315]\n",
      "#A: [292]\n",
      "#A: [315]\n",
      "#A: [315]\n",
      "#A: [322]\n",
      "#A: [334]\n",
      "#A: [331]\n",
      "#A: [334]\n",
      "#A: [353]\n",
      "#A: [328]\n",
      "#A: [301]\n",
      "\r"
     ]
    }
   ],
   "source": [
    "simulation.run(n_steps=3000, timestep=1e-2)"
   ]
  },
  {
   "cell_type": "markdown",
   "metadata": {},
   "source": [
    "Step 4: Look at results"
   ]
  },
  {
   "cell_type": "code",
   "execution_count": 7,
   "metadata": {},
   "outputs": [],
   "source": [
    "trajectory = readdy.Trajectory('out.h5')\n",
    "trajectory.convert_to_xyz(particle_radii={'A': 1.})"
   ]
  },
  {
   "cell_type": "markdown",
   "metadata": {},
   "source": [
    "`>>> vmd -e out.xyz.tcl`"
   ]
  }
 ],
 "metadata": {
  "kernelspec": {
   "display_name": "Python 3",
   "language": "python",
   "name": "python3"
  },
  "language_info": {
   "codemirror_mode": {
    "name": "ipython",
    "version": 3
   },
   "file_extension": ".py",
   "mimetype": "text/x-python",
   "name": "python",
   "nbconvert_exporter": "python",
   "pygments_lexer": "ipython3",
   "version": "3.6.4"
  },
  "readdy": {
   "category": "demonstration",
   "position": "1",
   "title": "Simple example"
  }
 },
 "nbformat": 4,
 "nbformat_minor": 2
}
