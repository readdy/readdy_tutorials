{
 "cells": [
  {
   "cell_type": "code",
   "execution_count": 2,
   "metadata": {},
   "outputs": [
    {
     "name": "stdout",
     "output_type": "stream",
     "text": [
      "v1.0.1-0\n"
     ]
    }
   ],
   "source": [
    "import readdy\n",
    "print(readdy.__version__)"
   ]
  },
  {
   "cell_type": "markdown",
   "metadata": {
    "collapsed": true
   },
   "source": [
    "Step 1: Set up a reaction diffusion system"
   ]
  },
  {
   "cell_type": "code",
   "execution_count": 3,
   "metadata": {},
   "outputs": [],
   "source": [
    "system = readdy.ReactionDiffusionSystem([25.,25.,25.], temperature=300.*readdy.units.kelvin)\n",
    "system.add_species(\"A\", 1.0)"
   ]
  },
  {
   "cell_type": "markdown",
   "metadata": {},
   "source": [
    "Define reactions"
   ]
  },
  {
   "cell_type": "code",
   "execution_count": 4,
   "metadata": {},
   "outputs": [],
   "source": [
    "system.reactions.add(\"myfusion: A +(2) A -> A\", rate=10.)\n",
    "system.reactions.add(\"myfission: A -> A +(2) A\", rate=3.)"
   ]
  },
  {
   "cell_type": "markdown",
   "metadata": {},
   "source": [
    "Define potentials"
   ]
  },
  {
   "cell_type": "code",
   "execution_count": 5,
   "metadata": {},
   "outputs": [],
   "source": [
    "system.potentials.add_harmonic_repulsion(\"A\", \"A\", force_constant=10., \n",
    "                                         interaction_distance=2.)"
   ]
  },
  {
   "cell_type": "markdown",
   "metadata": {},
   "source": [
    "Step 2: Create a corresponding simulation"
   ]
  },
  {
   "cell_type": "code",
   "execution_count": 6,
   "metadata": {},
   "outputs": [],
   "source": [
    "simulation = system.simulation(kernel=\"CPU\")\n",
    "\n",
    "simulation.output_file = \"out.h5\"\n",
    "simulation.reaction_handler = \"UncontrolledApproximation\"\n",
    "\n",
    "simulation.add_particle(\"A\", [0.,0.,0.])\n",
    "\n",
    "simulation.record_trajectory(stride=1)\n",
    "simulation.observe.number_of_particles(stride=100, callback=lambda n: print(\"#A:\", n))"
   ]
  },
  {
   "cell_type": "markdown",
   "metadata": {},
   "source": [
    "Step 3: Run the simulation"
   ]
  },
  {
   "cell_type": "code",
   "execution_count": 7,
   "metadata": {},
   "outputs": [
    {
     "name": "stdout",
     "output_type": "stream",
     "text": [
      "Configured kernel context with:\n",
      "--------------------------------\n",
      " - kBT = 2.49434\n",
      " - periodic b.c. = (true, true, true)\n",
      " - box size = (25, 25, 25)\n",
      " - particle types:\n",
      "     *  particle type \"A\" with D=1\n",
      " - potentials of order 2:\n",
      "     * for types \"A\" and \"A\"\n",
      "         * Harmonic repulsion with force constant k=10\n",
      " - unimolecular reactions:\n",
      "     * Fission A -> A + A with a rate of 3, a product distance of 2, and weights 0.5 and 0.5\n",
      " - bimolecular reactions:\n",
      "     * Fusion A + A -> A with a rate of 10, an educt distance of 2, and weights 0.5 and 0.5\n",
      "\n"
     ]
    },
    {
     "data": {
      "application/vnd.jupyter.widget-view+json": {
       "model_id": "",
       "version_major": 2,
       "version_minor": 0
      },
      "text/plain": [
       "HBox(children=(HBox(children=(Label(value='Simulation progress'),), layout=Layout(max_width='35%', min_width='…"
      ]
     },
     "metadata": {},
     "output_type": "display_data"
    },
    {
     "name": "stdout",
     "output_type": "stream",
     "text": [
      "#A: [1]\n",
      "#A: [2]\n",
      "#A: [2]\n",
      "#A: [3]\n",
      "#A: [5]\n",
      "#A: [8]\n",
      "#A: [15]\n",
      "#A: [23]\n",
      "#A: [43]\n",
      "#A: [60]\n",
      "#A: [87]\n",
      "#A: [133]\n",
      "#A: [184]\n",
      "#A: [219]\n",
      "#A: [254]\n",
      "#A: [264]\n",
      "#A: [303]\n",
      "#A: [303]\n",
      "#A: [318]\n",
      "#A: [326]\n",
      "#A: [331]\n",
      "#A: [325]\n",
      "#A: [296]\n",
      "#A: [307]\n",
      "#A: [325]\n",
      "#A: [340]\n",
      "#A: [345]\n",
      "#A: [339]\n",
      "#A: [318]\n",
      "#A: [336]\n",
      "#A: [318]\n",
      "\r"
     ]
    }
   ],
   "source": [
    "simulation.run(n_steps=3000, timestep=1e-2)"
   ]
  },
  {
   "cell_type": "markdown",
   "metadata": {},
   "source": [
    "Step 4: Look at results"
   ]
  },
  {
   "cell_type": "code",
   "execution_count": 8,
   "metadata": {},
   "outputs": [],
   "source": [
    "trajectory = readdy.Trajectory('out.h5')\n",
    "trajectory.convert_to_xyz(particle_radii={'A': 1.})"
   ]
  },
  {
   "cell_type": "markdown",
   "metadata": {},
   "source": [
    "Visualize in VMD"
   ]
  },
  {
   "cell_type": "code",
   "execution_count": null,
   "metadata": {},
   "outputs": [],
   "source": [
    "!vmd -e out.xyz.tcl"
   ]
  }
 ],
 "metadata": {
  "kernelspec": {
   "display_name": "Python 3",
   "language": "python",
   "name": "python3"
  },
  "language_info": {
   "codemirror_mode": {
    "name": "ipython",
    "version": 3
   },
   "file_extension": ".py",
   "mimetype": "text/x-python",
   "name": "python",
   "nbconvert_exporter": "python",
   "pygments_lexer": "ipython3",
   "version": "3.6.5"
  },
  "readdy": {
   "category": "demonstration",
   "position": "1",
   "title": "Simple example"
  }
 },
 "nbformat": 4,
 "nbformat_minor": 2
}
