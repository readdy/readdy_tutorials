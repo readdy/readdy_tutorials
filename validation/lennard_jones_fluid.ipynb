{
 "cells": [
  {
   "cell_type": "markdown",
   "metadata": {},
   "source": [
    "We consider a simple fluid of particles that interact due to the Lennard Jones potential\n",
    "\n",
    "$$\n",
    "U(r) = 4\\varepsilon \\left[ \\left(\\frac{\\sigma}{r}\\right)^{12} - \\left(\\frac{\\sigma}{r}\\right)^6 \\right]\n",
    "$$\n",
    "\n",
    "To validate the integration of the diffusion process and correct implementation of energies and forces, we compare observables to other known results. The observables are: the mean potential energy of the system per particle $U$,  the pressure $P$ and the radial distribution function $g(r)$.\n",
    "\n",
    "The thermodynamic quantities of a Lennard Jones fluid are typically expressed in terms of the rescaled density\n",
    "$\\rho^* = (N/V)\\sigma^3$ and the rescaled temperature $T^* = k_BT/\\varepsilon$, where $N$ is the number of particles in the system, which is constant over time, and $V$ is the available volume.\n",
    "In simulation practice we set $\\sigma=1$ and $\\varepsilon=1$ to achieve the reduced units. The time units are $\\sigma^2 / 4D$, where $D$ is the self diffusion coefficient of the particles. Hence in practice we set the diffusion coefficient to 1 and have a fully rescaled unit system.\n",
    "\n",
    "We use an Euler scheme to integrate the positions of particles according to the overdamped Langevin equation of motion, in contrast to a full integration of positions and momenta as in the underdamped limit.\n",
    "\n",
    "The pressure can be measured from the acting forces according to [4].\n",
    "\n",
    "$$\n",
    "PV = Nk_BT + \\langle \\mathscr{W} \\rangle\n",
    "$$\n",
    "\n",
    "where\n",
    "\n",
    "$$\n",
    "\\mathscr{W} = \\frac{1}{3} \\sum_i \\sum_{j>i} \\mathbf{r}_{ij} \\mathbf{f}_{ij},\n",
    "$$\n",
    "\n",
    "which generally works for periodic systems as well, if $r_{ij}$ is according to the minimum image convention. However the following equality\n",
    "\n",
    "$$\n",
    "\\frac{1}{3} \\sum_i \\sum_{j>i} \\mathbf{r}_{ij} \\mathbf{f}_{ij} = \\frac{1}{3} \\sum_i \\mathbf{r}_{i} \\mathbf{f}_{i},\n",
    "$$\n",
    "\n",
    "cannot be used when the system is periodic because it assumes $r_{ij} = r_j - r_i$, which is not the case for particles that interact _through_ the boundaries.\n",
    "\n",
    "__Results__\n",
    "\n",
    "| origin | cutoff radius $r_c$ | density $\\rho$ | temperature $T$ | pressure $P$ | potential energy per particle $U$ |\n",
    "|---|---|---|---|---|---|\n",
    "|[1]|4|0.3|3|1.023(2)|-1.673(2)|\n",
    "|[2]|4|0.3|3|1.0245|-1.6717|\n",
    "|HALMD [3]|4|0.3|3|1.0234(3)|-1.6731(4)|\n",
    "|ReaDDy|4|0.3|3|--- *|-1.668(7)|\n",
    "|||||||\n",
    "|[1]|4|0.6|3|3.69(1)|-3.212(3)|\n",
    "|[2]|4|0.6|3|3.7165|-3.2065|\n",
    "|HALMD [3]|4|0.6|3|3.6976(8)|-3.2121(2)|\n",
    "|ReaDDy|4|0.6|3|--- *|-3.200(9)|\n",
    "\n",
    "(*) Note that the pressure cannot be measured currently.\n",
    "\n",
    "[1] Molecular dynamics simulations, J. K. Johnson, J. A. Zollweg, and K. E. Gubbins,\n",
    "The Lennard-Jones equation of state revisited, Mol. Phys. 78, 591 (1993)\n",
    "\n",
    "[2] Integral equations theory, A. Ayadim, M. Oettel, and S Amokrane,\n",
    "Optimum free energy in the reference functional approach for the integral equations theory, J. Phys.: Condens. Matter 21, 115103 (2009).\n",
    "\n",
    "[3] HAL's MD package, http://halmd.org/validation.html\n",
    "\n",
    "[4] Allen, M. P., & Tildesley, D. J. (1987). Computer Simulation of Liquids. New York: Oxford University Press."
   ]
  },
  {
   "cell_type": "code",
   "execution_count": 1,
   "metadata": {},
   "outputs": [],
   "source": [
    "import os\n",
    "import numpy as np\n",
    "\n",
    "import readdy"
   ]
  },
  {
   "cell_type": "markdown",
   "metadata": {},
   "source": [
    "__Utility methods__"
   ]
  },
  {
   "cell_type": "code",
   "execution_count": 2,
   "metadata": {},
   "outputs": [],
   "source": [
    "def average_across_first_axis(values):\n",
    "    n_values = len(values)\n",
    "    mean = np.sum(values, axis=0) / n_values  # shape = n_bins\n",
    "    difference = values - mean  # broadcasting starts with last axis\n",
    "    std_dev = np.sqrt(np.sum(difference * difference, axis=0) / n_values)\n",
    "    std_err = np.sqrt(np.sum(difference * difference, axis=0) / n_values ** 2)\n",
    "    return mean, std_dev, std_err\n",
    "\n",
    "\n",
    "def convert_to_numpy(vlen_array):\n",
    "    nt = len(vlen_array)\n",
    "    nn = len(vlen_array[0])\n",
    "    result = []\n",
    "    for t in range(nt):\n",
    "        tmp = []\n",
    "        for i in range(nn):\n",
    "            tmp.append([vlen_array[t][i]['x'], vlen_array[t][i]['y'], vlen_array[t][i]['z']])\n",
    "        result.append(tmp)\n",
    "    result = np.array(result)\n",
    "    return result\n",
    "\n",
    "\n",
    "def lj_system(temperature=1.):\n",
    "    system = readdy.ReactionDiffusionSystem(\n",
    "        box_size=[edge_length, edge_length, edge_length],\n",
    "        unit_system=None\n",
    "    )\n",
    "    system.kbt = temperature\n",
    "    system.add_species(\"A\", diffusion_constant=1.)\n",
    "    system.potentials.add_lennard_jones(\"A\", \"A\", m=12, n=6, epsilon=1., sigma=1., cutoff=4., shift=True)\n",
    "    return system"
   ]
  },
  {
   "cell_type": "code",
   "execution_count": 13,
   "metadata": {},
   "outputs": [
    {
     "name": "stdout",
     "output_type": "stream",
     "text": [
      "n_particles 1728 box edge_length 14.227573217960249\n"
     ]
    }
   ],
   "source": [
    "density = 0.6\n",
    "n_per_axis = 12\n",
    "n_particles = n_per_axis ** 3\n",
    "edge_length = (n_particles / density) ** (1. / 3.)\n",
    "pos_x = np.linspace(-edge_length/2., edge_length/2.-1., n_per_axis)\n",
    "pos = []\n",
    "for x in pos_x:\n",
    "    for y in pos_x:\n",
    "        for z in pos_x:\n",
    "            pos.append([x,y,z])\n",
    "pos = np.array(pos)\n",
    "print(\"n_particles\", len(pos), \"box edge_length\", edge_length)\n",
    "assert len(pos)==n_particles"
   ]
  },
  {
   "cell_type": "code",
   "execution_count": 14,
   "metadata": {},
   "outputs": [],
   "source": [
    "def pos_callback(x):\n",
    "    global pos\n",
    "    n = len(x)\n",
    "    pos = np.zeros((n,3))\n",
    "    for i in range(n):\n",
    "        pos[i][0] = x[i][0]\n",
    "        pos[i][1] = x[i][1]\n",
    "        pos[i][2] = x[i][2]\n",
    "    print(\"saved positions\")"
   ]
  },
  {
   "cell_type": "markdown",
   "metadata": {},
   "source": [
    "__Define system__"
   ]
  },
  {
   "cell_type": "code",
   "execution_count": 15,
   "metadata": {},
   "outputs": [],
   "source": [
    "system = lj_system(temperature=3.)"
   ]
  },
  {
   "cell_type": "markdown",
   "metadata": {},
   "source": [
    "__Equilibration__"
   ]
  },
  {
   "cell_type": "code",
   "execution_count": 16,
   "metadata": {},
   "outputs": [
    {
     "name": "stdout",
     "output_type": "stream",
     "text": [
      "Configured kernel context with:\n",
      "--------------------------------\n",
      " - kBT = 3\n",
      " - periodic b.c. = (true, true, true)\n",
      " - box size = (14.2276, 14.2276, 14.2276)\n",
      " - particle types:\n",
      "     * particle type \"A\" with D=1, flavor=NORMAL, id=0\n",
      " - potentials of order 2:\n",
      "     * for types A and A\n",
      "         * LennardJones[m: 12 n: 6 cutoffDistance: 4 shift: 1 epsilon: 1 k: 4]\n",
      " - topology types:\n",
      " - structural topology reactions:\n",
      " - topology potential configuration:\n",
      "     - bonds (0):\n",
      "     - angles (0):\n",
      "     - torsions (0):\n",
      "\n"
     ]
    },
    {
     "data": {
      "application/vnd.jupyter.widget-view+json": {
       "model_id": "42b64927d9da4a5cbcf45448419a26b1",
       "version_major": 2,
       "version_minor": 0
      },
      "text/html": [
       "<p>Failed to display Jupyter Widget of type <code>HBox</code>.</p>\n",
       "<p>\n",
       "  If you're reading this message in the Jupyter Notebook or JupyterLab Notebook, it may mean\n",
       "  that the widgets JavaScript is still loading. If this message persists, it\n",
       "  likely means that the widgets JavaScript library is either not installed or\n",
       "  not enabled. See the <a href=\"https://ipywidgets.readthedocs.io/en/stable/user_install.html\">Jupyter\n",
       "  Widgets Documentation</a> for setup instructions.\n",
       "</p>\n",
       "<p>\n",
       "  If you're reading this message in another frontend (for example, a static\n",
       "  rendering on GitHub or <a href=\"https://nbviewer.jupyter.org/\">NBViewer</a>),\n",
       "  it may mean that your frontend doesn't currently support widgets.\n",
       "</p>\n"
      ],
      "text/plain": [
       "HBox(children=(HBox(children=(Label(value='Simulation progress'),), layout=Layout(max_width='35%', min_width='35%')), HBox(children=(IntProgress(value=0, max=101), HTML(value='')), layout=Layout(padding='0 0 0 20px'))), layout=Layout(display='flex', width='100%'))"
      ]
     },
     "metadata": {},
     "output_type": "display_data"
    },
    {
     "name": "stdout",
     "output_type": "stream",
     "text": [
      "saved positions\n",
      "-6881.589189746078\n",
      "-5496.001377425765\n",
      "-5505.207862671152\n",
      "-5483.226383396008\n",
      "saved positions\n",
      "-5523.858234996401\n",
      "-5582.51786183867\n",
      "-5546.996634224422\n",
      "-5423.7837094819515\n",
      "saved positions\n",
      "-5457.364169426329\n",
      "-5568.628419853203\n",
      "-5540.132392874638\n",
      "-5553.196499581389\n",
      "saved positions\n",
      "-5554.294715479286\n",
      "-5504.031023554691\n",
      "-5610.347131717624\n",
      "-5466.98975690417\n",
      "saved positions\n",
      "-5580.799370153164\n",
      "-5383.997439073124\n",
      "-5454.802761600619\n",
      "-5473.767502865607\n",
      "saved positions\n",
      "-5592.943640564384\n",
      "\r"
     ]
    }
   ],
   "source": [
    "sim = system.simulation(kernel=\"SingleCPU\")\n",
    "sim.add_particles(\"A\", pos)\n",
    "\n",
    "sim.observe.particle_positions(2000, callback=pos_callback, save=None)\n",
    "sim.observe.energy(500, callback=lambda x: print(x), save=None)\n",
    "\n",
    "sim.record_trajectory(stride=1)\n",
    "sim.output_file = \"lj_eq.h5\"\n",
    "if os.path.exists(sim.output_file):\n",
    "    os.remove(sim.output_file)\n",
    "\n",
    "\n",
    "sim.run(n_steps=10000, timestep=1e-4)\n",
    "\n",
    "traj = readdy.Trajectory(sim.output_file)\n",
    "traj.convert_to_xyz(particle_radii={\"A\": 0.5})"
   ]
  },
  {
   "cell_type": "markdown",
   "metadata": {},
   "source": [
    "__Measure__"
   ]
  },
  {
   "cell_type": "code",
   "execution_count": 17,
   "metadata": {},
   "outputs": [
    {
     "name": "stdout",
     "output_type": "stream",
     "text": [
      "Configured kernel context with:\n",
      "--------------------------------\n",
      " - kBT = 3\n",
      " - periodic b.c. = (true, true, true)\n",
      " - box size = (14.2276, 14.2276, 14.2276)\n",
      " - particle types:\n",
      "     * particle type \"A\" with D=1, flavor=NORMAL, id=0\n",
      " - potentials of order 2:\n",
      "     * for types A and A\n",
      "         * LennardJones[m: 12 n: 6 cutoffDistance: 4 shift: 1 epsilon: 1 k: 4]\n",
      " - topology types:\n",
      " - structural topology reactions:\n",
      " - topology potential configuration:\n",
      "     - bonds (0):\n",
      "     - angles (0):\n",
      "     - torsions (0):\n",
      "\n"
     ]
    },
    {
     "data": {
      "application/vnd.jupyter.widget-view+json": {
       "model_id": "62e238758ba74b4e8bf1745be24b68b4",
       "version_major": 2,
       "version_minor": 0
      },
      "text/html": [
       "<p>Failed to display Jupyter Widget of type <code>HBox</code>.</p>\n",
       "<p>\n",
       "  If you're reading this message in the Jupyter Notebook or JupyterLab Notebook, it may mean\n",
       "  that the widgets JavaScript is still loading. If this message persists, it\n",
       "  likely means that the widgets JavaScript library is either not installed or\n",
       "  not enabled. See the <a href=\"https://ipywidgets.readthedocs.io/en/stable/user_install.html\">Jupyter\n",
       "  Widgets Documentation</a> for setup instructions.\n",
       "</p>\n",
       "<p>\n",
       "  If you're reading this message in another frontend (for example, a static\n",
       "  rendering on GitHub or <a href=\"https://nbviewer.jupyter.org/\">NBViewer</a>),\n",
       "  it may mean that your frontend doesn't currently support widgets.\n",
       "</p>\n"
      ],
      "text/plain": [
       "HBox(children=(HBox(children=(Label(value='Simulation progress'),), layout=Layout(max_width='35%', min_width='35%')), HBox(children=(IntProgress(value=0, max=101), HTML(value='')), layout=Layout(padding='0 0 0 20px'))), layout=Layout(display='flex', width='100%'))"
      ]
     },
     "metadata": {},
     "output_type": "display_data"
    },
    {
     "name": "stdout",
     "output_type": "stream",
     "text": [
      "\r"
     ]
    }
   ],
   "source": [
    "sim = system.simulation(kernel=\"SingleCPU\")\n",
    "sim.add_particles(\"A\", pos)\n",
    "sim.observe.energy(500)\n",
    "sim.observe.forces(500)\n",
    "sim.observe.particle_positions(500)\n",
    "sim.observe.rdf(\n",
    "    500, bin_borders=np.linspace(0.5, 4., 50),\n",
    "    types_count_from=\"A\", types_count_to=\"A\", particle_to_density=density)\n",
    "\n",
    "sim.output_file = \"lj_measure.h5\"\n",
    "if os.path.exists(sim.output_file):\n",
    "    os.remove(sim.output_file)\n",
    "\n",
    "sim.run(n_steps=10000, timestep=1e-4)"
   ]
  },
  {
   "cell_type": "code",
   "execution_count": 18,
   "metadata": {},
   "outputs": [],
   "source": [
    "traj = readdy.Trajectory(sim.output_file)\n",
    "_, energy = traj.read_observable_energy()\n",
    "_, forces = traj.read_observable_forces()\n",
    "_, positions = traj.read_observable_particle_positions()\n",
    "_, bin_centers, rdf = traj.read_observable_rdf()\n",
    "\n",
    "positions = convert_to_numpy(positions)\n",
    "forces = convert_to_numpy(forces)"
   ]
  },
  {
   "cell_type": "code",
   "execution_count": 10,
   "metadata": {},
   "outputs": [],
   "source": [
    "mean_energy_per_n, err_energy_per_n = dict(), dict()\n",
    "mean_rdf, err_rdf = dict(), dict()"
   ]
  },
  {
   "cell_type": "code",
   "execution_count": 19,
   "metadata": {},
   "outputs": [],
   "source": [
    "if False:\n",
    "    # currently pressure cannot be calculated for periodic systems\n",
    "    virial = positions * forces\n",
    "    virial = np.sum(virial, axis=2) # sum along coordinates\n",
    "    virial = np.sum(virial, axis=1) / n_particles # average along particles\n",
    "    mean_virial, dev_virial, err_virial = average_across_first_axis(virial) # time average\n",
    "    print(\"mean virial {}, err virial {}\".format(mean_virial, err_virial))\n",
    "    mean_pressure = density * 3. + 1. / 3. / edge_length**3 * mean_virial\n",
    "    err_pressure = err_virial / 3. / edge_length**3\n",
    "    print(\"mean pressure {}, err pressure {}\".format(mean_pressure, err_pressure))\n",
    "\n",
    "\n",
    "mean_energy, _, err_energy = average_across_first_axis(energy) # time average\n",
    "mean_energy_per_n[density] = mean_energy / n_particles\n",
    "err_energy_per_n[density] = err_energy / n_particles\n",
    "\n",
    "mean_rdf[density], _, err_rdf[density] = average_across_first_axis(rdf) # time average"
   ]
  },
  {
   "cell_type": "code",
   "execution_count": 24,
   "metadata": {},
   "outputs": [
    {
     "name": "stdout",
     "output_type": "stream",
     "text": [
      "mean energy per particle {0.3: -1.6678671765797455, 0.6: -3.1995739684456534}\n",
      "err energy per particle {0.3: 0.0065533260241699481, 0.6: 0.0089460121350560928}\n"
     ]
    },
    {
     "data": {
      "image/png": "[encoded data removed]",
      "text/plain": [
       "<matplotlib.figure.Figure at 0x7f69f946c4e0>"
      ]
     },
     "metadata": {},
     "output_type": "display_data"
    }
   ],
   "source": [
    "%matplotlib inline\n",
    "import matplotlib.pyplot as plt\n",
    "\n",
    "print(\"mean energy per particle {}\\nerr energy per particle {}\".format(mean_energy_per_n, err_energy_per_n))\n",
    "\n",
    "for key, value in mean_rdf.items():\n",
    "    plt.plot(bin_centers, value, label=r\"density $\\rho=\" + str(key) + r\"$\")\n",
    "plt.xlabel(r\"distance $r/\\sigma$\")\n",
    "plt.ylabel(r\"radial distribution $g(r)$\")\n",
    "plt.legend(loc=\"best\")\n",
    "plt.show()"
   ]
  }
 ],
 "metadata": {
  "kernelspec": {
   "display_name": "Python 3",
   "language": "python",
   "name": "python3"
  },
  "language_info": {
   "codemirror_mode": {
    "name": "ipython",
    "version": 3
   },
   "file_extension": ".py",
   "mimetype": "text/x-python",
   "name": "python",
   "nbconvert_exporter": "python",
   "pygments_lexer": "ipython3",
   "version": "3.6.3"
  },
  "readdy": {
   "position": "3",
   "title": "Lennard-Jones fluid - thermodynamic state variables"
  }
 },
 "nbformat": 4,
 "nbformat_minor": 2
}
