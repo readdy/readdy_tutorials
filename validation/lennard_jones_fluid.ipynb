{
 "cells": [
  {
   "cell_type": "markdown",
   "metadata": {},
   "source": [
    "We consider a simple fluid of particles that interact due to the Lennard Jones potential\n",
    "\n",
    "$$\n",
    "U(r) = 4\\varepsilon \\left[ \\left(\\frac{\\sigma}{r}\\right)^{12} - \\left(\\frac{\\sigma}{r}\\right)^6 \\right]\n",
    "$$\n",
    "\n",
    "To validate the integration of the diffusion process and correct implementation of energies and forces, we compare observables to results from the literature. The observables are: the mean potential energy of the system per particle $U$,  the pressure $P$ and the radial distribution function $g(r)$.\n",
    "\n",
    "The thermodynamic quantities of a Lennard Jones fluid are typically expressed in terms of the rescaled density\n",
    "$\\rho^* = (N/V)\\sigma^3$ and the rescaled temperature $T^* = k_BT/\\varepsilon$, where $N$ is the number of particles in the system, which is constant over time, and $V$ is the available volume.\n",
    "In simulation practice we set $\\sigma=1$ and $\\varepsilon=1$ to achieve the reduced units. The quantity $\\sigma^2 / 4D$ gives rise to a typical time scale, where $D$ is the self diffusion coefficient of the particles. In practice we set the diffusion coefficient to 1.\n",
    "\n",
    "We use an Euler-Maruyama scheme to integrate the positions of particles according to the overdamped Langevin equation of motion, in contrast to an integration of positions and momenta in the underdamped limit.\n",
    "\n",
    "The pressure can be measured from the acting forces according to [4]\n",
    "\n",
    "$$\n",
    "PV = Nk_BT + \\langle \\mathscr{W} \\rangle\n",
    "$$\n",
    "\n",
    "where\n",
    "\n",
    "$$\n",
    "\\mathscr{W} = \\frac{1}{3} \\sum_i \\sum_{j>i} \\mathbf{r}_{ij} \\mathbf{f}_{ij},\n",
    "$$\n",
    "\n",
    "is the virial that describes the deviation from ideal-gas-behavior. It is measured in terms of pairwise acting forces $\\mathbf{f}_{ij}$ between particles $i$ and $j$ which are separated by $\\mathbf{r}_{ij}$. This is implemented by ReaDDy's pressure observable.\n",
    "\n",
    "__Results__\n",
    "\n",
    "| origin | cutoff radius $r_c$ | density $\\rho$ | temperature $T$ | pressure $P$ | potential energy per particle $U$ |\n",
    "|---|---|---|---|---|---|\n",
    "|[1]|4|0.3|3|1.023(2)|-1.673(2)|\n",
    "|[2]|4|0.3|3|1.0245|-1.6717|\n",
    "|HALMD [3]|4|0.3|3|1.0234(3)|-1.6731(4)|\n",
    "|ReaDDy|4|0.3|3|1.035(7)|-1.679(3)|\n",
    "|||||||\n",
    "|[1]|4|0.6|3|3.69(1)|-3.212(3)|\n",
    "|[2]|4|0.6|3|3.7165|-3.2065|\n",
    "|HALMD [3]|4|0.6|3|3.6976(8)|-3.2121(2)|\n",
    "|ReaDDy|4|0.6|3|3.70(2)|-3.208(7)|\n",
    "\n",
    "[1] Molecular dynamics simulations, J. K. Johnson, J. A. Zollweg, and K. E. Gubbins,\n",
    "The Lennard-Jones equation of state revisited, Mol. Phys. 78, 591 (1993)\n",
    "\n",
    "[2] Integral equations theory, A. Ayadim, M. Oettel, and S Amokrane,\n",
    "Optimum free energy in the reference functional approach for the integral equations theory, J. Phys.: Condens. Matter 21, 115103 (2009).\n",
    "\n",
    "[3] HAL's MD package, http://halmd.org/validation.html\n",
    "\n",
    "[4] Allen, M. P., & Tildesley, D. J. (1987). Computer Simulation of Liquids. New York: Oxford University Press."
   ]
  },
  {
   "cell_type": "code",
   "execution_count": 1,
   "metadata": {},
   "outputs": [
    {
     "name": "stdout",
     "output_type": "stream",
     "text": [
      "v2.0.3-27\n"
     ]
    }
   ],
   "source": [
    "import os\n",
    "import numpy as np\n",
    "\n",
    "import readdy\n",
    "print(readdy.__version__)"
   ]
  },
  {
   "cell_type": "markdown",
   "metadata": {},
   "source": [
    "Utility methods"
   ]
  },
  {
   "cell_type": "code",
   "execution_count": 2,
   "metadata": {},
   "outputs": [],
   "source": [
    "def average_across_first_axis(values):\n",
    "    n_values = len(values)\n",
    "    mean = np.sum(values, axis=0) / n_values  # shape = n_bins\n",
    "    difference = values - mean  # broadcasting starts with last axis\n",
    "    std_dev = np.sqrt(np.sum(difference * difference, axis=0) / n_values)\n",
    "    std_err = np.sqrt(np.sum(difference * difference, axis=0) / n_values ** 2)\n",
    "    return mean, std_dev, std_err\n",
    "\n",
    "\n",
    "def lj_system(edge_length, temperature=1.):\n",
    "    system = readdy.ReactionDiffusionSystem(\n",
    "        box_size=[edge_length, edge_length, edge_length],\n",
    "        unit_system=None\n",
    "    )\n",
    "    system.kbt = temperature\n",
    "    system.add_species(\"A\", diffusion_constant=1.)\n",
    "    system.potentials.add_lennard_jones(\"A\", \"A\", m=12, n=6, epsilon=1., sigma=1., cutoff=4., shift=True)\n",
    "    return system"
   ]
  },
  {
   "cell_type": "markdown",
   "metadata": {},
   "source": [
    "Wrap the whole simulation and analysis in a function and perform it for the two densities 0.3 and 0.6."
   ]
  },
  {
   "cell_type": "code",
   "execution_count": 3,
   "metadata": {},
   "outputs": [],
   "source": [
    "def equilibrate_and_measure(density=0.3):\n",
    "    n_per_axis = 12\n",
    "    n_particles = n_per_axis ** 3\n",
    "    edge_length = (n_particles / density) ** (1. / 3.)\n",
    "    pos_x = np.linspace(-edge_length/2., edge_length/2.-1., n_per_axis)\n",
    "    pos = []\n",
    "    for x in pos_x:\n",
    "        for y in pos_x:\n",
    "            for z in pos_x:\n",
    "                pos.append([x,y,z])\n",
    "    pos = np.array(pos)\n",
    "    print(\"n_particles\", len(pos), \"box edge_length\", edge_length)\n",
    "    assert len(pos)==n_particles\n",
    "    \n",
    "    def pos_callback(x):\n",
    "        nonlocal pos\n",
    "        n = len(x)\n",
    "        pos = np.zeros((n,3))\n",
    "        for i in range(n):\n",
    "            pos[i][0] = x[i][0]\n",
    "            pos[i][1] = x[i][1]\n",
    "            pos[i][2] = x[i][2]\n",
    "        print(\"saved positions\")\n",
    "    \n",
    "    # create system\n",
    "    system = lj_system(edge_length, temperature=3.)\n",
    "    \n",
    "    # equilibrate\n",
    "    sim = system.simulation(kernel=\"CPU\")\n",
    "    sim.add_particles(\"A\", pos)\n",
    "\n",
    "    sim.observe.particle_positions(2000, callback=pos_callback, save=None)\n",
    "    sim.observe.energy(500, callback=lambda x: print(x), save=None)\n",
    "\n",
    "    sim.record_trajectory(stride=1)\n",
    "    sim.output_file = \"lj_eq.h5\"\n",
    "    if os.path.exists(sim.output_file):\n",
    "        os.remove(sim.output_file)\n",
    "\n",
    "    sim.run(n_steps=10000, timestep=1e-4)\n",
    "\n",
    "    traj = readdy.Trajectory(sim.output_file)\n",
    "    traj.convert_to_xyz(particle_radii={\"A\": 0.5})\n",
    "    \n",
    "    # measure\n",
    "    sim = system.simulation(kernel=\"CPU\")\n",
    "    sim.add_particles(\"A\", pos)\n",
    "    sim.observe.energy(200)\n",
    "    sim.observe.pressure(200)\n",
    "    sim.observe.rdf(\n",
    "        200, bin_borders=np.linspace(0.5, 4., 50),\n",
    "        types_count_from=\"A\", types_count_to=\"A\", particle_to_density=density)\n",
    "\n",
    "    sim.output_file = \"lj_measure.h5\"\n",
    "    if os.path.exists(sim.output_file):\n",
    "        os.remove(sim.output_file)\n",
    "\n",
    "    sim.run(n_steps=10000, timestep=1e-4)\n",
    "    \n",
    "    # obtain results\n",
    "    traj = readdy.Trajectory(sim.output_file)\n",
    "    _, energy = traj.read_observable_energy()\n",
    "    _, bin_centers, rdf = traj.read_observable_rdf()\n",
    "    _, pressure = traj.read_observable_pressure()\n",
    "    \n",
    "    energy_mean, _, energy_err = average_across_first_axis(energy) # time average\n",
    "    energy_mean /= n_particles\n",
    "    energy_err /= n_particles\n",
    "\n",
    "    pressure_mean, _, pressure_err = average_across_first_axis(pressure) # time average\n",
    "\n",
    "    rdf_mean, _, rdf_err = average_across_first_axis(rdf) # time average\n",
    "\n",
    "    return {\n",
    "        \"energy_mean\": energy_mean, \"energy_err\": energy_err,\n",
    "        \"pressure_mean\": pressure_mean, \"pressure_err\": pressure_err,\n",
    "        \"rdf_mean\": rdf_mean, \"rdf_err\": rdf_err, \"rdf_bin_centers\": bin_centers\n",
    "    }"
   ]
  },
  {
   "cell_type": "code",
   "execution_count": 4,
   "metadata": {
    "scrolled": false
   },
   "outputs": [
    {
     "name": "stderr",
     "output_type": "stream",
     "text": [
      "\r",
      "  0%|          | 0/1000 [00:00<?, ?it/s]"
     ]
    },
    {
     "name": "stdout",
     "output_type": "stream",
     "text": [
      "n_particles 1728 box edge_length 17.925618986228656\n",
      "Configured kernel context with:\n",
      "--------------------------------\n",
      " - kBT = 3.0\n",
      " - periodic b.c. = (true, true, true)\n",
      " - box size = (17.9256, 17.9256, 17.9256)\n",
      " - particle types:\n",
      "     *  particle type \"A\" with D=1.0\n",
      " - potentials of order 2:\n",
      "     * for types \"A\" and \"A\"\n",
      "         * 12.0-6.0-Lennard-Jones potential with cutoff=4.0, epsilon=1.0, k=4.0, and with energy shift\n",
      "\n",
      "Configured simulation loop with:\n",
      "--------------------------------\n",
      " - timeStep = 0.000100000\n",
      " - evaluateObservables = true\n",
      " - progressOutputStride = 100\n",
      " - context written to file = true\n",
      " - Performing actions:\n",
      "   * Initialize neighbor list? true\n",
      "   * Update neighbor list? true\n",
      "   * Clear neighbor list? true\n",
      "   * Integrate diffusion? true\n",
      "   * Calculate forces? true\n",
      "   * Handle reactions? true\n",
      "   * Handle topology reactions? true\n",
      "\n",
      "saved positions\n",
      "-2006.092638276083\n"
     ]
    },
    {
     "name": "stderr",
     "output_type": "stream",
     "text": [
      "  5%|▌         | 50/1000 [00:16<05:38,  2.81it/s]"
     ]
    },
    {
     "name": "stdout",
     "output_type": "stream",
     "text": [
      "-2663.1424920832724\n"
     ]
    },
    {
     "name": "stderr",
     "output_type": "stream",
     "text": [
      " 10%|█         | 100/1000 [00:32<05:05,  2.95it/s]"
     ]
    },
    {
     "name": "stdout",
     "output_type": "stream",
     "text": [
      "-2759.8158335119415\n"
     ]
    },
    {
     "name": "stderr",
     "output_type": "stream",
     "text": [
      " 15%|█▌        | 150/1000 [00:48<04:22,  3.24it/s]"
     ]
    },
    {
     "name": "stdout",
     "output_type": "stream",
     "text": [
      "-2769.480985654246\n"
     ]
    },
    {
     "name": "stderr",
     "output_type": "stream",
     "text": [
      " 20%|██        | 200/1000 [01:02<03:31,  3.78it/s]"
     ]
    },
    {
     "name": "stdout",
     "output_type": "stream",
     "text": [
      "saved positions\n",
      "-2758.3520150659533\n"
     ]
    },
    {
     "name": "stderr",
     "output_type": "stream",
     "text": [
      " 25%|██▌       | 250/1000 [01:15<03:08,  3.97it/s]"
     ]
    },
    {
     "name": "stdout",
     "output_type": "stream",
     "text": [
      "-2838.185778357589\n"
     ]
    },
    {
     "name": "stderr",
     "output_type": "stream",
     "text": [
      " 30%|███       | 300/1000 [01:29<03:00,  3.89it/s]"
     ]
    },
    {
     "name": "stdout",
     "output_type": "stream",
     "text": [
      "-2841.100358293537\n"
     ]
    },
    {
     "name": "stderr",
     "output_type": "stream",
     "text": [
      " 35%|███▌      | 350/1000 [01:43<02:51,  3.79it/s]"
     ]
    },
    {
     "name": "stdout",
     "output_type": "stream",
     "text": [
      "-2801.9811061164173\n"
     ]
    },
    {
     "name": "stderr",
     "output_type": "stream",
     "text": [
      " 40%|████      | 400/1000 [01:57<02:44,  3.66it/s]"
     ]
    },
    {
     "name": "stdout",
     "output_type": "stream",
     "text": [
      "saved positions\n",
      "-2865.1272257328483\n"
     ]
    },
    {
     "name": "stderr",
     "output_type": "stream",
     "text": [
      " 45%|████▌     | 450/1000 [02:11<02:37,  3.49it/s]"
     ]
    },
    {
     "name": "stdout",
     "output_type": "stream",
     "text": [
      "-2891.940879474006\n"
     ]
    },
    {
     "name": "stderr",
     "output_type": "stream",
     "text": [
      " 50%|█████     | 500/1000 [02:26<02:25,  3.43it/s]"
     ]
    },
    {
     "name": "stdout",
     "output_type": "stream",
     "text": [
      "-2824.1108673381364\n"
     ]
    },
    {
     "name": "stderr",
     "output_type": "stream",
     "text": [
      " 55%|█████▌    | 550/1000 [02:41<02:13,  3.38it/s]"
     ]
    },
    {
     "name": "stdout",
     "output_type": "stream",
     "text": [
      "-2930.0205689454847\n"
     ]
    },
    {
     "name": "stderr",
     "output_type": "stream",
     "text": [
      " 60%|██████    | 600/1000 [02:55<01:55,  3.46it/s]"
     ]
    },
    {
     "name": "stdout",
     "output_type": "stream",
     "text": [
      "saved positions\n",
      "-2901.9845693204093\n"
     ]
    },
    {
     "name": "stderr",
     "output_type": "stream",
     "text": [
      " 65%|██████▌   | 650/1000 [03:10<01:46,  3.28it/s]"
     ]
    },
    {
     "name": "stdout",
     "output_type": "stream",
     "text": [
      "-2861.9925088341834\n"
     ]
    },
    {
     "name": "stderr",
     "output_type": "stream",
     "text": [
      " 70%|███████   | 700/1000 [03:25<01:33,  3.21it/s]"
     ]
    },
    {
     "name": "stdout",
     "output_type": "stream",
     "text": [
      "-2829.326983694836\n"
     ]
    },
    {
     "name": "stderr",
     "output_type": "stream",
     "text": [
      " 75%|███████▌  | 750/1000 [03:41<01:16,  3.26it/s]"
     ]
    },
    {
     "name": "stdout",
     "output_type": "stream",
     "text": [
      "-2874.095379626244\n"
     ]
    },
    {
     "name": "stderr",
     "output_type": "stream",
     "text": [
      " 80%|████████  | 800/1000 [03:57<01:04,  3.09it/s]"
     ]
    },
    {
     "name": "stdout",
     "output_type": "stream",
     "text": [
      "saved positions\n",
      "-2918.8710282053125\n"
     ]
    },
    {
     "name": "stderr",
     "output_type": "stream",
     "text": [
      " 85%|████████▌ | 850/1000 [04:13<00:47,  3.14it/s]"
     ]
    },
    {
     "name": "stdout",
     "output_type": "stream",
     "text": [
      "-2809.1883820136936\n"
     ]
    },
    {
     "name": "stderr",
     "output_type": "stream",
     "text": [
      " 90%|█████████ | 900/1000 [04:28<00:30,  3.25it/s]"
     ]
    },
    {
     "name": "stdout",
     "output_type": "stream",
     "text": [
      "-2862.796625209495\n"
     ]
    },
    {
     "name": "stderr",
     "output_type": "stream",
     "text": [
      " 95%|█████████▌| 950/1000 [04:45<00:15,  3.15it/s]"
     ]
    },
    {
     "name": "stdout",
     "output_type": "stream",
     "text": [
      "-2996.5870985783413\n"
     ]
    },
    {
     "name": "stderr",
     "output_type": "stream",
     "text": [
      "100%|██████████| 1000/1000 [05:01<00:00,  3.32it/s]"
     ]
    },
    {
     "name": "stdout",
     "output_type": "stream",
     "text": [
      "saved positions\n",
      "-2969.2603788072392\n"
     ]
    },
    {
     "name": "stderr",
     "output_type": "stream",
     "text": [
      "\n",
      "  0%|          | 0/1000 [00:00<?, ?it/s]"
     ]
    },
    {
     "name": "stdout",
     "output_type": "stream",
     "text": [
      "Configured kernel context with:\n",
      "--------------------------------\n",
      " - kBT = 3.0\n",
      " - periodic b.c. = (true, true, true)\n",
      " - box size = (17.9256, 17.9256, 17.9256)\n",
      " - particle types:\n",
      "     *  particle type \"A\" with D=1.0\n",
      " - potentials of order 2:\n",
      "     * for types \"A\" and \"A\"\n",
      "         * 12.0-6.0-Lennard-Jones potential with cutoff=4.0, epsilon=1.0, k=4.0, and with energy shift\n",
      "\n",
      "Configured simulation loop with:\n",
      "--------------------------------\n",
      " - timeStep = 0.000100000\n",
      " - evaluateObservables = true\n",
      " - progressOutputStride = 100\n",
      " - context written to file = true\n",
      " - Performing actions:\n",
      "   * Initialize neighbor list? true\n",
      "   * Update neighbor list? true\n",
      "   * Clear neighbor list? true\n",
      "   * Integrate diffusion? true\n",
      "   * Calculate forces? true\n",
      "   * Handle reactions? true\n",
      "   * Handle topology reactions? true\n",
      "\n"
     ]
    },
    {
     "name": "stderr",
     "output_type": "stream",
     "text": [
      "100%|██████████| 1000/1000 [05:45<00:00,  2.89it/s]\n"
     ]
    }
   ],
   "source": [
    "result_low_dens = equilibrate_and_measure(density=0.3)"
   ]
  },
  {
   "cell_type": "code",
   "execution_count": 5,
   "metadata": {},
   "outputs": [
    {
     "data": {
      "text/plain": [
       "{'energy_mean': -1.6663065999844973,\n",
       " 'energy_err': 0.004068511442129084,\n",
       " 'pressure_mean': 1.0241356362812084,\n",
       " 'pressure_err': 0.007471245837546726,\n",
       " 'rdf_mean': array([0.00000000e+00, 0.00000000e+00, 0.00000000e+00, 0.00000000e+00,\n",
       "        8.73771465e-04, 1.42643258e-01, 7.90076755e-01, 1.37058562e+00,\n",
       "        1.48700339e+00, 1.40774728e+00, 1.26934966e+00, 1.17417650e+00,\n",
       "        1.09760049e+00, 1.03248774e+00, 1.00018151e+00, 9.77339310e-01,\n",
       "        9.52078308e-01, 9.54373365e-01, 9.58670740e-01, 9.78288430e-01,\n",
       "        9.85144126e-01, 9.96332472e-01, 9.96971138e-01, 1.01546690e+00,\n",
       "        1.00858485e+00, 1.01263937e+00, 1.00667808e+00, 1.00287432e+00,\n",
       "        1.00332166e+00, 1.00407493e+00, 1.00003326e+00, 9.97703466e-01,\n",
       "        1.00256106e+00, 1.00126730e+00, 1.00149326e+00, 9.99601950e-01,\n",
       "        9.99207132e-01, 1.00320129e+00, 1.00385635e+00, 1.00234372e+00,\n",
       "        1.00496500e+00, 9.96759322e-01, 1.00211504e+00, 1.00032322e+00,\n",
       "        9.97838840e-01, 1.00435081e+00, 1.00073824e+00, 9.97157011e-01,\n",
       "        1.00660962e+00]),\n",
       " 'rdf_err': array([0.        , 0.        , 0.        , 0.        , 0.00035392,\n",
       "        0.00397702, 0.00752209, 0.00932349, 0.00951939, 0.00999279,\n",
       "        0.00882471, 0.00700311, 0.00657965, 0.00635551, 0.00550131,\n",
       "        0.00465666, 0.00450317, 0.00426148, 0.00446077, 0.00411222,\n",
       "        0.00375464, 0.00418982, 0.00456293, 0.00339979, 0.00380776,\n",
       "        0.00383472, 0.00351115, 0.00340765, 0.0029781 , 0.00335204,\n",
       "        0.00309728, 0.00392425, 0.003419  , 0.00321209, 0.0030782 ,\n",
       "        0.00278284, 0.00280004, 0.00268631, 0.00244541, 0.0022105 ,\n",
       "        0.00284042, 0.00229337, 0.00223074, 0.00268411, 0.00236706,\n",
       "        0.00272272, 0.00256921, 0.00230784, 0.00235968]),\n",
       " 'rdf_bin_centers': array([0.53571429, 0.60714286, 0.67857143, 0.75      , 0.82142857,\n",
       "        0.89285714, 0.96428571, 1.03571429, 1.10714286, 1.17857143,\n",
       "        1.25      , 1.32142857, 1.39285714, 1.46428571, 1.53571429,\n",
       "        1.60714286, 1.67857143, 1.75      , 1.82142857, 1.89285714,\n",
       "        1.96428571, 2.03571429, 2.10714286, 2.17857143, 2.25      ,\n",
       "        2.32142857, 2.39285714, 2.46428571, 2.53571429, 2.60714286,\n",
       "        2.67857143, 2.75      , 2.82142857, 2.89285714, 2.96428571,\n",
       "        3.03571429, 3.10714286, 3.17857143, 3.25      , 3.32142857,\n",
       "        3.39285714, 3.46428571, 3.53571429, 3.60714286, 3.67857143,\n",
       "        3.75      , 3.82142857, 3.89285714, 3.96428571])}"
      ]
     },
     "execution_count": 5,
     "metadata": {},
     "output_type": "execute_result"
    }
   ],
   "source": [
    "result_low_dens"
   ]
  },
  {
   "cell_type": "code",
   "execution_count": 6,
   "metadata": {},
   "outputs": [
    {
     "name": "stderr",
     "output_type": "stream",
     "text": [
      "\r",
      "  0%|          | 0/1000 [00:00<?, ?it/s]"
     ]
    },
    {
     "name": "stdout",
     "output_type": "stream",
     "text": [
      "n_particles 1728 box edge_length 14.227573217960249\n",
      "Configured kernel context with:\n",
      "--------------------------------\n",
      " - kBT = 3.0\n",
      " - periodic b.c. = (true, true, true)\n",
      " - box size = (14.2276, 14.2276, 14.2276)\n",
      " - particle types:\n",
      "     *  particle type \"A\" with D=1.0\n",
      " - potentials of order 2:\n",
      "     * for types \"A\" and \"A\"\n",
      "         * 12.0-6.0-Lennard-Jones potential with cutoff=4.0, epsilon=1.0, k=4.0, and with energy shift\n",
      "\n",
      "Configured simulation loop with:\n",
      "--------------------------------\n",
      " - timeStep = 0.000100000\n",
      " - evaluateObservables = true\n",
      " - progressOutputStride = 100\n",
      " - context written to file = true\n",
      " - Performing actions:\n",
      "   * Initialize neighbor list? true\n",
      "   * Update neighbor list? true\n",
      "   * Clear neighbor list? true\n",
      "   * Integrate diffusion? true\n",
      "   * Calculate forces? true\n",
      "   * Handle reactions? true\n",
      "   * Handle topology reactions? true\n",
      "\n",
      "saved positions\n",
      "-6881.589189751791\n"
     ]
    },
    {
     "name": "stderr",
     "output_type": "stream",
     "text": [
      "  5%|▌         | 50/1000 [01:03<19:58,  1.26s/it]"
     ]
    },
    {
     "name": "stdout",
     "output_type": "stream",
     "text": [
      "-5551.336656562339\n"
     ]
    },
    {
     "name": "stderr",
     "output_type": "stream",
     "text": [
      " 10%|█         | 100/1000 [02:07<18:26,  1.23s/it]"
     ]
    },
    {
     "name": "stdout",
     "output_type": "stream",
     "text": [
      "-5517.792907415611\n"
     ]
    },
    {
     "name": "stderr",
     "output_type": "stream",
     "text": [
      " 15%|█▌        | 150/1000 [03:10<18:16,  1.29s/it]"
     ]
    },
    {
     "name": "stdout",
     "output_type": "stream",
     "text": [
      "-5578.622215635525\n"
     ]
    },
    {
     "name": "stderr",
     "output_type": "stream",
     "text": [
      " 20%|██        | 200/1000 [04:15<17:41,  1.33s/it]"
     ]
    },
    {
     "name": "stdout",
     "output_type": "stream",
     "text": [
      "saved positions\n",
      "-5565.460833824768\n"
     ]
    },
    {
     "name": "stderr",
     "output_type": "stream",
     "text": [
      " 25%|██▌       | 250/1000 [05:19<16:23,  1.31s/it]"
     ]
    },
    {
     "name": "stdout",
     "output_type": "stream",
     "text": [
      "-5530.96678538631\n"
     ]
    },
    {
     "name": "stderr",
     "output_type": "stream",
     "text": [
      " 30%|███       | 300/1000 [06:22<14:44,  1.26s/it]"
     ]
    },
    {
     "name": "stdout",
     "output_type": "stream",
     "text": [
      "-5748.91818758591\n"
     ]
    },
    {
     "name": "stderr",
     "output_type": "stream",
     "text": [
      " 35%|███▌      | 350/1000 [07:27<14:08,  1.31s/it]"
     ]
    },
    {
     "name": "stdout",
     "output_type": "stream",
     "text": [
      "-5522.570473647219\n"
     ]
    },
    {
     "name": "stderr",
     "output_type": "stream",
     "text": [
      " 40%|████      | 400/1000 [08:31<12:17,  1.23s/it]"
     ]
    },
    {
     "name": "stdout",
     "output_type": "stream",
     "text": [
      "saved positions\n",
      "-5427.976867616478\n"
     ]
    },
    {
     "name": "stderr",
     "output_type": "stream",
     "text": [
      " 45%|████▌     | 450/1000 [09:40<13:40,  1.49s/it]"
     ]
    },
    {
     "name": "stdout",
     "output_type": "stream",
     "text": [
      "-5404.535270232334\n"
     ]
    },
    {
     "name": "stderr",
     "output_type": "stream",
     "text": [
      " 50%|█████     | 500/1000 [10:53<11:03,  1.33s/it]"
     ]
    },
    {
     "name": "stdout",
     "output_type": "stream",
     "text": [
      "-5425.220376798604\n"
     ]
    },
    {
     "name": "stderr",
     "output_type": "stream",
     "text": [
      " 55%|█████▌    | 550/1000 [11:57<10:02,  1.34s/it]"
     ]
    },
    {
     "name": "stdout",
     "output_type": "stream",
     "text": [
      "-5598.445519678548\n"
     ]
    },
    {
     "name": "stderr",
     "output_type": "stream",
     "text": [
      " 60%|██████    | 600/1000 [13:03<08:40,  1.30s/it]"
     ]
    },
    {
     "name": "stdout",
     "output_type": "stream",
     "text": [
      "saved positions\n",
      "-5534.771794722609\n"
     ]
    },
    {
     "name": "stderr",
     "output_type": "stream",
     "text": [
      " 65%|██████▌   | 650/1000 [14:08<07:34,  1.30s/it]"
     ]
    },
    {
     "name": "stdout",
     "output_type": "stream",
     "text": [
      "-5598.408378384099\n"
     ]
    },
    {
     "name": "stderr",
     "output_type": "stream",
     "text": [
      " 70%|███████   | 700/1000 [15:12<06:14,  1.25s/it]"
     ]
    },
    {
     "name": "stdout",
     "output_type": "stream",
     "text": [
      "-5391.389721014838\n"
     ]
    },
    {
     "name": "stderr",
     "output_type": "stream",
     "text": [
      " 75%|███████▌  | 750/1000 [16:18<05:27,  1.31s/it]"
     ]
    },
    {
     "name": "stdout",
     "output_type": "stream",
     "text": [
      "-5525.528134909822\n"
     ]
    },
    {
     "name": "stderr",
     "output_type": "stream",
     "text": [
      " 80%|████████  | 800/1000 [17:25<04:24,  1.32s/it]"
     ]
    },
    {
     "name": "stdout",
     "output_type": "stream",
     "text": [
      "saved positions\n",
      "-5454.222681817357\n"
     ]
    },
    {
     "name": "stderr",
     "output_type": "stream",
     "text": [
      " 85%|████████▌ | 850/1000 [18:30<03:13,  1.29s/it]"
     ]
    },
    {
     "name": "stdout",
     "output_type": "stream",
     "text": [
      "-5578.676448117959\n"
     ]
    },
    {
     "name": "stderr",
     "output_type": "stream",
     "text": [
      " 90%|█████████ | 900/1000 [19:37<02:11,  1.31s/it]"
     ]
    },
    {
     "name": "stdout",
     "output_type": "stream",
     "text": [
      "-5409.8892046793335\n"
     ]
    },
    {
     "name": "stderr",
     "output_type": "stream",
     "text": [
      " 95%|█████████▌| 950/1000 [20:43<01:06,  1.33s/it]"
     ]
    },
    {
     "name": "stdout",
     "output_type": "stream",
     "text": [
      "-5757.165020514167\n"
     ]
    },
    {
     "name": "stderr",
     "output_type": "stream",
     "text": [
      "100%|██████████| 1000/1000 [21:49<00:00,  1.31s/it]"
     ]
    },
    {
     "name": "stdout",
     "output_type": "stream",
     "text": [
      "saved positions\n",
      "-5447.436977709065\n"
     ]
    },
    {
     "name": "stderr",
     "output_type": "stream",
     "text": [
      "\n",
      "  0%|          | 0/1000 [00:00<?, ?it/s]"
     ]
    },
    {
     "name": "stdout",
     "output_type": "stream",
     "text": [
      "Configured kernel context with:\n",
      "--------------------------------\n",
      " - kBT = 3.0\n",
      " - periodic b.c. = (true, true, true)\n",
      " - box size = (14.2276, 14.2276, 14.2276)\n",
      " - particle types:\n",
      "     *  particle type \"A\" with D=1.0\n",
      " - potentials of order 2:\n",
      "     * for types \"A\" and \"A\"\n",
      "         * 12.0-6.0-Lennard-Jones potential with cutoff=4.0, epsilon=1.0, k=4.0, and with energy shift\n",
      "\n",
      "Configured simulation loop with:\n",
      "--------------------------------\n",
      " - timeStep = 0.000100000\n",
      " - evaluateObservables = true\n",
      " - progressOutputStride = 100\n",
      " - context written to file = true\n",
      " - Performing actions:\n",
      "   * Initialize neighbor list? true\n",
      "   * Update neighbor list? true\n",
      "   * Clear neighbor list? true\n",
      "   * Integrate diffusion? true\n",
      "   * Calculate forces? true\n",
      "   * Handle reactions? true\n",
      "   * Handle topology reactions? true\n",
      "\n"
     ]
    },
    {
     "name": "stderr",
     "output_type": "stream",
     "text": [
      "100%|██████████| 1000/1000 [26:54<00:00,  1.61s/it]\n"
     ]
    }
   ],
   "source": [
    "result_hi_dens = equilibrate_and_measure(density=0.6)"
   ]
  },
  {
   "cell_type": "code",
   "execution_count": 7,
   "metadata": {},
   "outputs": [
    {
     "data": {
      "text/plain": [
       "{'energy_mean': -3.193799119175668,\n",
       " 'energy_err': 0.005697042916386074,\n",
       " 'pressure_mean': 3.736313759014431,\n",
       " 'pressure_err': 0.0193156366839875,\n",
       " 'rdf_mean': array([0.        , 0.        , 0.        , 0.        , 0.00318302,\n",
       "        0.21544415, 1.09583401, 1.71095452, 1.71660056, 1.5030973 ,\n",
       "        1.28105097, 1.11817947, 1.00079171, 0.9281504 , 0.88249208,\n",
       "        0.87185074, 0.87061258, 0.89063383, 0.92622229, 0.97184412,\n",
       "        1.01878889, 1.05056475, 1.06129247, 1.04824337, 1.03340413,\n",
       "        1.019903  , 1.00605256, 0.99656021, 0.98725976, 0.98180169,\n",
       "        0.98345413, 0.98252596, 0.99277386, 0.99484756, 0.99802621,\n",
       "        1.00303123, 1.00645232, 1.00655447, 1.00674462, 1.00682027,\n",
       "        1.00066395, 0.99939614, 0.99703547, 0.99774215, 0.9951048 ,\n",
       "        0.99884033, 0.99708233, 0.99665095, 0.99983404]),\n",
       " 'rdf_err': array([0.        , 0.        , 0.        , 0.        , 0.000414  ,\n",
       "        0.00362726, 0.00552918, 0.0078111 , 0.00731   , 0.00614851,\n",
       "        0.00501308, 0.0051015 , 0.00379222, 0.00358177, 0.00398928,\n",
       "        0.00347434, 0.00301331, 0.00324984, 0.00282947, 0.00364745,\n",
       "        0.00313543, 0.00295688, 0.00287935, 0.00295896, 0.00219868,\n",
       "        0.00230414, 0.00289815, 0.00289699, 0.00200497, 0.00210439,\n",
       "        0.00214856, 0.00240868, 0.00188535, 0.00211364, 0.00206456,\n",
       "        0.00200478, 0.00194404, 0.0020108 , 0.00211606, 0.0020575 ,\n",
       "        0.00168416, 0.001548  , 0.00144649, 0.00169588, 0.00170068,\n",
       "        0.00159604, 0.00160979, 0.00145555, 0.0016807 ]),\n",
       " 'rdf_bin_centers': array([0.53571429, 0.60714286, 0.67857143, 0.75      , 0.82142857,\n",
       "        0.89285714, 0.96428571, 1.03571429, 1.10714286, 1.17857143,\n",
       "        1.25      , 1.32142857, 1.39285714, 1.46428571, 1.53571429,\n",
       "        1.60714286, 1.67857143, 1.75      , 1.82142857, 1.89285714,\n",
       "        1.96428571, 2.03571429, 2.10714286, 2.17857143, 2.25      ,\n",
       "        2.32142857, 2.39285714, 2.46428571, 2.53571429, 2.60714286,\n",
       "        2.67857143, 2.75      , 2.82142857, 2.89285714, 2.96428571,\n",
       "        3.03571429, 3.10714286, 3.17857143, 3.25      , 3.32142857,\n",
       "        3.39285714, 3.46428571, 3.53571429, 3.60714286, 3.67857143,\n",
       "        3.75      , 3.82142857, 3.89285714, 3.96428571])}"
      ]
     },
     "execution_count": 7,
     "metadata": {},
     "output_type": "execute_result"
    }
   ],
   "source": [
    "result_hi_dens"
   ]
  },
  {
   "cell_type": "code",
   "execution_count": 9,
   "metadata": {},
   "outputs": [
    {
     "name": "stdout",
     "output_type": "stream",
     "text": [
      "density 0.3:\n",
      "mean energy per particle -1.6663065999844973\n",
      "err energy per particle 0.004068511442129084\n",
      "pressure 1.0241356362812084\n",
      "err pressure 0.007471245837546726\n",
      "density 0.6:\n",
      "mean energy per particle -3.193799119175668\n",
      "err energy per particle 0.005697042916386074\n",
      "pressure 3.736313759014431\n",
      "err pressure 0.0193156366839875\n"
     ]
    },
    {
     "data": {
      "image/png": "[encoded data removed]",
      "text/plain": [
       "<Figure size 432x288 with 1 Axes>"
      ]
     },
     "metadata": {
      "needs_background": "light"
     },
     "output_type": "display_data"
    }
   ],
   "source": [
    "%matplotlib inline\n",
    "import matplotlib.pyplot as plt\n",
    "\n",
    "print(\"density 0.3:\")\n",
    "print(\"mean energy per particle {}\\nerr energy per particle {}\".format(\n",
    "    result_low_dens[\"energy_mean\"], result_low_dens[\"energy_err\"]))\n",
    "print(\"pressure {}\\nerr pressure {}\".format(\n",
    "    result_low_dens[\"pressure_mean\"], result_low_dens[\"pressure_err\"]))\n",
    "print(\"density 0.6:\")\n",
    "print(\"mean energy per particle {}\\nerr energy per particle {}\".format(\n",
    "    result_hi_dens[\"energy_mean\"], result_hi_dens[\"energy_err\"]))\n",
    "print(\"pressure {}\\nerr pressure {}\".format(\n",
    "    result_hi_dens[\"pressure_mean\"], result_hi_dens[\"pressure_err\"]))\n",
    "\n",
    "plt.plot(result_low_dens[\"rdf_bin_centers\"], result_low_dens[\"rdf_mean\"], label=r\"density $\\rho=0.3$\")\n",
    "plt.plot(result_hi_dens[\"rdf_bin_centers\"], result_hi_dens[\"rdf_mean\"], label=r\"density $\\rho=0.6$\")\n",
    "plt.xlabel(r\"distance $r/\\sigma$\")\n",
    "plt.ylabel(r\"radial distribution $g(r)$\")\n",
    "plt.legend(loc=\"best\")\n",
    "plt.show()"
   ]
  }
 ],
 "metadata": {
  "kernelspec": {
   "display_name": "Python 3",
   "language": "python",
   "name": "python3"
  },
  "language_info": {
   "codemirror_mode": {
    "name": "ipython",
    "version": 3
   },
   "file_extension": ".py",
   "mimetype": "text/x-python",
   "name": "python",
   "nbconvert_exporter": "python",
   "pygments_lexer": "ipython3",
   "version": "3.8.6"
  },
  "readdy": {
   "position": "3",
   "title": "Lennard-Jones fluid - thermodynamic state variables"
  }
 },
 "nbformat": 4,
 "nbformat_minor": 2
}
