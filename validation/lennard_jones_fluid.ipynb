{
 "cells": [
  {
   "cell_type": "markdown",
   "metadata": {},
   "source": [
    "We consider a simple fluid of particles that interact due to the Lennard Jones potential\n",
    "\n",
    "$$\n",
    "U(r) = 4\\varepsilon \\left[ \\left(\\frac{\\sigma}{r}\\right)^{12} - \\left(\\frac{\\sigma}{r}\\right)^6 \\right]\n",
    "$$\n",
    "\n",
    "To validate the integration of the diffusion process and correct implementation of energies and forces, we compare observables to other known results. The observables are: the mean potential energy of the system per particle $U$,  the pressure $P$ and the radial distribution function $g(r)$.\n",
    "\n",
    "The thermodynamic quantities of a Lennard Jones fluid are typically expressed in terms of the rescaled density\n",
    "$\\rho^* = (N/V)\\sigma^3$ and the rescaled temperature $T^* = k_BT/\\varepsilon$, where $N$ is the number of particles in the system, which is constant over time, and $V$ is the available volume.\n",
    "In simulation practice we set $\\sigma=1$ and $\\varepsilon=1$ to achieve the reduced units. The time units are $\\sigma^2 / 4D$, where $D$ is the self diffusion coefficient of the particles. Hence in practice we set the diffusion coefficient to 1 and have a fully rescaled unit system.\n",
    "\n",
    "We use an Euler scheme to integrate the positions of particles according to the overdamped Langevin equation of motion, in contrast to a full integration of positions and momenta as in the underdamped limit.\n",
    "\n",
    "The pressure can be measured from the acting forces according to [4].\n",
    "\n",
    "$$\n",
    "PV = Nk_BT + \\langle \\mathscr{W} \\rangle\n",
    "$$\n",
    "\n",
    "where\n",
    "\n",
    "$$\n",
    "\\mathscr{W} = \\frac{1}{3} \\sum_i \\sum_{j>i} \\mathbf{r}_{ij} \\mathbf{f}_{ij},\n",
    "$$\n",
    "\n",
    "This is implemented by ReaDDy's pressure observable.\n",
    "\n",
    "__Results__\n",
    "\n",
    "| origin | cutoff radius $r_c$ | density $\\rho$ | temperature $T$ | pressure $P$ | potential energy per particle $U$ |\n",
    "|---|---|---|---|---|---|\n",
    "|[1]|4|0.3|3|1.023(2)|-1.673(2)|\n",
    "|[2]|4|0.3|3|1.0245|-1.6717|\n",
    "|HALMD [3]|4|0.3|3|1.0234(3)|-1.6731(4)|\n",
    "|ReaDDy|4|0.3|3|--- *|-1.668(7)|\n",
    "|||||||\n",
    "|[1]|4|0.6|3|3.69(1)|-3.212(3)|\n",
    "|[2]|4|0.6|3|3.7165|-3.2065|\n",
    "|HALMD [3]|4|0.6|3|3.6976(8)|-3.2121(2)|\n",
    "|ReaDDy|4|0.6|3|--- *|-3.200(9)|\n",
    "\n",
    "[1] Molecular dynamics simulations, J. K. Johnson, J. A. Zollweg, and K. E. Gubbins,\n",
    "The Lennard-Jones equation of state revisited, Mol. Phys. 78, 591 (1993)\n",
    "\n",
    "[2] Integral equations theory, A. Ayadim, M. Oettel, and S Amokrane,\n",
    "Optimum free energy in the reference functional approach for the integral equations theory, J. Phys.: Condens. Matter 21, 115103 (2009).\n",
    "\n",
    "[3] HAL's MD package, http://halmd.org/validation.html\n",
    "\n",
    "[4] Allen, M. P., & Tildesley, D. J. (1987). Computer Simulation of Liquids. New York: Oxford University Press."
   ]
  },
  {
   "cell_type": "code",
   "execution_count": 1,
   "metadata": {},
   "outputs": [
    {
     "name": "stdout",
     "output_type": "stream",
     "text": [
      "86-1234567\n"
     ]
    },
    {
     "name": "stderr",
     "output_type": "stream",
     "text": [
      "/home/chris/miniconda3/envs/tutorials/lib/python3.6/site-packages/h5py/__init__.py:36: FutureWarning: Conversion of the second argument of issubdtype from `float` to `np.floating` is deprecated. In future, it will be treated as `np.float64 == np.dtype(float).type`.\n",
      "  from ._conv import register_converters as _register_converters\n"
     ]
    }
   ],
   "source": [
    "import os\n",
    "import numpy as np\n",
    "\n",
    "import readdy\n",
    "print(readdy.__version__)"
   ]
  },
  {
   "cell_type": "markdown",
   "metadata": {},
   "source": [
    "Utility methods"
   ]
  },
  {
   "cell_type": "code",
   "execution_count": 2,
   "metadata": {},
   "outputs": [],
   "source": [
    "def average_across_first_axis(values):\n",
    "    n_values = len(values)\n",
    "    mean = np.sum(values, axis=0) / n_values  # shape = n_bins\n",
    "    difference = values - mean  # broadcasting starts with last axis\n",
    "    std_dev = np.sqrt(np.sum(difference * difference, axis=0) / n_values)\n",
    "    std_err = np.sqrt(np.sum(difference * difference, axis=0) / n_values ** 2)\n",
    "    return mean, std_dev, std_err\n",
    "\n",
    "\n",
    "def lj_system(edge_length, temperature=1.):\n",
    "    system = readdy.ReactionDiffusionSystem(\n",
    "        box_size=[edge_length, edge_length, edge_length],\n",
    "        unit_system=None\n",
    "    )\n",
    "    system.kbt = temperature\n",
    "    system.add_species(\"A\", diffusion_constant=1.)\n",
    "    system.potentials.add_lennard_jones(\"A\", \"A\", m=12, n=6, epsilon=1., sigma=1., cutoff=4., shift=True)\n",
    "    return system"
   ]
  },
  {
   "cell_type": "markdown",
   "metadata": {},
   "source": [
    "Wrap the whole simulation and analysis in a function and perform it for the two densities 0.3 and 0.6."
   ]
  },
  {
   "cell_type": "code",
   "execution_count": 3,
   "metadata": {},
   "outputs": [],
   "source": [
    "def equilibrate_and_measure(density=0.3):\n",
    "    n_per_axis = 12\n",
    "    n_particles = n_per_axis ** 3\n",
    "    edge_length = (n_particles / density) ** (1. / 3.)\n",
    "    pos_x = np.linspace(-edge_length/2., edge_length/2.-1., n_per_axis)\n",
    "    pos = []\n",
    "    for x in pos_x:\n",
    "        for y in pos_x:\n",
    "            for z in pos_x:\n",
    "                pos.append([x,y,z])\n",
    "    pos = np.array(pos)\n",
    "    print(\"n_particles\", len(pos), \"box edge_length\", edge_length)\n",
    "    assert len(pos)==n_particles\n",
    "    \n",
    "    def pos_callback(x):\n",
    "        nonlocal pos\n",
    "        n = len(x)\n",
    "        pos = np.zeros((n,3))\n",
    "        for i in range(n):\n",
    "            pos[i][0] = x[i][0]\n",
    "            pos[i][1] = x[i][1]\n",
    "            pos[i][2] = x[i][2]\n",
    "        print(\"saved positions\")\n",
    "    \n",
    "    # create system\n",
    "    system = lj_system(edge_length, temperature=3.)\n",
    "    \n",
    "    # equilibrate\n",
    "    sim = system.simulation(kernel=\"CPU\")\n",
    "    sim.add_particles(\"A\", pos)\n",
    "\n",
    "    sim.observe.particle_positions(2000, callback=pos_callback, save=None)\n",
    "    sim.observe.energy(500, callback=lambda x: print(x), save=None)\n",
    "\n",
    "    sim.record_trajectory(stride=1)\n",
    "    sim.output_file = \"lj_eq.h5\"\n",
    "    if os.path.exists(sim.output_file):\n",
    "        os.remove(sim.output_file)\n",
    "\n",
    "    sim.run(n_steps=10000, timestep=1e-4)\n",
    "\n",
    "    traj = readdy.Trajectory(sim.output_file)\n",
    "    traj.convert_to_xyz(particle_radii={\"A\": 0.5})\n",
    "    \n",
    "    # measure\n",
    "    sim = system.simulation(kernel=\"CPU\")\n",
    "    sim.add_particles(\"A\", pos)\n",
    "    sim.observe.energy(200)\n",
    "    sim.observe.pressure(200)\n",
    "    sim.observe.rdf(\n",
    "        200, bin_borders=np.linspace(0.5, 4., 50),\n",
    "        types_count_from=\"A\", types_count_to=\"A\", particle_to_density=density)\n",
    "\n",
    "    sim.output_file = \"lj_measure.h5\"\n",
    "    if os.path.exists(sim.output_file):\n",
    "        os.remove(sim.output_file)\n",
    "\n",
    "    sim.run(n_steps=10000, timestep=1e-4)\n",
    "    \n",
    "    # obtain results\n",
    "    traj = readdy.Trajectory(sim.output_file)\n",
    "    _, energy = traj.read_observable_energy()\n",
    "    _, bin_centers, rdf = traj.read_observable_rdf()\n",
    "    _, pressure = traj.read_observable_pressure()\n",
    "    \n",
    "    energy_mean, _, energy_err = average_across_first_axis(energy) # time average\n",
    "    energy_mean /= n_particles\n",
    "    energy_err /= n_particles\n",
    "\n",
    "    pressure_mean, _, pressure_err = average_across_first_axis(pressure) # time average\n",
    "\n",
    "    rdf_mean, _, rdf_err = average_across_first_axis(rdf) # time average\n",
    "\n",
    "    return {\n",
    "        \"energy_mean\": energy_mean, \"energy_err\": energy_err,\n",
    "        \"pressure_mean\": pressure_mean, \"pressure_err\": pressure_err,\n",
    "        \"rdf_mean\": rdf_mean, \"rdf_err\": rdf_err, \"rdf_bin_centers\": bin_centers\n",
    "    }"
   ]
  },
  {
   "cell_type": "code",
   "execution_count": 4,
   "metadata": {},
   "outputs": [
    {
     "name": "stdout",
     "output_type": "stream",
     "text": [
      "n_particles 1728 box edge_length 17.925618986228656\n",
      "Configured kernel context with:\n",
      "--------------------------------\n",
      " - kBT = 3\n",
      " - periodic b.c. = (true, true, true)\n",
      " - box size = (17.9256, 17.9256, 17.9256)\n",
      " - particle types:\n",
      "     *  particle type \"A\" with D=1\n",
      " - potentials of order 2:\n",
      "     * for types \"A\" and \"A\"\n",
      "         * 12-6-Lennard-Jones potential with cutoff=4, epsilon=1, k=4, and with energy shift\n",
      "\n"
     ]
    },
    {
     "data": {
      "application/vnd.jupyter.widget-view+json": {
       "model_id": "a3ae4447d57c4d41802d117843ea2572",
       "version_major": 2,
       "version_minor": 0
      },
      "text/html": [
       "<p>Failed to display Jupyter Widget of type <code>HBox</code>.</p>\n",
       "<p>\n",
       "  If you're reading this message in the Jupyter Notebook or JupyterLab Notebook, it may mean\n",
       "  that the widgets JavaScript is still loading. If this message persists, it\n",
       "  likely means that the widgets JavaScript library is either not installed or\n",
       "  not enabled. See the <a href=\"https://ipywidgets.readthedocs.io/en/stable/user_install.html\">Jupyter\n",
       "  Widgets Documentation</a> for setup instructions.\n",
       "</p>\n",
       "<p>\n",
       "  If you're reading this message in another frontend (for example, a static\n",
       "  rendering on GitHub or <a href=\"https://nbviewer.jupyter.org/\">NBViewer</a>),\n",
       "  it may mean that your frontend doesn't currently support widgets.\n",
       "</p>\n"
      ],
      "text/plain": [
       "HBox(children=(HBox(children=(Label(value='Simulation progress'),), layout=Layout(max_width='35%', min_width='35%')), HBox(children=(IntProgress(value=0, max=1000), HTML(value='')), layout=Layout(padding='0 0 0 20px'))), layout=Layout(display='flex', width='100%'))"
      ]
     },
     "metadata": {},
     "output_type": "display_data"
    },
    {
     "name": "stdout",
     "output_type": "stream",
     "text": [
      "saved positions\n",
      "-2006.0926382760322\n",
      "-2622.8761401382144\n",
      "-2788.959874718062\n",
      "-2788.1858998180633\n",
      "saved positions\n",
      "-2841.400538210281\n",
      "-2959.928045257567\n",
      "-2876.4611642522195\n",
      "-2993.33155002436\n",
      "saved positions\n",
      "-2836.7776897147037\n",
      "-2946.2830287478305\n",
      "-2899.8887540283704\n",
      "-2846.3360349249842\n",
      "saved positions\n",
      "-2850.5906091718102\n",
      "-2921.989435254799\n",
      "-2845.1244627422743\n",
      "-2846.496759060629\n",
      "saved positions\n",
      "-2870.7215525792976\n",
      "-2870.560311314554\n",
      "-2949.401154719958\n",
      "-2875.522397485467\n",
      "saved positions\n",
      "-2899.6706721326827\n",
      "Configured kernel context with:\n",
      "--------------------------------\n",
      " - kBT = 3\n",
      " - periodic b.c. = (true, true, true)\n",
      " - box size = (17.9256, 17.9256, 17.9256)\n",
      " - particle types:\n",
      "     *  particle type \"A\" with D=1\n",
      " - potentials of order 2:\n",
      "     * for types \"A\" and \"A\"\n",
      "         * 12-6-Lennard-Jones potential with cutoff=4, epsilon=1, k=4, and with energy shift\n",
      "\n"
     ]
    },
    {
     "data": {
      "application/vnd.jupyter.widget-view+json": {
       "model_id": "3105614262d940219792b8801f670355",
       "version_major": 2,
       "version_minor": 0
      },
      "text/html": [
       "<p>Failed to display Jupyter Widget of type <code>HBox</code>.</p>\n",
       "<p>\n",
       "  If you're reading this message in the Jupyter Notebook or JupyterLab Notebook, it may mean\n",
       "  that the widgets JavaScript is still loading. If this message persists, it\n",
       "  likely means that the widgets JavaScript library is either not installed or\n",
       "  not enabled. See the <a href=\"https://ipywidgets.readthedocs.io/en/stable/user_install.html\">Jupyter\n",
       "  Widgets Documentation</a> for setup instructions.\n",
       "</p>\n",
       "<p>\n",
       "  If you're reading this message in another frontend (for example, a static\n",
       "  rendering on GitHub or <a href=\"https://nbviewer.jupyter.org/\">NBViewer</a>),\n",
       "  it may mean that your frontend doesn't currently support widgets.\n",
       "</p>\n"
      ],
      "text/plain": [
       "HBox(children=(HBox(children=(Label(value='Simulation progress'),), layout=Layout(max_width='35%', min_width='35%')), HBox(children=(IntProgress(value=0, max=1000), HTML(value='')), layout=Layout(padding='0 0 0 20px'))), layout=Layout(display='flex', width='100%'))"
      ]
     },
     "metadata": {},
     "output_type": "display_data"
    },
    {
     "name": "stdout",
     "output_type": "stream",
     "text": [
      "\r"
     ]
    }
   ],
   "source": [
    "result_low_dens = equilibrate_and_measure(density=0.3)"
   ]
  },
  {
   "cell_type": "code",
   "execution_count": 5,
   "metadata": {},
   "outputs": [
    {
     "data": {
      "text/plain": [
       "{'energy_err': 0.003456790786372574,\n",
       " 'energy_mean': -1.6688324044596774,\n",
       " 'pressure_err': 0.093940555098919,\n",
       " 'pressure_mean': 0.7248811823605257,\n",
       " 'rdf_bin_centers': array([0.53571429, 0.60714286, 0.67857143, 0.75      , 0.82142857,\n",
       "        0.89285714, 0.96428571, 1.03571429, 1.10714286, 1.17857143,\n",
       "        1.25      , 1.32142857, 1.39285714, 1.46428571, 1.53571429,\n",
       "        1.60714286, 1.67857143, 1.75      , 1.82142857, 1.89285714,\n",
       "        1.96428571, 2.03571429, 2.10714286, 2.17857143, 2.25      ,\n",
       "        2.32142857, 2.39285714, 2.46428571, 2.53571429, 2.60714286,\n",
       "        2.67857143, 2.75      , 2.82142857, 2.89285714, 2.96428571,\n",
       "        3.03571429, 3.10714286, 3.17857143, 3.25      , 3.32142857,\n",
       "        3.39285714, 3.46428571, 3.53571429, 3.60714286, 3.67857143,\n",
       "        3.75      , 3.82142857, 3.89285714, 3.96428571]),\n",
       " 'rdf_err': array([0.        , 0.        , 0.        , 0.        , 0.00035392,\n",
       "        0.00357092, 0.00724873, 0.00873965, 0.01206437, 0.00894255,\n",
       "        0.00864616, 0.0070853 , 0.00665674, 0.00627902, 0.00528934,\n",
       "        0.00595156, 0.00460473, 0.0054374 , 0.00460643, 0.00478009,\n",
       "        0.00418605, 0.00476713, 0.00356214, 0.00427683, 0.00387829,\n",
       "        0.00464935, 0.00360245, 0.00376787, 0.00385402, 0.00328461,\n",
       "        0.00321739, 0.00351037, 0.00323376, 0.00346313, 0.00372373,\n",
       "        0.00273096, 0.00254907, 0.0025619 , 0.00232719, 0.00302337,\n",
       "        0.00352903, 0.00243194, 0.00271174, 0.00306909, 0.00225912,\n",
       "        0.0029912 , 0.00242329, 0.00247842, 0.00236078]),\n",
       " 'rdf_mean': array([0.00000000e+00, 0.00000000e+00, 0.00000000e+00, 0.00000000e+00,\n",
       "        1.24824495e-03, 1.42220611e-01, 8.07652135e-01, 1.36288923e+00,\n",
       "        1.50411751e+00, 1.39640475e+00, 1.29183559e+00, 1.17181213e+00,\n",
       "        1.10229109e+00, 1.04215516e+00, 9.99431213e-01, 9.83831416e-01,\n",
       "        9.67240981e-01, 9.66205008e-01, 9.75485514e-01, 9.78594182e-01,\n",
       "        9.81780742e-01, 1.00379526e+00, 1.00408843e+00, 1.01670978e+00,\n",
       "        1.01765696e+00, 1.01310849e+00, 1.01728972e+00, 1.01204712e+00,\n",
       "        1.00783027e+00, 1.00453366e+00, 9.99269787e-01, 9.97603174e-01,\n",
       "        9.97331342e-01, 9.95839472e-01, 1.00290309e+00, 1.00391827e+00,\n",
       "        1.00068236e+00, 1.00542006e+00, 1.00096809e+00, 9.97233108e-01,\n",
       "        1.00314209e+00, 9.99006411e-01, 9.99344363e-01, 9.96909858e-01,\n",
       "        1.00138251e+00, 9.95996700e-01, 9.98135532e-01, 9.96406257e-01,\n",
       "        9.94608235e-01])}"
      ]
     },
     "execution_count": 5,
     "metadata": {},
     "output_type": "execute_result"
    }
   ],
   "source": [
    "result_low_dens"
   ]
  },
  {
   "cell_type": "code",
   "execution_count": 9,
   "metadata": {},
   "outputs": [
    {
     "name": "stdout",
     "output_type": "stream",
     "text": [
      "n_particles 1728 box edge_length 14.227573217960249\n",
      "Configured kernel context with:\n",
      "--------------------------------\n",
      " - kBT = 3\n",
      " - periodic b.c. = (true, true, true)\n",
      " - box size = (14.2276, 14.2276, 14.2276)\n",
      " - particle types:\n",
      "     *  particle type \"A\" with D=1\n",
      " - potentials of order 2:\n",
      "     * for types \"A\" and \"A\"\n",
      "         * 12-6-Lennard-Jones potential with cutoff=4, epsilon=1, k=4, and with energy shift\n",
      "\n"
     ]
    },
    {
     "data": {
      "application/vnd.jupyter.widget-view+json": {
       "model_id": "c868322e65df4f9e96dc5ddb83d65551",
       "version_major": 2,
       "version_minor": 0
      },
      "text/html": [
       "<p>Failed to display Jupyter Widget of type <code>HBox</code>.</p>\n",
       "<p>\n",
       "  If you're reading this message in the Jupyter Notebook or JupyterLab Notebook, it may mean\n",
       "  that the widgets JavaScript is still loading. If this message persists, it\n",
       "  likely means that the widgets JavaScript library is either not installed or\n",
       "  not enabled. See the <a href=\"https://ipywidgets.readthedocs.io/en/stable/user_install.html\">Jupyter\n",
       "  Widgets Documentation</a> for setup instructions.\n",
       "</p>\n",
       "<p>\n",
       "  If you're reading this message in another frontend (for example, a static\n",
       "  rendering on GitHub or <a href=\"https://nbviewer.jupyter.org/\">NBViewer</a>),\n",
       "  it may mean that your frontend doesn't currently support widgets.\n",
       "</p>\n"
      ],
      "text/plain": [
       "HBox(children=(HBox(children=(Label(value='Simulation progress'),), layout=Layout(max_width='35%', min_width='35%')), HBox(children=(IntProgress(value=0, max=1000), HTML(value='')), layout=Layout(padding='0 0 0 20px'))), layout=Layout(display='flex', width='100%'))"
      ]
     },
     "metadata": {},
     "output_type": "display_data"
    },
    {
     "name": "stdout",
     "output_type": "stream",
     "text": [
      "saved positions\n",
      "-6881.589189746084\n",
      "-5656.8105995622955\n",
      "-5567.390116611299\n",
      "-5526.605841927836\n",
      "saved positions\n",
      "-5573.575452954913\n",
      "-5641.07443929333\n",
      "-5504.676720552814\n",
      "-5511.70540202274\n",
      "saved positions\n",
      "-5509.237870145425\n",
      "-5639.583772756297\n",
      "-5629.039566460307\n",
      "-5563.755682820279\n",
      "saved positions\n",
      "-5461.171806102469\n",
      "-5616.038877692792\n",
      "-5529.960573612284\n",
      "-5521.704207468562\n",
      "saved positions\n",
      "-5548.544392414856\n",
      "-5676.650120392681\n",
      "-5491.82164389591\n",
      "-5521.771911491108\n",
      "saved positions\n",
      "-5565.317042448245\n",
      "Configured kernel context with:\n",
      "--------------------------------\n",
      " - kBT = 3\n",
      " - periodic b.c. = (true, true, true)\n",
      " - box size = (14.2276, 14.2276, 14.2276)\n",
      " - particle types:\n",
      "     *  particle type \"A\" with D=1\n",
      " - potentials of order 2:\n",
      "     * for types \"A\" and \"A\"\n",
      "         * 12-6-Lennard-Jones potential with cutoff=4, epsilon=1, k=4, and with energy shift\n",
      "\n"
     ]
    },
    {
     "data": {
      "application/vnd.jupyter.widget-view+json": {
       "model_id": "efadf4afc7184fb5a76a358d4b1d448c",
       "version_major": 2,
       "version_minor": 0
      },
      "text/html": [
       "<p>Failed to display Jupyter Widget of type <code>HBox</code>.</p>\n",
       "<p>\n",
       "  If you're reading this message in the Jupyter Notebook or JupyterLab Notebook, it may mean\n",
       "  that the widgets JavaScript is still loading. If this message persists, it\n",
       "  likely means that the widgets JavaScript library is either not installed or\n",
       "  not enabled. See the <a href=\"https://ipywidgets.readthedocs.io/en/stable/user_install.html\">Jupyter\n",
       "  Widgets Documentation</a> for setup instructions.\n",
       "</p>\n",
       "<p>\n",
       "  If you're reading this message in another frontend (for example, a static\n",
       "  rendering on GitHub or <a href=\"https://nbviewer.jupyter.org/\">NBViewer</a>),\n",
       "  it may mean that your frontend doesn't currently support widgets.\n",
       "</p>\n"
      ],
      "text/plain": [
       "HBox(children=(HBox(children=(Label(value='Simulation progress'),), layout=Layout(max_width='35%', min_width='35%')), HBox(children=(IntProgress(value=0, max=1000), HTML(value='')), layout=Layout(padding='0 0 0 20px'))), layout=Layout(display='flex', width='100%'))"
      ]
     },
     "metadata": {},
     "output_type": "display_data"
    },
    {
     "name": "stdout",
     "output_type": "stream",
     "text": [
      "\r"
     ]
    }
   ],
   "source": [
    "result_hi_dens = equilibrate_and_measure(density=0.6)"
   ]
  },
  {
   "cell_type": "code",
   "execution_count": 11,
   "metadata": {},
   "outputs": [
    {
     "data": {
      "text/plain": [
       "{'energy_err': 0.006769509617449894,\n",
       " 'energy_mean': -3.2116253580419536,\n",
       " 'pressure_err': 0.007171212637390889,\n",
       " 'pressure_mean': 1.2323604375943777,\n",
       " 'rdf_err': array([0.        , 0.        , 0.        , 0.        , 0.00032419,\n",
       "        0.0037992 , 0.0065596 , 0.00738094, 0.00651913, 0.00618312,\n",
       "        0.00598792, 0.0051374 , 0.00502749, 0.00330874, 0.00344011,\n",
       "        0.00364512, 0.00337134, 0.00347608, 0.00306173, 0.00335394,\n",
       "        0.00350444, 0.00296715, 0.00367411, 0.00362624, 0.00265353,\n",
       "        0.00302284, 0.00252535, 0.00302462, 0.00209401, 0.00247465,\n",
       "        0.00214554, 0.00238694, 0.00247292, 0.00230585, 0.00256749,\n",
       "        0.00231343, 0.00212761, 0.00211549, 0.00199801, 0.00207221,\n",
       "        0.00200445, 0.00160165, 0.00186969, 0.00160319, 0.00185383,\n",
       "        0.00176429, 0.00165519, 0.00149458, 0.00155715]),\n",
       " 'rdf_mean': array([0.        , 0.        , 0.        , 0.        , 0.00218443,\n",
       "        0.21063654, 1.08677454, 1.71990746, 1.72065572, 1.50473499,\n",
       "        1.28965171, 1.12681667, 1.01436405, 0.92512442, 0.8784905 ,\n",
       "        0.85870341, 0.87225745, 0.89162438, 0.93380418, 0.97117382,\n",
       "        1.01269549, 1.05179499, 1.06159614, 1.05428909, 1.04467352,\n",
       "        1.02704153, 1.00714905, 0.99306317, 0.98133566, 0.97966922,\n",
       "        0.9811872 , 0.98614761, 0.98587677, 0.99616172, 1.00022248,\n",
       "        1.00362563, 1.00653088, 1.0093613 , 1.00647335, 1.00515111,\n",
       "        1.0046868 , 1.00038626, 0.99948256, 0.99398227, 0.99756793,\n",
       "        0.99552326, 0.99598873, 0.99714867, 0.9979062 ])}"
      ]
     },
     "execution_count": 11,
     "metadata": {},
     "output_type": "execute_result"
    }
   ],
   "source": [
    "result_hi_dens"
   ]
  },
  {
   "cell_type": "code",
   "execution_count": 24,
   "metadata": {},
   "outputs": [
    {
     "name": "stdout",
     "output_type": "stream",
     "text": [
      "mean energy per particle {0.3: -1.6678671765797455, 0.6: -3.1995739684456534}\n",
      "err energy per particle {0.3: 0.0065533260241699481, 0.6: 0.0089460121350560928}\n"
     ]
    },
    {
     "data": {
      "image/png": "[encoded data removed]",
      "text/plain": [
       "<matplotlib.figure.Figure at 0x7f69f946c4e0>"
      ]
     },
     "metadata": {},
     "output_type": "display_data"
    }
   ],
   "source": [
    "%matplotlib inline\n",
    "import matplotlib.pyplot as plt\n",
    "\n",
    "print(\"density 0.3:\")\n",
    "print(\"mean energy per particle {}\\nerr energy per particle {}\".format(\n",
    "    result_low_dens[\"energy_mean\"], result_low_dens[\"energy_err\"]))\n",
    "print(\"pressure {}\\nerr pressure {}\".format(\n",
    "    result_low_dens[\"pressure_mean\"], result_low_dens[\"pressure_err\"]))\n",
    "print(\"density 0.6:\")\n",
    "print(\"mean energy per particle {}\\nerr energy per particle {}\".format(\n",
    "    result_hi_dens[\"energy_mean\"], result_hi_dens[\"energy_err\"]))\n",
    "print(\"pressure {}\\nerr pressure {}\".format(\n",
    "    result_hi_dens[\"pressure_mean\"], result_hi_dens[\"pressure_err\"]))\n",
    "\n",
    "plt.plot(result_low_dens[\"rdf_bin_centers\"], result_low_dens[\"rdf_mean\"], label=r\"density $\\rho=0.3$\")\n",
    "plt.plot(result_hi_dens[\"rdf_bin_centers\"], result_hi_dens[\"rdf_mean\"], label=r\"density $\\rho=0.6$\")\n",
    "plt.xlabel(r\"distance $r/\\sigma$\")\n",
    "plt.ylabel(r\"radial distribution $g(r)$\")\n",
    "plt.legend(loc=\"best\")\n",
    "plt.show()"
   ]
  }
 ],
 "metadata": {
  "kernelspec": {
   "display_name": "Python 3",
   "language": "python",
   "name": "python3"
  },
  "language_info": {
   "codemirror_mode": {
    "name": "ipython",
    "version": 3
   },
   "file_extension": ".py",
   "mimetype": "text/x-python",
   "name": "python",
   "nbconvert_exporter": "python",
   "pygments_lexer": "ipython3",
   "version": "3.6.4"
  },
  "readdy": {
   "position": "3",
   "title": "Lennard-Jones fluid - thermodynamic state variables"
  }
 },
 "nbformat": 4,
 "nbformat_minor": 2
}
