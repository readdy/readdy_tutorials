{
 "cells": [
  {
   "cell_type": "markdown",
   "metadata": {},
   "source": [
    "We consider a simple fluid of particles that interact due to the Lennard Jones potential\n",
    "\n",
    "$$\n",
    "U(r) = 4\\varepsilon \\left[ \\left(\\frac{\\sigma}{r}\\right)^{12} - \\left(\\frac{\\sigma}{r}\\right)^6 \\right]\n",
    "$$\n",
    "\n",
    "To validate the integration of the diffusion process and correct implementation of energies and forces, we compare observables to other known results. The observables are: the mean potential energy of the system per particle $U$,  the pressure $P$ and the radial distribution function $g(r)$.\n",
    "\n",
    "The thermodynamic quantities of a Lennard Jones fluid are typically expressed in terms of the rescaled density\n",
    "$\\rho^* = (N/V)\\sigma^3$ and the rescaled temperature $T^* = k_BT/\\varepsilon$, where $N$ is the number of particles in the system, which is constant over time, and $V$ is the available volume.\n",
    "In simulation practice we set $\\sigma=1$ and $\\varepsilon=1$ to achieve the reduced units. The time units are $\\sigma^2 / 4D$, where $D$ is the self diffusion coefficient of the particles. Hence in practice we set the diffusion coefficient to 1 and have a fully rescaled unit system.\n",
    "\n",
    "We use an Euler scheme to integrate the positions of particles according to the overdamped Langevin equation of motion, in contrast to a full integration of positions and momenta as in the underdamped limit.\n",
    "\n",
    "The pressure can be measured from the acting forces according to [4].\n",
    "\n",
    "$$\n",
    "PV = Nk_BT + \\langle \\mathscr{W} \\rangle\n",
    "$$\n",
    "\n",
    "where\n",
    "\n",
    "$$\n",
    "\\mathscr{W} = \\frac{1}{3} \\sum_i \\sum_{j>i} \\mathbf{r}_{ij} \\mathbf{f}_{ij},\n",
    "$$\n",
    "\n",
    "This is implemented by ReaDDy's pressure observable.\n",
    "\n",
    "__Results__\n",
    "\n",
    "| origin | cutoff radius $r_c$ | density $\\rho$ | temperature $T$ | pressure $P$ | potential energy per particle $U$ |\n",
    "|---|---|---|---|---|---|\n",
    "|[1]|4|0.3|3|1.023(2)|-1.673(2)|\n",
    "|[2]|4|0.3|3|1.0245|-1.6717|\n",
    "|HALMD [3]|4|0.3|3|1.0234(3)|-1.6731(4)|\n",
    "|ReaDDy|4|0.3|3|1.035(7)|-1.679(3)|\n",
    "|||||||\n",
    "|[1]|4|0.6|3|3.69(1)|-3.212(3)|\n",
    "|[2]|4|0.6|3|3.7165|-3.2065|\n",
    "|HALMD [3]|4|0.6|3|3.6976(8)|-3.2121(2)|\n",
    "|ReaDDy|4|0.6|3|3.70(2)|-3.208(7)|\n",
    "\n",
    "[1] Molecular dynamics simulations, J. K. Johnson, J. A. Zollweg, and K. E. Gubbins,\n",
    "The Lennard-Jones equation of state revisited, Mol. Phys. 78, 591 (1993)\n",
    "\n",
    "[2] Integral equations theory, A. Ayadim, M. Oettel, and S Amokrane,\n",
    "Optimum free energy in the reference functional approach for the integral equations theory, J. Phys.: Condens. Matter 21, 115103 (2009).\n",
    "\n",
    "[3] HAL's MD package, http://halmd.org/validation.html\n",
    "\n",
    "[4] Allen, M. P., & Tildesley, D. J. (1987). Computer Simulation of Liquids. New York: Oxford University Press."
   ]
  },
  {
   "cell_type": "code",
   "execution_count": 2,
   "metadata": {},
   "outputs": [
    {
     "name": "stdout",
     "output_type": "stream",
     "text": [
      "87-1234567\n"
     ]
    }
   ],
   "source": [
    "import os\n",
    "import numpy as np\n",
    "\n",
    "import readdy\n",
    "print(readdy.__version__)"
   ]
  },
  {
   "cell_type": "markdown",
   "metadata": {},
   "source": [
    "Utility methods"
   ]
  },
  {
   "cell_type": "code",
   "execution_count": 3,
   "metadata": {},
   "outputs": [],
   "source": [
    "def average_across_first_axis(values):\n",
    "    n_values = len(values)\n",
    "    mean = np.sum(values, axis=0) / n_values  # shape = n_bins\n",
    "    difference = values - mean  # broadcasting starts with last axis\n",
    "    std_dev = np.sqrt(np.sum(difference * difference, axis=0) / n_values)\n",
    "    std_err = np.sqrt(np.sum(difference * difference, axis=0) / n_values ** 2)\n",
    "    return mean, std_dev, std_err\n",
    "\n",
    "\n",
    "def lj_system(edge_length, temperature=1.):\n",
    "    system = readdy.ReactionDiffusionSystem(\n",
    "        box_size=[edge_length, edge_length, edge_length],\n",
    "        unit_system=None\n",
    "    )\n",
    "    system.kbt = temperature\n",
    "    system.add_species(\"A\", diffusion_constant=1.)\n",
    "    system.potentials.add_lennard_jones(\"A\", \"A\", m=12, n=6, epsilon=1., sigma=1., cutoff=4., shift=True)\n",
    "    return system"
   ]
  },
  {
   "cell_type": "markdown",
   "metadata": {},
   "source": [
    "Wrap the whole simulation and analysis in a function and perform it for the two densities 0.3 and 0.6."
   ]
  },
  {
   "cell_type": "code",
   "execution_count": 4,
   "metadata": {},
   "outputs": [],
   "source": [
    "def equilibrate_and_measure(density=0.3):\n",
    "    n_per_axis = 12\n",
    "    n_particles = n_per_axis ** 3\n",
    "    edge_length = (n_particles / density) ** (1. / 3.)\n",
    "    pos_x = np.linspace(-edge_length/2., edge_length/2.-1., n_per_axis)\n",
    "    pos = []\n",
    "    for x in pos_x:\n",
    "        for y in pos_x:\n",
    "            for z in pos_x:\n",
    "                pos.append([x,y,z])\n",
    "    pos = np.array(pos)\n",
    "    print(\"n_particles\", len(pos), \"box edge_length\", edge_length)\n",
    "    assert len(pos)==n_particles\n",
    "    \n",
    "    def pos_callback(x):\n",
    "        nonlocal pos\n",
    "        n = len(x)\n",
    "        pos = np.zeros((n,3))\n",
    "        for i in range(n):\n",
    "            pos[i][0] = x[i][0]\n",
    "            pos[i][1] = x[i][1]\n",
    "            pos[i][2] = x[i][2]\n",
    "        print(\"saved positions\")\n",
    "    \n",
    "    # create system\n",
    "    system = lj_system(edge_length, temperature=3.)\n",
    "    \n",
    "    # equilibrate\n",
    "    sim = system.simulation(kernel=\"CPU\")\n",
    "    sim.add_particles(\"A\", pos)\n",
    "\n",
    "    sim.observe.particle_positions(2000, callback=pos_callback, save=None)\n",
    "    sim.observe.energy(500, callback=lambda x: print(x), save=None)\n",
    "\n",
    "    sim.record_trajectory(stride=1)\n",
    "    sim.output_file = \"lj_eq.h5\"\n",
    "    if os.path.exists(sim.output_file):\n",
    "        os.remove(sim.output_file)\n",
    "\n",
    "    sim.run(n_steps=10000, timestep=1e-4)\n",
    "\n",
    "    traj = readdy.Trajectory(sim.output_file)\n",
    "    traj.convert_to_xyz(particle_radii={\"A\": 0.5})\n",
    "    \n",
    "    # measure\n",
    "    sim = system.simulation(kernel=\"CPU\")\n",
    "    sim.add_particles(\"A\", pos)\n",
    "    sim.observe.energy(200)\n",
    "    sim.observe.pressure(200)\n",
    "    sim.observe.rdf(\n",
    "        200, bin_borders=np.linspace(0.5, 4., 50),\n",
    "        types_count_from=\"A\", types_count_to=\"A\", particle_to_density=density)\n",
    "\n",
    "    sim.output_file = \"lj_measure.h5\"\n",
    "    if os.path.exists(sim.output_file):\n",
    "        os.remove(sim.output_file)\n",
    "\n",
    "    sim.run(n_steps=10000, timestep=1e-4)\n",
    "    \n",
    "    # obtain results\n",
    "    traj = readdy.Trajectory(sim.output_file)\n",
    "    _, energy = traj.read_observable_energy()\n",
    "    _, bin_centers, rdf = traj.read_observable_rdf()\n",
    "    _, pressure = traj.read_observable_pressure()\n",
    "    \n",
    "    energy_mean, _, energy_err = average_across_first_axis(energy) # time average\n",
    "    energy_mean /= n_particles\n",
    "    energy_err /= n_particles\n",
    "\n",
    "    pressure_mean, _, pressure_err = average_across_first_axis(pressure) # time average\n",
    "\n",
    "    rdf_mean, _, rdf_err = average_across_first_axis(rdf) # time average\n",
    "\n",
    "    return {\n",
    "        \"energy_mean\": energy_mean, \"energy_err\": energy_err,\n",
    "        \"pressure_mean\": pressure_mean, \"pressure_err\": pressure_err,\n",
    "        \"rdf_mean\": rdf_mean, \"rdf_err\": rdf_err, \"rdf_bin_centers\": bin_centers\n",
    "    }"
   ]
  },
  {
   "cell_type": "code",
   "execution_count": 5,
   "metadata": {},
   "outputs": [
    {
     "name": "stdout",
     "output_type": "stream",
     "text": [
      "n_particles 1728 box edge_length 17.925618986228656\n",
      "Configured kernel context with:\n",
      "--------------------------------\n",
      " - kBT = 3\n",
      " - periodic b.c. = (true, true, true)\n",
      " - box size = (17.9256, 17.9256, 17.9256)\n",
      " - particle types:\n",
      "     *  particle type \"A\" with D=1\n",
      " - potentials of order 2:\n",
      "     * for types \"A\" and \"A\"\n",
      "         * 12-6-Lennard-Jones potential with cutoff=4, epsilon=1, k=4, and with energy shift\n",
      "\n"
     ]
    },
    {
     "data": {
      "application/vnd.jupyter.widget-view+json": {
       "model_id": "9e087345f21741368871ea9c5135cd5d",
       "version_major": 2,
       "version_minor": 0
      },
      "text/html": [
       "<p>Failed to display Jupyter Widget of type <code>HBox</code>.</p>\n",
       "<p>\n",
       "  If you're reading this message in the Jupyter Notebook or JupyterLab Notebook, it may mean\n",
       "  that the widgets JavaScript is still loading. If this message persists, it\n",
       "  likely means that the widgets JavaScript library is either not installed or\n",
       "  not enabled. See the <a href=\"https://ipywidgets.readthedocs.io/en/stable/user_install.html\">Jupyter\n",
       "  Widgets Documentation</a> for setup instructions.\n",
       "</p>\n",
       "<p>\n",
       "  If you're reading this message in another frontend (for example, a static\n",
       "  rendering on GitHub or <a href=\"https://nbviewer.jupyter.org/\">NBViewer</a>),\n",
       "  it may mean that your frontend doesn't currently support widgets.\n",
       "</p>\n"
      ],
      "text/plain": [
       "HBox(children=(HBox(children=(Label(value='Simulation progress'),), layout=Layout(max_width='35%', min_width='35%')), HBox(children=(IntProgress(value=0, max=1000), HTML(value='')), layout=Layout(padding='0 0 0 20px'))), layout=Layout(display='flex', width='100%'))"
      ]
     },
     "metadata": {},
     "output_type": "display_data"
    },
    {
     "name": "stdout",
     "output_type": "stream",
     "text": [
      "saved positions\n",
      "-2006.0926382760335\n",
      "-2558.484698188715\n",
      "-2683.608719842995\n",
      "-2789.801886566924\n",
      "saved positions\n",
      "-2847.0129868701574\n",
      "-2827.8083868918084\n",
      "-2838.9676917594834\n",
      "-2766.19525249713\n",
      "saved positions\n",
      "-2844.0582093567423\n",
      "-2923.5162765016416\n",
      "-2901.8219351147673\n",
      "-2798.1972554259396\n",
      "saved positions\n",
      "-2882.6260913979854\n",
      "-2894.1440317159036\n",
      "-2810.6748812845053\n",
      "-2862.09364697972\n",
      "saved positions\n",
      "-2946.395565470109\n",
      "-2914.778299999032\n",
      "-2891.783581769918\n",
      "-2981.4438207366065\n",
      "saved positions\n",
      "-2887.27813830342\n",
      "Configured kernel context with:\n",
      "--------------------------------\n",
      " - kBT = 3\n",
      " - periodic b.c. = (true, true, true)\n",
      " - box size = (17.9256, 17.9256, 17.9256)\n",
      " - particle types:\n",
      "     *  particle type \"A\" with D=1\n",
      " - potentials of order 2:\n",
      "     * for types \"A\" and \"A\"\n",
      "         * 12-6-Lennard-Jones potential with cutoff=4, epsilon=1, k=4, and with energy shift\n",
      "\n"
     ]
    },
    {
     "data": {
      "application/vnd.jupyter.widget-view+json": {
       "model_id": "a787a3eddaf14695a4eee8db0500999a",
       "version_major": 2,
       "version_minor": 0
      },
      "text/html": [
       "<p>Failed to display Jupyter Widget of type <code>HBox</code>.</p>\n",
       "<p>\n",
       "  If you're reading this message in the Jupyter Notebook or JupyterLab Notebook, it may mean\n",
       "  that the widgets JavaScript is still loading. If this message persists, it\n",
       "  likely means that the widgets JavaScript library is either not installed or\n",
       "  not enabled. See the <a href=\"https://ipywidgets.readthedocs.io/en/stable/user_install.html\">Jupyter\n",
       "  Widgets Documentation</a> for setup instructions.\n",
       "</p>\n",
       "<p>\n",
       "  If you're reading this message in another frontend (for example, a static\n",
       "  rendering on GitHub or <a href=\"https://nbviewer.jupyter.org/\">NBViewer</a>),\n",
       "  it may mean that your frontend doesn't currently support widgets.\n",
       "</p>\n"
      ],
      "text/plain": [
       "HBox(children=(HBox(children=(Label(value='Simulation progress'),), layout=Layout(max_width='35%', min_width='35%')), HBox(children=(IntProgress(value=0, max=1000), HTML(value='')), layout=Layout(padding='0 0 0 20px'))), layout=Layout(display='flex', width='100%'))"
      ]
     },
     "metadata": {},
     "output_type": "display_data"
    },
    {
     "name": "stdout",
     "output_type": "stream",
     "text": [
      "\r"
     ]
    }
   ],
   "source": [
    "result_low_dens = equilibrate_and_measure(density=0.3)"
   ]
  },
  {
   "cell_type": "code",
   "execution_count": null,
   "metadata": {},
   "outputs": [
    {
     "data": {
      "text/plain": [
       "{'energy_err': 0.003865080409371339,\n",
       " 'energy_mean': -1.6789505081645193,\n",
       " 'pressure_err': 0.007208254634738095,\n",
       " 'pressure_mean': 1.0356710396566735,\n",
       " 'rdf_bin_centers': array([0.53571429, 0.60714286, 0.67857143, 0.75      , 0.82142857,\n",
       "        0.89285714, 0.96428571, 1.03571429, 1.10714286, 1.17857143,\n",
       "        1.25      , 1.32142857, 1.39285714, 1.46428571, 1.53571429,\n",
       "        1.60714286, 1.67857143, 1.75      , 1.82142857, 1.89285714,\n",
       "        1.96428571, 2.03571429, 2.10714286, 2.17857143, 2.25      ,\n",
       "        2.32142857, 2.39285714, 2.46428571, 2.53571429, 2.60714286,\n",
       "        2.67857143, 2.75      , 2.82142857, 2.89285714, 2.96428571,\n",
       "        3.03571429, 3.10714286, 3.17857143, 3.25      , 3.32142857,\n",
       "        3.39285714, 3.46428571, 3.53571429, 3.60714286, 3.67857143,\n",
       "        3.75      , 3.82142857, 3.89285714, 3.96428571]),\n",
       " 'rdf_err': array([0.        , 0.        , 0.        , 0.        , 0.00051733,\n",
       "        0.00389936, 0.00758116, 0.00938435, 0.01152146, 0.00730478,\n",
       "        0.00639527, 0.00782449, 0.00638545, 0.00624519, 0.00497622,\n",
       "        0.00506881, 0.00451621, 0.00434441, 0.00469345, 0.00464019,\n",
       "        0.00408783, 0.00449142, 0.0043387 , 0.00377135, 0.00411156,\n",
       "        0.00372055, 0.0034688 , 0.00382219, 0.00327985, 0.00303205,\n",
       "        0.00316754, 0.00312204, 0.00272095, 0.00319668, 0.00277032,\n",
       "        0.00340234, 0.0030637 , 0.0029004 , 0.00296017, 0.00246223,\n",
       "        0.00234491, 0.0023808 , 0.0026758 , 0.00238175, 0.00250338,\n",
       "        0.00213579, 0.00181433, 0.00226536, 0.00239341]),\n",
       " 'rdf_mean': array([0.        , 0.        , 0.        , 0.        , 0.00149789,\n",
       "        0.14211495, 0.80149169, 1.39163288, 1.48260458, 1.42187995,\n",
       "        1.3107626 , 1.1942978 , 1.12439772, 1.04761764, 1.00864915,\n",
       "        0.98014494, 0.96831762, 0.96513191, 0.96171873, 0.97111502,\n",
       "        0.98073241, 1.00448663, 1.0144512 , 1.01665651, 1.01685795,\n",
       "        1.01207641, 1.00869444, 1.00878599, 1.01079231, 1.00434769,\n",
       "        1.00111387, 1.00042249, 1.00358795, 1.00785319, 1.00263455,\n",
       "        0.99972083, 1.00176477, 1.00691315, 1.0043989 , 1.0010145 ,\n",
       "        1.00141435, 1.00459604, 0.99894663, 1.00164453, 1.00343149,\n",
       "        1.00086893, 1.00622066, 1.00326314, 1.00458794])}"
      ]
     },
     "execution_count": 6,
     "metadata": {},
     "output_type": "execute_result"
    }
   ],
   "source": [
    "result_low_dens"
   ]
  },
  {
   "cell_type": "code",
   "execution_count": null,
   "metadata": {},
   "outputs": [
    {
     "name": "stdout",
     "output_type": "stream",
     "text": [
      "n_particles 1728 box edge_length 14.227573217960249\n",
      "Configured kernel context with:\n",
      "--------------------------------\n",
      " - kBT = 3\n",
      " - periodic b.c. = (true, true, true)\n",
      " - box size = (14.2276, 14.2276, 14.2276)\n",
      " - particle types:\n",
      "     *  particle type \"A\" with D=1\n",
      " - potentials of order 2:\n",
      "     * for types \"A\" and \"A\"\n",
      "         * 12-6-Lennard-Jones potential with cutoff=4, epsilon=1, k=4, and with energy shift\n",
      "\n"
     ]
    },
    {
     "data": {
      "application/vnd.jupyter.widget-view+json": {
       "model_id": "388157336c724ed0a0ed413662368fbd",
       "version_major": 2,
       "version_minor": 0
      },
      "text/html": [
       "<p>Failed to display Jupyter Widget of type <code>HBox</code>.</p>\n",
       "<p>\n",
       "  If you're reading this message in the Jupyter Notebook or JupyterLab Notebook, it may mean\n",
       "  that the widgets JavaScript is still loading. If this message persists, it\n",
       "  likely means that the widgets JavaScript library is either not installed or\n",
       "  not enabled. See the <a href=\"https://ipywidgets.readthedocs.io/en/stable/user_install.html\">Jupyter\n",
       "  Widgets Documentation</a> for setup instructions.\n",
       "</p>\n",
       "<p>\n",
       "  If you're reading this message in another frontend (for example, a static\n",
       "  rendering on GitHub or <a href=\"https://nbviewer.jupyter.org/\">NBViewer</a>),\n",
       "  it may mean that your frontend doesn't currently support widgets.\n",
       "</p>\n"
      ],
      "text/plain": [
       "HBox(children=(HBox(children=(Label(value='Simulation progress'),), layout=Layout(max_width='35%', min_width='35%')), HBox(children=(IntProgress(value=0, max=1000), HTML(value='')), layout=Layout(padding='0 0 0 20px'))), layout=Layout(display='flex', width='100%'))"
      ]
     },
     "metadata": {},
     "output_type": "display_data"
    },
    {
     "name": "stdout",
     "output_type": "stream",
     "text": [
      "saved positions\n",
      "-6881.589189751805\n",
      "-5578.631408286779\n",
      "-5553.045271029449\n",
      "-5598.347635152243\n",
      "saved positions\n",
      "-5510.905288239784\n",
      "-5494.26918009796\n",
      "-5497.542802090885\n",
      "-5650.728669069902\n",
      "saved positions\n",
      "-5547.803465031961\n",
      "-5664.062193482018\n",
      "-5470.78844587492\n",
      "-5412.782056757059\n",
      "saved positions\n",
      "-5633.598773743057\n",
      "-5585.178042184006\n",
      "-5398.992296398446\n",
      "-5651.0359006886965\n",
      "saved positions\n",
      "-5503.306269838077\n",
      "-5527.3704879582365\n",
      "-5522.8550998741\n",
      "-5447.638729437222\n",
      "saved positions\n",
      "-5638.783772161413\n",
      "Configured kernel context with:\n",
      "--------------------------------\n",
      " - kBT = 3\n",
      " - periodic b.c. = (true, true, true)\n",
      " - box size = (14.2276, 14.2276, 14.2276)\n",
      " - particle types:\n",
      "     *  particle type \"A\" with D=1\n",
      " - potentials of order 2:\n",
      "     * for types \"A\" and \"A\"\n",
      "         * 12-6-Lennard-Jones potential with cutoff=4, epsilon=1, k=4, and with energy shift\n",
      "\n"
     ]
    },
    {
     "data": {
      "application/vnd.jupyter.widget-view+json": {
       "model_id": "f7032635ecb8437a915e6c3f63c511ff",
       "version_major": 2,
       "version_minor": 0
      },
      "text/html": [
       "<p>Failed to display Jupyter Widget of type <code>HBox</code>.</p>\n",
       "<p>\n",
       "  If you're reading this message in the Jupyter Notebook or JupyterLab Notebook, it may mean\n",
       "  that the widgets JavaScript is still loading. If this message persists, it\n",
       "  likely means that the widgets JavaScript library is either not installed or\n",
       "  not enabled. See the <a href=\"https://ipywidgets.readthedocs.io/en/stable/user_install.html\">Jupyter\n",
       "  Widgets Documentation</a> for setup instructions.\n",
       "</p>\n",
       "<p>\n",
       "  If you're reading this message in another frontend (for example, a static\n",
       "  rendering on GitHub or <a href=\"https://nbviewer.jupyter.org/\">NBViewer</a>),\n",
       "  it may mean that your frontend doesn't currently support widgets.\n",
       "</p>\n"
      ],
      "text/plain": [
       "HBox(children=(HBox(children=(Label(value='Simulation progress'),), layout=Layout(max_width='35%', min_width='35%')), HBox(children=(IntProgress(value=0, max=1000), HTML(value='')), layout=Layout(padding='0 0 0 20px'))), layout=Layout(display='flex', width='100%'))"
      ]
     },
     "metadata": {},
     "output_type": "display_data"
    }
   ],
   "source": [
    "result_hi_dens = equilibrate_and_measure(density=0.6)"
   ]
  },
  {
   "cell_type": "code",
   "execution_count": 10,
   "metadata": {},
   "outputs": [
    {
     "data": {
      "text/plain": [
       "{'energy_err': 0.007639845277153105,\n",
       " 'energy_mean': -3.2083370227235433,\n",
       " 'pressure_err': 0.025471798740872232,\n",
       " 'pressure_mean': 3.70051682353479,\n",
       " 'rdf_bin_centers': array([0.53571429, 0.60714286, 0.67857143, 0.75      , 0.82142857,\n",
       "        0.89285714, 0.96428571, 1.03571429, 1.10714286, 1.17857143,\n",
       "        1.25      , 1.32142857, 1.39285714, 1.46428571, 1.53571429,\n",
       "        1.60714286, 1.67857143, 1.75      , 1.82142857, 1.89285714,\n",
       "        1.96428571, 2.03571429, 2.10714286, 2.17857143, 2.25      ,\n",
       "        2.32142857, 2.39285714, 2.46428571, 2.53571429, 2.60714286,\n",
       "        2.67857143, 2.75      , 2.82142857, 2.89285714, 2.96428571,\n",
       "        3.03571429, 3.10714286, 3.17857143, 3.25      , 3.32142857,\n",
       "        3.39285714, 3.46428571, 3.53571429, 3.60714286, 3.67857143,\n",
       "        3.75      , 3.82142857, 3.89285714, 3.96428571]),\n",
       " 'rdf_err': array([0.        , 0.        , 0.        , 0.        , 0.00036706,\n",
       "        0.00360158, 0.00659086, 0.00752906, 0.00701379, 0.00766467,\n",
       "        0.00537993, 0.0052711 , 0.00339262, 0.00353886, 0.00351387,\n",
       "        0.00389974, 0.00361009, 0.00340888, 0.00325845, 0.00329971,\n",
       "        0.00322622, 0.00288786, 0.0029233 , 0.00311885, 0.002958  ,\n",
       "        0.00248027, 0.00225245, 0.00228648, 0.00220771, 0.00237958,\n",
       "        0.00256574, 0.00215778, 0.00196384, 0.00196462, 0.00209791,\n",
       "        0.00188725, 0.00200307, 0.00180375, 0.00230419, 0.00186438,\n",
       "        0.00190152, 0.00159949, 0.00191004, 0.00187251, 0.00183949,\n",
       "        0.00166731, 0.00167584, 0.00165395, 0.0014815 ]),\n",
       " 'rdf_mean': array([0.        , 0.        , 0.        , 0.        , 0.00224684,\n",
       "        0.21333092, 1.08795227, 1.71876871, 1.71941855, 1.49818423,\n",
       "        1.29725486, 1.11868612, 1.00248554, 0.93143182, 0.88929835,\n",
       "        0.86376007, 0.86582752, 0.88624511, 0.93118798, 0.97239683,\n",
       "        1.02267644, 1.04902949, 1.05419416, 1.05665055, 1.03252189,\n",
       "        1.02100544, 1.00978356, 0.9927093 , 0.98594912, 0.98351264,\n",
       "        0.98009485, 0.98725083, 0.99319732, 0.99637319, 1.00368474,\n",
       "        1.00537685, 1.00781406, 1.00839372, 1.00684037, 0.99703831,\n",
       "        0.99873489, 0.9962783 , 0.9965838 , 0.99828945, 0.99931174,\n",
       "        0.9978545 , 1.00089406, 1.00142241, 0.99987158])}"
      ]
     },
     "execution_count": 10,
     "metadata": {},
     "output_type": "execute_result"
    }
   ],
   "source": [
    "result_hi_dens"
   ]
  },
  {
   "cell_type": "code",
   "execution_count": 11,
   "metadata": {},
   "outputs": [
    {
     "name": "stdout",
     "output_type": "stream",
     "text": [
      "density 0.3:\n",
      "mean energy per particle -1.6789505081645193\n",
      "err energy per particle 0.003865080409371339\n",
      "pressure 1.0356710396566735\n",
      "err pressure 0.007208254634738095\n",
      "density 0.6:\n",
      "mean energy per particle -3.2083370227235433\n",
      "err energy per particle 0.007639845277153105\n",
      "pressure 3.70051682353479\n",
      "err pressure 0.025471798740872232\n"
     ]
    },
    {
     "data": {
      "image/png": "[encoded data removed]",
      "text/plain": [
       "<matplotlib.figure.Figure at 0x7f9fb060a128>"
      ]
     },
     "metadata": {},
     "output_type": "display_data"
    }
   ],
   "source": [
    "%matplotlib inline\n",
    "import matplotlib.pyplot as plt\n",
    "\n",
    "print(\"density 0.3:\")\n",
    "print(\"mean energy per particle {}\\nerr energy per particle {}\".format(\n",
    "    result_low_dens[\"energy_mean\"], result_low_dens[\"energy_err\"]))\n",
    "print(\"pressure {}\\nerr pressure {}\".format(\n",
    "    result_low_dens[\"pressure_mean\"], result_low_dens[\"pressure_err\"]))\n",
    "print(\"density 0.6:\")\n",
    "print(\"mean energy per particle {}\\nerr energy per particle {}\".format(\n",
    "    result_hi_dens[\"energy_mean\"], result_hi_dens[\"energy_err\"]))\n",
    "print(\"pressure {}\\nerr pressure {}\".format(\n",
    "    result_hi_dens[\"pressure_mean\"], result_hi_dens[\"pressure_err\"]))\n",
    "\n",
    "plt.plot(result_low_dens[\"rdf_bin_centers\"], result_low_dens[\"rdf_mean\"], label=r\"density $\\rho=0.3$\")\n",
    "plt.plot(result_hi_dens[\"rdf_bin_centers\"], result_hi_dens[\"rdf_mean\"], label=r\"density $\\rho=0.6$\")\n",
    "plt.xlabel(r\"distance $r/\\sigma$\")\n",
    "plt.ylabel(r\"radial distribution $g(r)$\")\n",
    "plt.legend(loc=\"best\")\n",
    "plt.show()"
   ]
  }
 ],
 "metadata": {
  "kernelspec": {
   "display_name": "Python 3",
   "language": "python",
   "name": "python3"
  },
  "language_info": {
   "codemirror_mode": {
    "name": "ipython",
    "version": 3
   },
   "file_extension": ".py",
   "mimetype": "text/x-python",
   "name": "python",
   "nbconvert_exporter": "python",
   "pygments_lexer": "ipython3",
   "version": "3.6.4"
  },
  "readdy": {
   "position": "3",
   "title": "Lennard-Jones fluid - thermodynamic state variables"
  }
 },
 "nbformat": 4,
 "nbformat_minor": 2
}
