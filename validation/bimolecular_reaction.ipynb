{
 "cells": [
  {
   "cell_type": "code",
   "execution_count": 1,
   "metadata": {},
   "outputs": [],
   "source": [
    "import os\n",
    "import numpy as np\n",
    "import matplotlib.pyplot as plt\n",
    "import readdy"
   ]
  },
  {
   "cell_type": "markdown",
   "metadata": {},
   "source": [
    "## Setup ReaDDy system"
   ]
  },
  {
   "cell_type": "code",
   "execution_count": 2,
   "metadata": {},
   "outputs": [],
   "source": [
    "system = readdy.ReactionDiffusionSystem([20.,20.,20.], temperature=300.*readdy.units.kelvin)\n",
    "\n",
    "system.add_species(\"A\", diffusion_constant=1.0)\n",
    "system.add_species(\"B\", diffusion_constant=1.0)\n",
    "system.add_species(\"C\", diffusion_constant=1.0)\n",
    "\n",
    "lambda_on = 1.\n",
    "system.reactions.add(\"myfusion: A +(1) B -> C\", rate=lambda_on/readdy.units.nanosecond)"
   ]
  },
  {
   "cell_type": "markdown",
   "metadata": {},
   "source": [
    "## Simulate the system"
   ]
  },
  {
   "cell_type": "code",
   "execution_count": 3,
   "metadata": {},
   "outputs": [],
   "source": [
    "simulation = system.simulation(kernel=\"CPU\")\n",
    "simulation.output_file = \"out.h5\"\n",
    "simulation.reaction_handler = \"Gillespie\"\n",
    "\n",
    "n_particles = 2000\n",
    "initial_positions_a = np.random.random(size=(n_particles, 3)) * 20. - 10.\n",
    "initial_positions_b = np.random.random(size=(n_particles, 3)) * 20. - 10.\n",
    "simulation.add_particles(\"A\", initial_positions_a)\n",
    "simulation.add_particles(\"B\", initial_positions_b)\n",
    "\n",
    "simulation.observe.number_of_particles(stride=1, types=[\"A\"])"
   ]
  },
  {
   "cell_type": "code",
   "execution_count": 4,
   "metadata": {},
   "outputs": [
    {
     "data": {
      "application/vnd.jupyter.widget-view+json": {
       "model_id": "f6fa5671c30e44a2a8bcce3b1b782761",
       "version_major": 2,
       "version_minor": 0
      },
      "text/html": [
       "<p>Failed to display Jupyter Widget of type <code>Box</code>.</p>\n",
       "<p>\n",
       "  If you're reading this message in Jupyter Notebook or JupyterLab, it may mean\n",
       "  that the widgets JavaScript is still loading. If this message persists, it\n",
       "  likely means that the widgets JavaScript library is either not installed or\n",
       "  not enabled. See the <a href=\"https://ipywidgets.readthedocs.io/en/stable/user_install.html\">Jupyter\n",
       "  Widgets Documentation</a> for setup instructions.\n",
       "</p>\n",
       "<p>\n",
       "  If you're reading this message in another notebook frontend (for example, a static\n",
       "  rendering on GitHub or <a href=\"https://nbviewer.jupyter.org/\">NBViewer</a>),\n",
       "  it may mean that your frontend doesn't currently support widgets.\n",
       "</p>\n"
      ],
      "text/plain": [
       "Box(children=(Text(value=''), IntProgress(value=0)))"
      ]
     },
     "metadata": {},
     "output_type": "display_data"
    }
   ],
   "source": [
    "if os.path.exists(simulation.output_file):\n",
    "    os.remove(simulation.output_file)\n",
    "\n",
    "simulation.run(n_steps=5000, timestep=1e-3*readdy.units.nanosecond)"
   ]
  },
  {
   "cell_type": "code",
   "execution_count": 5,
   "metadata": {},
   "outputs": [],
   "source": [
    "traj = readdy.Trajectory(simulation.output_file)\n",
    "time, counts = traj.read_observable_number_of_particles()"
   ]
  },
  {
   "cell_type": "markdown",
   "metadata": {},
   "source": [
    "## Analytic solution\n",
    "In ReaDDy, one defines the intrinsic rate constant. In a well-mixed setting, one can use the following\n",
    "equation (see [1]) to obtain the corresponding macroscopic rate (ODE rate equation/ law of mass action)\n",
    "\n",
    "$$\n",
    "k_\\mathrm{on} = 4\\pi (D_A + D_B) R \\left[1 - \\frac{\\tanh(\\kappa R)}{\\kappa R}\\right]\n",
    "$$\n",
    "\n",
    "where\n",
    "\n",
    "$$\n",
    "\\kappa = \\sqrt{\\frac{\\lambda_\\mathrm{on}}{D_A + D_B}}\n",
    "$$\n",
    "\n",
    "Parameters:\n",
    "- intrinsic rate constant $\\lambda_\\mathrm{on} = 1\\,\\mathrm{ns}^{-1}$\n",
    "- diffusion coefficient $D_A=D_B=1\\, \\mathrm{nm}^2 \\mathrm{ns}^{-1}$\n",
    "- reaction radius $R = 1\\,\\mathrm{nm}$\n",
    "\n",
    "Law of mass action ODE for the concentration of A particles $[A](t) = a(t)$\n",
    "\n",
    "$$\n",
    "\\frac{\\mathrm{d}a}{\\mathrm{d}t} = -k_\\mathrm{on}\\,a^2 \\quad\\text{, with } a(0) = a_0\n",
    "$$\n",
    "\n",
    "which yields\n",
    "\n",
    "$$\n",
    "a(t) = \\frac{1}{a_0^{-1} + k_\\mathrm{on}t}\n",
    "$$\n",
    "\n",
    "[1]: R. Erban and J. Chapman, “Stochastic modelling of reaction-diffusion processes: algorithms for bimolecular reactions.,” Phys. Biol., vol. 6, no. 4, p. 46001, Jan. 2009."
   ]
  },
  {
   "cell_type": "code",
   "execution_count": 6,
   "metadata": {},
   "outputs": [],
   "source": [
    "kappa = np.sqrt(lambda_on / 2.)\n",
    "k_on = 4. * np.pi * 2. * 1. * (1. - np.tanh(kappa * 1.) / (kappa * 1.) )\n",
    "\n",
    "def a(t): \n",
    "    return 1. / ((system.box_volume.magnitude / n_particles) + k_on * t)\n",
    "\n",
    "t_range = np.linspace(0., 5000 * 1e-3, 10000)"
   ]
  },
  {
   "cell_type": "code",
   "execution_count": 7,
   "metadata": {},
   "outputs": [
    {
     "data": {
      "image/png": "[encoded data removed]",
      "text/plain": [
       "<matplotlib.figure.Figure at 0x7f01ae723d68>"
      ]
     },
     "metadata": {},
     "output_type": "display_data"
    }
   ],
   "source": [
    "plt.plot(time[::200]*1e-3, counts[::200] / system.box_volume.magnitude, \"x\", label=\"ReaDDy\")\n",
    "plt.plot(t_range, a(t_range), label=r\"analytic $a(t)$\")\n",
    "plt.legend(loc=\"best\")\n",
    "plt.xlabel(\"time in nanoseconds\")\n",
    "plt.ylabel(r\"concentration in nm$^{-3}$\")\n",
    "plt.show()"
   ]
  },
  {
   "cell_type": "markdown",
   "metadata": {},
   "source": [
    "Note that in the diffusion-limited regime, the law of mass action solution generally does not reflect what can be observed from the Doi model."
   ]
  }
 ],
 "metadata": {
  "kernelspec": {
   "display_name": "Python 3",
   "language": "python",
   "name": "python3"
  },
  "language_info": {
   "codemirror_mode": {
    "name": "ipython",
    "version": 3
   },
   "file_extension": ".py",
   "mimetype": "text/x-python",
   "name": "python",
   "nbconvert_exporter": "python",
   "pygments_lexer": "ipython3",
   "version": "3.6.3"
  },
  "readdy": {
   "category": "validation",
   "position": "1",
   "title": "Bimolecular reaction - well mixed"
  }
 },
 "nbformat": 4,
 "nbformat_minor": 2
}
