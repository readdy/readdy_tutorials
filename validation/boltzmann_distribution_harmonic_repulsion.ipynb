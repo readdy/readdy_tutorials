{
 "cells": [
  {
   "cell_type": "code",
   "execution_count": 2,
   "metadata": {},
   "outputs": [],
   "source": [
    "import os\n",
    "import numpy as np\n",
    "import matplotlib.pyplot as plt\n",
    "\n",
    "import readdy"
   ]
  },
  {
   "cell_type": "code",
   "execution_count": 3,
   "metadata": {},
   "outputs": [
    {
     "data": {
      "text/plain": [
       "'v1.0.1-0'"
      ]
     },
     "execution_count": 3,
     "metadata": {},
     "output_type": "execute_result"
    }
   ],
   "source": [
    "readdy.__version__"
   ]
  },
  {
   "cell_type": "markdown",
   "metadata": {},
   "source": [
    "__Prepare the system__"
   ]
  },
  {
   "cell_type": "code",
   "execution_count": 4,
   "metadata": {},
   "outputs": [],
   "source": [
    "system = readdy.ReactionDiffusionSystem(\n",
    "    box_size=(4, 4, 4), periodic_boundary_conditions=[True, True, True], unit_system=None)\n",
    "system.add_species(\"A\", 1.0)\n",
    "system.add_species(\"B\", 1.0)\n",
    "system.potentials.add_harmonic_repulsion(\"A\", \"B\", 1., 1.)"
   ]
  },
  {
   "cell_type": "markdown",
   "metadata": {},
   "source": [
    "__Prepare the simulation__"
   ]
  },
  {
   "cell_type": "code",
   "execution_count": 5,
   "metadata": {},
   "outputs": [],
   "source": [
    "simulation = system.simulation(kernel=\"SingleCPU\")\n",
    "\n",
    "simulation.output_file = \"out_rdf.h5\"\n",
    "simulation.observe.rdf(1000, np.linspace(0., 2., 10), [\"A\"], [\"B\"], 1. / system.box_volume)\n",
    "simulation.add_particle(\"A\", [0., 0., 0.])\n",
    "simulation.add_particle(\"B\", [0., 0., 1.])"
   ]
  },
  {
   "cell_type": "markdown",
   "metadata": {},
   "source": [
    "__Run the simulation__"
   ]
  },
  {
   "cell_type": "code",
   "execution_count": 7,
   "metadata": {},
   "outputs": [
    {
     "data": {
      "application/vnd.jupyter.widget-view+json": {
       "model_id": "",
       "version_major": 2,
       "version_minor": 0
      },
      "text/plain": [
       "HBox(children=(HBox(children=(Label(value='Simulation progress'),), layout=Layout(max_width='35%', min_width='…"
      ]
     },
     "metadata": {},
     "output_type": "display_data"
    }
   ],
   "source": [
    "if os.path.exists(simulation.output_file):\n",
    "    os.remove(simulation.output_file)\n",
    "\n",
    "simulation.progress_output_stride = 1000\n",
    "simulation.run(n_steps=100000000, timestep=1e-4, show_system=False)"
   ]
  },
  {
   "cell_type": "code",
   "execution_count": 8,
   "metadata": {},
   "outputs": [],
   "source": [
    "traj = readdy.Trajectory(simulation.output_file)\n",
    "rdf_times, bin_centers, rdf_values = traj.read_observable_rdf()"
   ]
  },
  {
   "cell_type": "code",
   "execution_count": 9,
   "metadata": {},
   "outputs": [
    {
     "data": {
      "image/png": "[encoded data removed]",
      "text/plain": [
       "<Figure size 432x288 with 1 Axes>"
      ]
     },
     "metadata": {},
     "output_type": "display_data"
    }
   ],
   "source": [
    "def average_across_first_axis(values):\n",
    "    n_values = len(values)\n",
    "    mean = np.sum(values, axis=0) / n_values  # shape = n_bins\n",
    "    difference = values - mean  # broadcasting starts with last axis\n",
    "    std_dev = np.sqrt(np.sum(difference * difference, axis=0) / n_values)\n",
    "    std_err = np.sqrt(np.sum(difference * difference, axis=0) / n_values ** 2)\n",
    "    return mean, std_dev, std_err\n",
    "\n",
    "def plot_boltzmann(force_const, interaction_radius):\n",
    "    def potential(r, force_const, interaction_radius):\n",
    "        if r < interaction_radius:\n",
    "            return 0.5 * force_const * np.power(r - interaction_radius, 2.)\n",
    "        else:\n",
    "            return 0.\n",
    "\n",
    "    boltz = lambda r: np.exp(-1. * potential(r, force_const, interaction_radius))\n",
    "    r_range = np.linspace(0.1, 2., 100)\n",
    "    b_range = np.fromiter(map(boltz, r_range), dtype=float)\n",
    "    plt.plot(r_range, b_range, label=r\"Boltzmann correlation $e^{-\\beta U(r)}$\")\n",
    "\n",
    "mean, std_dev, std_err = average_across_first_axis(rdf_values)\n",
    "plt.errorbar(bin_centers, mean, yerr=std_err, fmt=\".\", label=\"ReaDDy\")\n",
    "plot_boltzmann(1., 1.)\n",
    "plt.legend()\n",
    "plt.xlabel(r\"Distance $r$ of A and B\")\n",
    "plt.ylabel(r\"Radial distribution function $g(r)$\")\n",
    "plt.show()"
   ]
  }
 ],
 "metadata": {
  "kernelspec": {
   "display_name": "Python 3",
   "language": "python",
   "name": "python3"
  },
  "language_info": {
   "codemirror_mode": {
    "name": "ipython",
    "version": 3
   },
   "file_extension": ".py",
   "mimetype": "text/x-python",
   "name": "python",
   "nbconvert_exporter": "python",
   "pygments_lexer": "ipython3",
   "version": "3.6.5"
  },
  "readdy": {
   "position": "3",
   "title": "Harmonic repulsion - Boltzmann distribution"
  }
 },
 "nbformat": 4,
 "nbformat_minor": 2
}
