{
 "cells": [
  {
   "cell_type": "code",
   "execution_count": 1,
   "metadata": {},
   "outputs": [
    {
     "name": "stdout",
     "output_type": "stream",
     "text": [
      "v2.0.3-27\n"
     ]
    }
   ],
   "source": [
    "import os\n",
    "import numpy as np\n",
    "import matplotlib.pyplot as plt\n",
    "import readdy\n",
    "\n",
    "print(readdy.__version__)"
   ]
  },
  {
   "cell_type": "markdown",
   "metadata": {},
   "source": [
    "Set up a cubic periodic box and register one species `A` with diffusion constant $D=1$. The simulation adds 800 particles in the origin. We observe the particle positions at every timestep and run the simulation for a given amount of steps."
   ]
  },
  {
   "cell_type": "code",
   "execution_count": 2,
   "metadata": {},
   "outputs": [
    {
     "name": "stderr",
     "output_type": "stream",
     "text": [
      "  6%|▋         | 32/500 [00:00<00:01, 316.09it/s]"
     ]
    },
    {
     "name": "stdout",
     "output_type": "stream",
     "text": [
      "Configured kernel context with:\n",
      "--------------------------------\n",
      " - kBT = 1.0\n",
      " - periodic b.c. = (true, true, true)\n",
      " - box size = (10.0, 10.0, 10.0)\n",
      " - particle types:\n",
      "     *  particle type \"A\" with D=1.0\n",
      "\n",
      "Configured simulation loop with:\n",
      "--------------------------------\n",
      " - timeStep = 0.00100000\n",
      " - evaluateObservables = true\n",
      " - progressOutputStride = 100\n",
      " - context written to file = true\n",
      " - Performing actions:\n",
      "   * Initialize neighbor list? true\n",
      "   * Update neighbor list? true\n",
      "   * Clear neighbor list? true\n",
      "   * Integrate diffusion? true\n",
      "   * Calculate forces? true\n",
      "   * Handle reactions? true\n",
      "   * Handle topology reactions? true\n",
      "\n"
     ]
    },
    {
     "name": "stderr",
     "output_type": "stream",
     "text": [
      "100%|██████████| 500/500 [00:01<00:00, 319.21it/s]\n"
     ]
    }
   ],
   "source": [
    "system = readdy.ReactionDiffusionSystem(\n",
    "    box_size=[10, 10, 10], \n",
    "    periodic_boundary_conditions=[True, True, True],\n",
    "    unit_system=None)\n",
    "system.add_species(\"A\", 1.0)\n",
    "\n",
    "simulation = system.simulation(kernel=\"SingleCPU\")\n",
    "\n",
    "simulation.output_file = \"out_msd.h5\"\n",
    "simulation.observe.particle_positions(stride=1)\n",
    "init_pos = np.zeros((800, 3))\n",
    "simulation.add_particles(\"A\", init_pos)\n",
    "\n",
    "if os.path.exists(simulation.output_file):\n",
    "    os.remove(simulation.output_file)\n",
    "\n",
    "simulation.run(n_steps=5000, timestep=1e-3)"
   ]
  },
  {
   "cell_type": "markdown",
   "metadata": {},
   "source": [
    "Load the trajectory containing the observables. Since there were no reactions in the system we can assume that the particle positions is of fixed shape `(T, N, 3)`, where `N` does not change over time. We may want to cast the positions into a numpy array."
   ]
  },
  {
   "cell_type": "code",
   "execution_count": 3,
   "metadata": {},
   "outputs": [],
   "source": [
    "traj = readdy.Trajectory(simulation.output_file)\n",
    "times, positions = traj.read_observable_particle_positions()\n",
    "times = np.array(times) * 1e-3\n",
    "\n",
    "# convert to pure numpy array to make use of fancy operations\n",
    "T = len(positions)\n",
    "N = len(positions[0])\n",
    "pos = np.zeros(shape=(T, N, 3))\n",
    "for t in range(T):\n",
    "    for n in range(N):\n",
    "        pos[t, n, 0] = positions[t][n][0]\n",
    "        pos[t, n, 1] = positions[t][n][1]\n",
    "        pos[t, n, 2] = positions[t][n][2]"
   ]
  },
  {
   "cell_type": "markdown",
   "metadata": {},
   "source": [
    "Wrap the trajectories back to account for periodic boundaries\n",
    "1. find the box index of each point in time for each particle and each coordinate\n",
    "2. wrap the trajectory back to absolute positions for each particle using the box indices"
   ]
  },
  {
   "cell_type": "code",
   "execution_count": 4,
   "metadata": {},
   "outputs": [],
   "source": [
    "# step 1.\n",
    "box_size = 10.\n",
    "box_indices = np.zeros(shape=(T, N, 3), dtype=int)\n",
    "for t in range(1, T):\n",
    "    for n in range(N):\n",
    "        for coord in [0, 1, 2]:\n",
    "            delta = pos[t, n, coord] - pos[t-1, n, coord]\n",
    "            if delta > 0.5 * box_size:\n",
    "                box_indices[t, n, coord] = box_indices[t-1, n, coord] - 1\n",
    "            elif delta < - 0.5 * box_size:\n",
    "                box_indices[t, n, coord] = box_indices[t-1, n, coord] + 1\n",
    "            else:\n",
    "                box_indices[t, n, coord] = box_indices[t-1, n, coord]\n",
    "\n",
    "# step 2.\n",
    "absolute_pos = np.zeros_like(pos)\n",
    "for t in range(T):\n",
    "    for n in range(N):\n",
    "        absolute_pos[t, n] = pos[t, n] + box_indices[t, n].astype(float) * box_size"
   ]
  },
  {
   "cell_type": "markdown",
   "metadata": {},
   "source": [
    "Using the absolute positions we can calculate the displacement from the initial positions and obtain the quadratic variation (the mean squared displacement) and its standard deviation. Since the particles do not interact their trajectories are uncorrelated and we obtain the standard error of the mean from the same experiment."
   ]
  },
  {
   "cell_type": "code",
   "execution_count": 5,
   "metadata": {},
   "outputs": [
    {
     "data": {
      "image/png": "[encoded data removed]",
      "text/plain": [
       "<Figure size 432x288 with 1 Axes>"
      ]
     },
     "metadata": {
      "needs_background": "light"
     },
     "output_type": "display_data"
    }
   ],
   "source": [
    "difference = absolute_pos - init_pos\n",
    "# sum over coordinates, per particle per timestep\n",
    "squared_displacements = np.sum(difference * difference, axis=2)\n",
    "# squared_displacements has shape (T,N)\n",
    "mean = np.mean(squared_displacements, axis=1)\n",
    "std_dev = np.std(squared_displacements, axis=1)\n",
    "std_err = np.std(squared_displacements, axis=1) / np.sqrt(squared_displacements.shape[1])\n",
    "\n",
    "# plot\n",
    "stride = 100\n",
    "plt.errorbar(times[::stride], mean[::stride], yerr=std_err[::stride], fmt=\".\", label=\"Particle diffusion\")\n",
    "plt.plot(times[::stride], 6. * times[::stride], label=r\"$6 D t$\")\n",
    "plt.legend(loc=\"best\")\n",
    "plt.xlabel(r\"Time $t$\")\n",
    "plt.ylabel(r\"Mean squared displacement $\\langle (x(t) - x_0)^2 \\rangle_N$\")\n",
    "plt.show()"
   ]
  }
 ],
 "metadata": {
  "kernelspec": {
   "display_name": "Python 3",
   "language": "python",
   "name": "python3"
  },
  "language_info": {
   "codemirror_mode": {
    "name": "ipython",
    "version": 3
   },
   "file_extension": ".py",
   "mimetype": "text/x-python",
   "name": "python",
   "nbconvert_exporter": "python",
   "pygments_lexer": "ipython3",
   "version": "3.8.6"
  },
  "readdy": {
   "position": "2",
   "title": "Diffusion - Mean squared displacement"
  }
 },
 "nbformat": 4,
 "nbformat_minor": 2
}
