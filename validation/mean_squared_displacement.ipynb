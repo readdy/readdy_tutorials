{
 "cells": [
  {
   "cell_type": "code",
   "execution_count": null,
   "metadata": {},
   "outputs": [],
   "source": [
    "import os\n",
    "import numpy as np\n",
    "import matplotlib.pyplot as plt\n",
    "\n",
    "import readdy"
   ]
  },
  {
   "cell_type": "code",
   "execution_count": 2,
   "metadata": {},
   "outputs": [],
   "source": [
    "system = readdy.ReactionDiffusionSystem(\n",
    "        box_size=(10, 10, 10), periodic_boundary_conditions=[True, True, True], unit_system=None)\n",
    "system.add_species(\"A\", 1.0)"
   ]
  },
  {
   "cell_type": "code",
   "execution_count": 3,
   "metadata": {},
   "outputs": [],
   "source": [
    "simulation = system.simulation(kernel=\"SingleCPU\")\n",
    "\n",
    "simulation.output_file = \"out_msd.h5\"\n",
    "simulation.observe.particle_positions(stride=1)\n",
    "init_pos = np.zeros((800, 3))\n",
    "simulation.add_particles(\"A\", init_pos)"
   ]
  },
  {
   "cell_type": "code",
   "execution_count": 4,
   "metadata": {},
   "outputs": [
    {
     "name": "stdout",
     "output_type": "stream",
     "text": [
      "Configured kernel context with:\n",
      "--------------------------------\n",
      " - kBT = 1\n",
      " - periodic b.c. = (true, true, true)\n",
      " - box size = (10, 10, 10)\n",
      " - particle types:\n",
      "     *  particle type \"A\" with D=1\n",
      "\n"
     ]
    },
    {
     "data": {
      "application/vnd.jupyter.widget-view+json": {
       "model_id": "a2d701825b4640249d4610633bcf7499",
       "version_major": 2,
       "version_minor": 0
      },
      "text/html": [
       "<p>Failed to display Jupyter Widget of type <code>HBox</code>.</p>\n",
       "<p>\n",
       "  If you're reading this message in the Jupyter Notebook or JupyterLab Notebook, it may mean\n",
       "  that the widgets JavaScript is still loading. If this message persists, it\n",
       "  likely means that the widgets JavaScript library is either not installed or\n",
       "  not enabled. See the <a href=\"https://ipywidgets.readthedocs.io/en/stable/user_install.html\">Jupyter\n",
       "  Widgets Documentation</a> for setup instructions.\n",
       "</p>\n",
       "<p>\n",
       "  If you're reading this message in another frontend (for example, a static\n",
       "  rendering on GitHub or <a href=\"https://nbviewer.jupyter.org/\">NBViewer</a>),\n",
       "  it may mean that your frontend doesn't currently support widgets.\n",
       "</p>\n"
      ],
      "text/plain": [
       "HBox(children=(HBox(children=(Label(value='Simulation progress'),), layout=Layout(max_width='35%', min_width='35%')), HBox(children=(IntProgress(value=0, max=500), HTML(value='')), layout=Layout(padding='0 0 0 20px'))), layout=Layout(display='flex', width='100%'))"
      ]
     },
     "metadata": {},
     "output_type": "display_data"
    },
    {
     "name": "stdout",
     "output_type": "stream",
     "text": [
      "\r"
     ]
    }
   ],
   "source": [
    "if os.path.exists(simulation.output_file):\n",
    "    os.remove(simulation.output_file)\n",
    "\n",
    "simulation.run(n_steps=5000, timestep=1e-3, show_system=True)"
   ]
  },
  {
   "cell_type": "code",
   "execution_count": 5,
   "metadata": {},
   "outputs": [],
   "source": [
    "traj = readdy.Trajectory(simulation.output_file)\n",
    "times, positions = traj.read_observable_particle_positions()\n",
    "times = np.array(times) * 1e-3"
   ]
  },
  {
   "cell_type": "code",
   "execution_count": 6,
   "metadata": {},
   "outputs": [],
   "source": [
    "# convert to pure numpy array to make use of fancy operations\n",
    "T = len(positions)\n",
    "N = len(positions[0])\n",
    "pos = np.zeros(shape=(T, N, 3))\n",
    "for t in range(T):\n",
    "    for n in range(N):\n",
    "        pos[t, n, 0] = positions[t][n][0]\n",
    "        pos[t, n, 1] = positions[t][n][1]\n",
    "        pos[t, n, 2] = positions[t][n][2]"
   ]
  },
  {
   "cell_type": "markdown",
   "metadata": {},
   "source": [
    "Wrap the trajectories back to account for periodic boundaries\n",
    "1. find the box index of each point in time for each particle and each coordinate\n",
    "2. wrap the trajectory back to absolute positions for each particle using the box indices"
   ]
  },
  {
   "cell_type": "code",
   "execution_count": 7,
   "metadata": {},
   "outputs": [],
   "source": [
    "box_size = 10.\n",
    "box_indices = np.zeros(shape=(T, N, 3), dtype=int)\n",
    "for t in range(1, T):\n",
    "    for n in range(N):\n",
    "        for coord in [0, 1, 2]:\n",
    "            delta = pos[t, n, coord] - pos[t-1, n, coord]\n",
    "            if delta > 0.5 * box_size:\n",
    "                box_indices[t, n, coord] = box_indices[t-1, n, coord] - 1\n",
    "            elif delta < - 0.5 * box_size:\n",
    "                box_indices[t, n, coord] = box_indices[t-1, n, coord] + 1\n",
    "            else:\n",
    "                box_indices[t, n, coord] = box_indices[t-1, n, coord]"
   ]
  },
  {
   "cell_type": "code",
   "execution_count": 8,
   "metadata": {},
   "outputs": [],
   "source": [
    "wrapped_pos = np.zeros_like(pos)\n",
    "for t in range(T):\n",
    "    for n in range(N):\n",
    "        wrapped_pos[t, n] = pos[t, n] + box_indices[t, n].astype(float) * box_size"
   ]
  },
  {
   "cell_type": "code",
   "execution_count": 9,
   "metadata": {},
   "outputs": [],
   "source": [
    "difference = wrapped_pos - init_pos\n",
    "squared_displacements = np.sum(difference * difference, axis=2)  # sum over coordinates, per particle per timestep\n",
    "squared_displacements = squared_displacements.transpose()  # T x N -> N x T"
   ]
  },
  {
   "cell_type": "code",
   "execution_count": 10,
   "metadata": {},
   "outputs": [],
   "source": [
    "def average_across_first_axis(values):\n",
    "    n_values = len(values)\n",
    "    mean = np.sum(values, axis=0) / n_values\n",
    "    difference = values - mean  # broadcasting starts with last axis\n",
    "    std_dev = np.sqrt(np.sum(difference * difference, axis=0) / n_values)\n",
    "    std_err = np.sqrt(np.sum(difference * difference, axis=0) / n_values ** 2)\n",
    "    return mean, std_dev, std_err\n",
    "\n",
    "mean, std_dev, std_err = average_across_first_axis(squared_displacements)"
   ]
  },
  {
   "cell_type": "code",
   "execution_count": 11,
   "metadata": {},
   "outputs": [
    {
     "data": {
      "image/png": "[encoded data removed]",
      "text/plain": [
       "<matplotlib.figure.Figure at 0x7f55edaad860>"
      ]
     },
     "metadata": {},
     "output_type": "display_data"
    }
   ],
   "source": [
    "stride = 100\n",
    "plt.errorbar(times[::stride], mean[::stride], yerr=std_err[::stride], fmt=\".\", label=\"Particle diffusion\")\n",
    "plt.plot(times[::stride], 6. * times[::stride], label=r\"$6 D t$\")\n",
    "plt.legend(loc=\"best\")\n",
    "plt.xlabel(r\"Time $t$\")\n",
    "plt.ylabel(r\"Mean squared displacement $\\langle (x(t) - x_0)^2 \\rangle_N$\")\n",
    "plt.show()"
   ]
  }
 ],
 "metadata": {
  "kernelspec": {
   "display_name": "Python 3",
   "language": "python",
   "name": "python3"
  },
  "language_info": {
   "codemirror_mode": {
    "name": "ipython",
    "version": 3
   },
   "file_extension": ".py",
   "mimetype": "text/x-python",
   "name": "python",
   "nbconvert_exporter": "python",
   "pygments_lexer": "ipython3",
   "version": "3.6.4"
  },
  "readdy": {
   "position": "2",
   "title": "Diffusion - Mean squared displacement"
  }
 },
 "nbformat": 4,
 "nbformat_minor": 2
}
