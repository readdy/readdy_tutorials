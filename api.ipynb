{
 "cells": [
  {
   "cell_type": "code",
   "execution_count": 1,
   "metadata": {
    "collapsed": true
   },
   "outputs": [],
   "source": [
    "import readdy"
   ]
  },
  {
   "cell_type": "markdown",
   "metadata": {
    "collapsed": true
   },
   "source": [
    "Step 1: Set up a reaction diffusion system"
   ]
  },
  {
   "cell_type": "code",
   "execution_count": 2,
   "metadata": {
    "collapsed": true
   },
   "outputs": [],
   "source": [
    "system = readdy.ReactionDiffusionSystem()\n",
    "\n",
    "system.kbt = 2.317\n",
    "system.box_size = [25, 25, 25]\n",
    "\n",
    "system.add_species(\"A\", 1.0)"
   ]
  },
  {
   "cell_type": "markdown",
   "metadata": {},
   "source": [
    "Define reactions"
   ]
  },
  {
   "cell_type": "code",
   "execution_count": 3,
   "metadata": {
    "collapsed": true
   },
   "outputs": [],
   "source": [
    "system.reactions.add(\"myfusion: A +(2) A -> A\", rate=10.)\n",
    "system.reactions.add(\"myfission: A -> A +(2) A\", rate=3.)"
   ]
  },
  {
   "cell_type": "markdown",
   "metadata": {},
   "source": [
    "Define potentials"
   ]
  },
  {
   "cell_type": "code",
   "execution_count": 4,
   "metadata": {
    "collapsed": true
   },
   "outputs": [],
   "source": [
    "system.potentials.add_harmonic_repulsion(\"A\", \"A\", force_constant=10., \n",
    "                                         interaction_distance=2.)"
   ]
  },
  {
   "cell_type": "markdown",
   "metadata": {},
   "source": [
    "Step 2: Create a corresponding simulation"
   ]
  },
  {
   "cell_type": "code",
   "execution_count": 5,
   "metadata": {
    "collapsed": true
   },
   "outputs": [],
   "source": [
    "simulation = system.simulation(kernel=\"CPU\")\n",
    "\n",
    "simulation.output_file = \"out.h5\"\n",
    "simulation.reaction_handler = \"UncontrolledApproximation\"\n",
    "\n",
    "simulation.add_particle(\"A\", [0.,0.,0.])\n",
    "\n",
    "simulation.record_trajectory(stride=1)\n",
    "simulation.observe.number_of_particles(stride=100, callback=lambda n: print(\"#A:\", n))"
   ]
  },
  {
   "cell_type": "markdown",
   "metadata": {},
   "source": [
    "Step 3: Run the simulation"
   ]
  },
  {
   "cell_type": "code",
   "execution_count": 6,
   "metadata": {},
   "outputs": [
    {
     "name": "stdout",
     "output_type": "stream",
     "text": [
      "#A: [1]\n",
      "#A: [6]\n",
      "#A: [12]\n",
      "#A: [32]\n",
      "#A: [53]\n",
      "#A: [123]\n",
      "#A: [234]\n",
      "#A: [339]\n",
      "#A: [406]\n",
      "#A: [478]\n",
      "#A: [514]\n",
      "#A: [554]\n",
      "#A: [545]\n",
      "#A: [553]\n",
      "#A: [558]\n",
      "#A: [567]\n",
      "#A: [594]\n",
      "#A: [562]\n",
      "#A: [529]\n",
      "#A: [556]\n",
      "#A: [549]\n",
      "#A: [530]\n",
      "#A: [541]\n",
      "#A: [576]\n",
      "#A: [562]\n",
      "#A: [545]\n",
      "#A: [565]\n",
      "#A: [521]\n",
      "#A: [542]\n",
      "#A: [569]\n",
      "#A: [570]\n"
     ]
    }
   ],
   "source": [
    "simulation.run(n_steps=3000, timestep=1e-2)"
   ]
  },
  {
   "cell_type": "markdown",
   "metadata": {},
   "source": [
    "Step 4: Look at results"
   ]
  },
  {
   "cell_type": "code",
   "execution_count": 7,
   "metadata": {
    "collapsed": true
   },
   "outputs": [],
   "source": [
    "trajectory = readdy.Trajectory('out.h5')\n",
    "trajectory.convert_to_xyz(particle_radii={'A': 1.})"
   ]
  },
  {
   "cell_type": "markdown",
   "metadata": {},
   "source": [
    "`>>> vmd -e out.xyz.tcl`"
   ]
  }
 ],
 "metadata": {
  "kernelspec": {
   "display_name": "Python 3",
   "language": "python",
   "name": "python3"
  },
  "language_info": {
   "codemirror_mode": {
    "name": "ipython",
    "version": 3
   },
   "file_extension": ".py",
   "mimetype": "text/x-python",
   "name": "python",
   "nbconvert_exporter": "python",
   "pygments_lexer": "ipython3",
   "version": "3.6.2"
  },
  "readdy": {
   "category": "demonstration",
   "position": "1",
   "title": "Simple example"
  }
 },
 "nbformat": 4,
 "nbformat_minor": 2
}
