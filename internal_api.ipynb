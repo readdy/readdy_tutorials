{
 "cells": [
  {
   "cell_type": "markdown",
   "metadata": {},
   "source": [
    "---\n",
    "title: Internal API\n",
    "category: demonstration\n",
    "position: 1\n",
    "---"
   ]
  },
  {
   "cell_type": "markdown",
   "metadata": {},
   "source": [
    "![](common_files/readdy.png)\n",
    "\n",
    "This notebook shall demonstrate the usage of the `readdy._internal.api`. Information here is likely to be deprecated."
   ]
  },
  {
   "cell_type": "code",
   "execution_count": 1,
   "metadata": {
    "collapsed": true
   },
   "outputs": [],
   "source": [
    "import numpy as np\n",
    "import matplotlib.pyplot as plt\n",
    "import contextlib as cl\n",
    "\n",
    "import readdy._internal as api\n",
    "api.set_logging_level(\"info\")"
   ]
  },
  {
   "cell_type": "code",
   "execution_count": 2,
   "metadata": {
    "collapsed": true
   },
   "outputs": [],
   "source": [
    "sim = api.Simulation()\n",
    "sim.set_kernel(\"SingleCPU\")\n",
    "sim.box_size = api.Vec(20, 20, 20)\n",
    "sim.periodic_boundary = [True, True, True]"
   ]
  },
  {
   "cell_type": "code",
   "execution_count": null,
   "metadata": {},
   "outputs": [],
   "source": [
    "sim.register_particle_type(\"A\", diffusion_coefficient=1.0, radius=0.5)\n",
    "sim.register_particle_type(\"Source A\", diffusion_coefficient=1.0, radius=1.0)\n",
    "sim.register_particle_type(\"Sink A\", diffusion_coefficient=1.0, radius=1.5)"
   ]
  },
  {
   "cell_type": "code",
   "execution_count": null,
   "metadata": {},
   "outputs": [],
   "source": [
    "sim.register_reaction_fission(\"create A\", from_type=\"Source A\", to_type1=\"Source A\", \n",
    "                              to_type2=\"A\", rate=5., product_distance=1.)\n",
    "\n",
    "sim.register_reaction_fusion(\"absorb A\", from_type1=\"Sink A\", from_type2=\"A\", \n",
    "                             to_type=\"Sink A\", rate=15., educt_distance=2.0)"
   ]
  },
  {
   "cell_type": "code",
   "execution_count": 5,
   "metadata": {
    "collapsed": true
   },
   "outputs": [],
   "source": [
    "sim.add_particle(\"Source A\", api.Vec(0., 0., 0.))\n",
    "sim.add_particle(\"Sink A\", api.Vec(4., 0., 4.))\n",
    "sim.add_particle(\"Sink A\", api.Vec(4., 2., 0.))\n",
    "sim.add_particle(\"Sink A\", api.Vec(-1., -1., -3.))"
   ]
  },
  {
   "cell_type": "code",
   "execution_count": null,
   "metadata": {},
   "outputs": [],
   "source": [
    "numbers_data = []\n",
    "def append_numbers(x):\n",
    "    global numbers_data\n",
    "    numbers_data.append(x)\n",
    "    print(\"A\", x[0])\n",
    "\n",
    "obs_stride = 500\n",
    "sim.register_observable_n_particles(stride=obs_stride, types=[\"A\"], callback=append_numbers)"
   ]
  },
  {
   "cell_type": "code",
   "execution_count": 7,
   "metadata": {
    "collapsed": true
   },
   "outputs": [],
   "source": [
    "wanna_look_at_vmd = True\n",
    "if wanna_look_at_vmd: \n",
    "    traj_handle = sim.register_observable_flat_trajectory(stride=1)"
   ]
  },
  {
   "cell_type": "code",
   "execution_count": 8,
   "metadata": {},
   "outputs": [
    {
     "name": "stdout",
     "output_type": "stream",
     "text": [
      "A 0\n",
      "A 12\n",
      "A 30\n",
      "A 49\n",
      "A 64\n",
      "A 79\n",
      "A 89\n",
      "A 96\n",
      "A 95\n",
      "A 106\n",
      "A 119\n",
      "A 126\n",
      "A 127\n",
      "A 140\n",
      "A 156\n",
      "A 166\n",
      "A 187\n",
      "A 191\n",
      "A 180\n",
      "A 179\n",
      "A 186\n",
      "A 189\n",
      "A 178\n",
      "A 199\n",
      "A 216\n",
      "A 226\n",
      "A 222\n",
      "A 208\n",
      "A 195\n",
      "A 200\n",
      "A 197\n",
      "A 180\n",
      "A 186\n",
      "A 179\n",
      "A 173\n",
      "A 187\n",
      "A 209\n",
      "A 204\n",
      "A 194\n",
      "A 201\n",
      "A 188\n"
     ]
    }
   ],
   "source": [
    "time_step = 1e-2\n",
    "with cl.closing(api.File(\"out.h5\", api.FileAction.CREATE, api.FileFlag.OVERWRITE)) as f:\n",
    "    if wanna_look_at_vmd:\n",
    "        traj_handle.enable_write_to_file(f, \"traj\", 5000)\n",
    "        \n",
    "    sim.run_scheme_readdy(True) \\\n",
    "        .write_config_to_file(f) \\\n",
    "        .configure_and_run(20000, time_step)"
   ]
  },
  {
   "cell_type": "code",
   "execution_count": 9,
   "metadata": {
    "collapsed": true
   },
   "outputs": [],
   "source": [
    "if wanna_look_at_vmd:\n",
    "    api.convert_xyz(\"./out.h5\", \"traj\", \"./traj.xyz\", radii={\"A\": 1., \"Source A\": 1., \"Sink A\": 1.})"
   ]
  },
  {
   "cell_type": "code",
   "execution_count": 10,
   "metadata": {},
   "outputs": [
    {
     "data": {
      "image/png": "[encoded data removed]",
      "text/plain": [
       "<matplotlib.figure.Figure at 0x7f7cc9e90e10>"
      ]
     },
     "metadata": {},
     "output_type": "display_data"
    }
   ],
   "source": [
    "times = np.arange(0., len(numbers_data)) * obs_stride * time_step\n",
    "plt.plot(times, numbers_data)\n",
    "plt.xlabel(\"time\")\n",
    "plt.ylabel(\"number of A particles\")\n",
    "plt.show()"
   ]
  }
 ],
 "metadata": {
  "kernelspec": {
   "display_name": "Python 3",
   "language": "python",
   "name": "python3"
  },
  "language_info": {
   "codemirror_mode": {
    "name": "ipython",
    "version": 3
   },
   "file_extension": ".py",
   "mimetype": "text/x-python",
   "name": "python",
   "nbconvert_exporter": "python",
   "pygments_lexer": "ipython3",
   "version": "3.6.2"
  }
 },
 "nbformat": 4,
 "nbformat_minor": 2
}
