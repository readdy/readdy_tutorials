{
 "cells": [
  {
   "cell_type": "code",
   "execution_count": 1,
   "metadata": {},
   "outputs": [],
   "source": [
    "import os\n",
    "import numpy as np\n",
    "import matplotlib.pyplot as plt\n",
    "import readdy"
   ]
  },
  {
   "cell_type": "markdown",
   "metadata": {},
   "source": [
    "## Setup ReaDDy system"
   ]
  },
  {
   "cell_type": "code",
   "execution_count": 2,
   "metadata": {},
   "outputs": [],
   "source": [
    "system = readdy.ReactionDiffusionSystem(\n",
    "    box_size=[0.3, 0.3, 0.3],\n",
    "    unit_system={\"length_unit\": \"micrometer\", \"time_unit\": \"second\"}\n",
    ")\n",
    "\n",
    "system.add_species(\"E\", diffusion_constant=10.)\n",
    "system.add_species(\"S\", diffusion_constant=10.)\n",
    "system.add_species(\"ES\", diffusion_constant=10.)\n",
    "system.add_species(\"P\", diffusion_constant=10.)\n",
    "\n",
    "system.reactions.add(\"fwd: E +(0.01) S -> ES\", rate=86.78638438)\n",
    "system.reactions.add(\"back: ES -> E +(0.01) S\", rate=1.)\n",
    "system.reactions.add(\"prod: ES -> E +(0.01) P\", rate=1.)"
   ]
  },
  {
   "cell_type": "markdown",
   "metadata": {},
   "source": [
    "## Simulate the system"
   ]
  },
  {
   "cell_type": "code",
   "execution_count": 3,
   "metadata": {},
   "outputs": [],
   "source": [
    "simulation = system.simulation(kernel=\"CPU\")\n",
    "simulation.output_file = \"out.h5\"\n",
    "simulation.reaction_handler = \"UncontrolledApproximation\"\n",
    "\n",
    "n_particles_e = 909\n",
    "n_particles_s = 9091\n",
    "edge_length = system.box_size[0]\n",
    "initial_positions_e = np.random.random(size=(n_particles_e, 3)) * edge_length - .5*edge_length\n",
    "initial_positions_s = np.random.random(size=(n_particles_s, 3)) * edge_length - .5*edge_length\n",
    "simulation.add_particles(\"E\", initial_positions_e)\n",
    "simulation.add_particles(\"S\", initial_positions_s)\n",
    "\n",
    "simulation.observe.number_of_particles(stride=1, types=[\"E\", \"S\", \"ES\", \"P\"])"
   ]
  },
  {
   "cell_type": "code",
   "execution_count": 4,
   "metadata": {},
   "outputs": [
    {
     "name": "stdout",
     "output_type": "stream",
     "text": [
      "nsteps=10000\n"
     ]
    }
   ],
   "source": [
    "if os.path.exists(simulation.output_file):\n",
    "    os.remove(simulation.output_file)\n",
    "\n",
    "dt = 1e-4\n",
    "n_steps = int(1. / dt)\n",
    "print('nsteps={}'.format(n_steps))"
   ]
  },
  {
   "cell_type": "code",
   "execution_count": 5,
   "metadata": {},
   "outputs": [
    {
     "data": {
      "application/vnd.jupyter.widget-view+json": {
       "model_id": "82d5fa4326084a7cba3b3e1d4d568ea5",
       "version_major": 2,
       "version_minor": 0
      },
      "text/html": [
       "<p>Failed to display Jupyter Widget of type <code>Box</code>.</p>\n",
       "<p>\n",
       "  If you're reading this message in Jupyter Notebook or JupyterLab, it may mean\n",
       "  that the widgets JavaScript is still loading. If this message persists, it\n",
       "  likely means that the widgets JavaScript library is either not installed or\n",
       "  not enabled. See the <a href=\"https://ipywidgets.readthedocs.io/en/stable/user_install.html\">Jupyter\n",
       "  Widgets Documentation</a> for setup instructions.\n",
       "</p>\n",
       "<p>\n",
       "  If you're reading this message in another notebook frontend (for example, a static\n",
       "  rendering on GitHub or <a href=\"https://nbviewer.jupyter.org/\">NBViewer</a>),\n",
       "  it may mean that your frontend doesn't currently support widgets.\n",
       "</p>\n"
      ],
      "text/plain": [
       "Box(children=(Text(value=''), IntProgress(value=0)))"
      ]
     },
     "metadata": {},
     "output_type": "display_data"
    }
   ],
   "source": [
    "#simulation.skin = 30\n",
    "simulation.run(n_steps=n_steps, timestep=dt)"
   ]
  },
  {
   "cell_type": "code",
   "execution_count": 6,
   "metadata": {},
   "outputs": [],
   "source": [
    "traj = readdy.Trajectory(simulation.output_file)\n",
    "time, counts = traj.read_observable_number_of_particles()"
   ]
  },
  {
   "cell_type": "code",
   "execution_count": 7,
   "metadata": {},
   "outputs": [
    {
     "data": {
      "text/plain": [
       "(10001, 4)"
      ]
     },
     "execution_count": 7,
     "metadata": {},
     "output_type": "execute_result"
    }
   ],
   "source": [
    "counts.shape"
   ]
  },
  {
   "cell_type": "code",
   "execution_count": 8,
   "metadata": {},
   "outputs": [
    {
     "data": {
      "image/png": "[encoded data removed]",
      "text/plain": [
       "<matplotlib.figure.Figure at 0x7fa46bb83400>"
      ]
     },
     "metadata": {},
     "output_type": "display_data"
    }
   ],
   "source": [
    "plt.plot(time, counts[:,0], label='E')\n",
    "plt.plot(time, counts[:,1], label='S')\n",
    "plt.plot(time, counts[:,2], label='ES')\n",
    "plt.plot(time, counts[:,3], label='P')\n",
    "plt.legend()\n",
    "plt.show()"
   ]
  },
  {
   "cell_type": "code",
   "execution_count": null,
   "metadata": {},
   "outputs": [],
   "source": []
  }
 ],
 "metadata": {
  "kernelspec": {
   "display_name": "Python 3",
   "language": "python",
   "name": "python3"
  },
  "language_info": {
   "codemirror_mode": {
    "name": "ipython",
    "version": 3
   },
   "file_extension": ".py",
   "mimetype": "text/x-python",
   "name": "python",
   "nbconvert_exporter": "python",
   "pygments_lexer": "ipython3",
   "version": "3.6.3"
  }
 },
 "nbformat": 4,
 "nbformat_minor": 2
}
