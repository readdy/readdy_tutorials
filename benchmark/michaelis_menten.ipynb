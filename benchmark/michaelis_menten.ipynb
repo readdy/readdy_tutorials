{
 "cells": [
  {
   "cell_type": "code",
   "execution_count": 1,
   "metadata": {},
   "outputs": [],
   "source": [
    "import os\n",
    "import numpy as np\n",
    "import readdy"
   ]
  },
  {
   "cell_type": "markdown",
   "metadata": {},
   "source": [
    "__Setup ReaDDy system__\n",
    "\n",
    "The intrinsic forward rate $\\lambda_\\mathrm{f}$ is obtained from the macroscopic forward rate \n",
    "$k_\\mathrm{f} = 5.88 \\,\\mathrm{\\mu M}^{-1} \\mathrm{s}^{-1} = 0.98 \\times 10^{-2} \\mathrm{\\mu m}^{3} \\mathrm{s}^{-1}$ by \n",
    "application of\n",
    "\n",
    "$$\n",
    "k_\\mathrm{f} = 4\\pi (D_E + D_S) R \\left[1 - \\frac{\\tanh(\\kappa R)}{\\kappa R}\\right]\n",
    "$$\n",
    "\n",
    "where\n",
    "\n",
    "$$\n",
    "\\kappa = \\sqrt{\\frac{\\lambda_\\mathrm{f}}{D_E + D_S}}\n",
    "$$\n",
    "\n",
    "as described in [1]. Note that this will only work in the well mixed regime. The equation cannot be solved explicitly for $\\kappa$. Hence, the intrinsic rate was numerically approximated by solving a minimization problem.\n",
    "\n",
    "\n",
    "[1] R. Erban and J. Chapman, “Stochastic modelling of reaction-diffusion processes: algorithms for bimolecular reactions.,” Phys. Biol., vol. 6, no. 4, p. 46001, Jan. 2009."
   ]
  },
  {
   "cell_type": "code",
   "execution_count": 2,
   "metadata": {},
   "outputs": [],
   "source": [
    "system = readdy.ReactionDiffusionSystem(\n",
    "    box_size=[0.3, 0.3, 0.3],\n",
    "    unit_system={\"length_unit\": \"micrometer\", \"time_unit\": \"second\"}\n",
    ")\n",
    "\n",
    "system.add_species(\"E\", diffusion_constant=10.)\n",
    "system.add_species(\"S\", diffusion_constant=10.)\n",
    "system.add_species(\"ES\", diffusion_constant=10.)\n",
    "system.add_species(\"P\", diffusion_constant=10.)\n",
    "\n",
    "system.reactions.add(\"fwd: E +(0.03) S -> ES\", rate=86.78638438)\n",
    "system.reactions.add(\"back: ES -> E +(0.03) S\", rate=1.)\n",
    "system.reactions.add(\"prod: ES -> E +(0.03) P\", rate=1.)"
   ]
  },
  {
   "cell_type": "markdown",
   "metadata": {},
   "source": [
    "__Simulate the system__"
   ]
  },
  {
   "cell_type": "code",
   "execution_count": 3,
   "metadata": {},
   "outputs": [],
   "source": [
    "simulation = system.simulation(kernel=\"CPU\")\n",
    "simulation.output_file = \"out.h5\"\n",
    "simulation.reaction_handler = \"UncontrolledApproximation\"\n",
    "\n",
    "n_particles_e = 909\n",
    "n_particles_s = 9091\n",
    "edge_length = system.box_size[0]\n",
    "initial_positions_e = np.random.random(size=(n_particles_e, 3)) * edge_length - .5*edge_length\n",
    "initial_positions_s = np.random.random(size=(n_particles_s, 3)) * edge_length - .5*edge_length\n",
    "simulation.add_particles(\"E\", initial_positions_e)\n",
    "simulation.add_particles(\"S\", initial_positions_s)\n",
    "\n",
    "simulation.observe.number_of_particles(stride=1, types=[\"E\", \"S\", \"ES\", \"P\"])"
   ]
  },
  {
   "cell_type": "code",
   "execution_count": 4,
   "metadata": {},
   "outputs": [
    {
     "name": "stdout",
     "output_type": "stream",
     "text": [
      "Simulation progress: 100% (126/126) [##############################] eta 00:00 \\"
     ]
    }
   ],
   "source": [
    "if os.path.exists(simulation.output_file):\n",
    "    os.remove(simulation.output_file)\n",
    "\n",
    "dt = 8e-4\n",
    "n_steps = int(10. / dt)\n",
    "\n",
    "simulation.run(n_steps=n_steps, timestep=dt)"
   ]
  },
  {
   "cell_type": "markdown",
   "metadata": {},
   "source": [
    "__Obtain simulation output__"
   ]
  },
  {
   "cell_type": "code",
   "execution_count": 5,
   "metadata": {},
   "outputs": [],
   "source": [
    "traj = readdy.Trajectory(simulation.output_file)\n",
    "time, counts = traj.read_observable_number_of_particles()\n",
    "counts = counts / system.box_volume.magnitude\n",
    "time = time * dt"
   ]
  },
  {
   "cell_type": "markdown",
   "metadata": {},
   "source": [
    "__Analytical solution (integrated ODE)__"
   ]
  },
  {
   "cell_type": "code",
   "execution_count": 6,
   "metadata": {},
   "outputs": [],
   "source": [
    "from scipy.integrate import odeint\n",
    "\n",
    "def f(x, t0, kf, kr, kcat):\n",
    "    \"\"\"\n",
    "    x: state vector with concentrations of E, S, ES, P\n",
    "    \"\"\"\n",
    "    return np.array([\n",
    "        -kf * x[0] * x[1] + (kr+kcat)*x[2],\n",
    "        -kf * x[0] * x[1] + kr * x[2],\n",
    "        kf * x[0] * x[1]- (kr+kcat)*x[2],\n",
    "        kcat*x[2]\n",
    "    ])\n",
    "\n",
    "init_state = np.array([n_particles_e, n_particles_s, 0., 0.]) / system.box_volume.magnitude\n",
    "ode_time = np.linspace(0.,10,100000)\n",
    "ode_result = odeint(f, y0=init_state, t=ode_time, args=(0.98e-2, 1., 1.))"
   ]
  },
  {
   "cell_type": "code",
   "execution_count": 7,
   "metadata": {},
   "outputs": [
    {
     "data": {
      "image/png": "[encoded data removed]",
      "text/plain": [
       "<matplotlib.figure.Figure at 0x7f4e7aa92630>"
      ]
     },
     "metadata": {},
     "output_type": "display_data"
    }
   ],
   "source": [
    "import matplotlib.pyplot as plt\n",
    "\n",
    "stride = 100\n",
    "plt.plot(time[::stride], counts[:,0][::stride], \"-\", label='E')\n",
    "plt.plot(time[::stride], counts[:,1][::stride], \"-\", label='S')\n",
    "plt.plot(time[::stride], counts[:,2][::stride], \"-\", label='ES')\n",
    "plt.plot(time[::stride], counts[:,3][::stride], \"-\", label='P')\n",
    "plt.plot(ode_time, ode_result[:,0], \"--\", color=\"grey\", label=\"LMA solution\")\n",
    "plt.plot(ode_time, ode_result[:,1], \"--\", color=\"grey\")\n",
    "plt.plot(ode_time, ode_result[:,2], \"--\", color=\"grey\")\n",
    "plt.plot(ode_time, ode_result[:,3], \"--\", color=\"grey\")\n",
    "plt.legend()\n",
    "plt.xlabel(r\"time in $\\mathrm{s}$\")\n",
    "plt.ylabel(r\"concentration in $\\mathrm{\\mu m}^{-3}$\")\n",
    "plt.show()"
   ]
  },
  {
   "cell_type": "markdown",
   "metadata": {},
   "source": [
    "__Performance data__"
   ]
  },
  {
   "cell_type": "code",
   "execution_count": 8,
   "metadata": {},
   "outputs": [],
   "source": [
    "perf = simulation._simulation.performance_root()"
   ]
  },
  {
   "cell_type": "code",
   "execution_count": 9,
   "metadata": {},
   "outputs": [
    {
     "name": "stdout",
     "output_type": "stream",
     "text": [
      "simulation: time 471.392 s, count 1\n",
      "\tinitNeighborList: time 0.038971 s, count 1\n",
      "\t\tset_up: time 0.038962 s, count 1\n",
      "\t\t\tsetUp CLL: time 0.001689 s, count 1\n",
      "\t\t\t\tsetUpCellNeighbors: time 0.001198 s, count 1\n",
      "\t\t\t\tsetUpBins: time 0.000479 s, count 1\n",
      "\t\t\t\t\tallocate: time 5e-06 s, count 1\n",
      "\t\t\t\t\tfillBins parallel: time 0.000467 s, count 1\n",
      "\t\t\tfill verlet list: time 0.037256 s, count 1\n",
      "\t\t\t\tfill verlet list: time 0.037249 s, count 1\n",
      "\tforces: time 0.029832 s, count 12501\n",
      "\tintegrator: time 9.95959 s, count 12500\n",
      "\tneighborList: time 438.254 s, count 25000\n",
      "\t\tupdate: time 438.196 s, count 25000\n",
      "\t\t\tupdate CLL: time 6.78478 s, count 25000\n",
      "\t\t\t\tsetUpBins: time 6.75463 s, count 25000\n",
      "\t\t\t\t\tallocate: time 0.113039 s, count 25000\n",
      "\t\t\t\t\tfillBins parallel: time 6.57676 s, count 25000\n",
      "\t\t\tfill verlet list: time 431.302 s, count 25000\n",
      "\t\t\t\tfill verlet list: time 431.215 s, count 25000\n",
      "\treactionScheduler: time 20.6461 s, count 12500\n",
      "\tevaluateTopologyReactions: time 0.001064 s, count 12500\n",
      "\tclearNeighborList: time 8e-06 s, count 1\n",
      "\t\tclear: time 0 s, count 0\n",
      "\n"
     ]
    }
   ],
   "source": [
    "print(perf)"
   ]
  }
 ],
 "metadata": {
  "kernelspec": {
   "display_name": "Python 3",
   "language": "python",
   "name": "python3"
  },
  "language_info": {
   "codemirror_mode": {
    "name": "ipython",
    "version": 3
   },
   "file_extension": ".py",
   "mimetype": "text/x-python",
   "name": "python",
   "nbconvert_exporter": "python",
   "pygments_lexer": "ipython3",
   "version": "3.6.3"
  },
  "readdy": {
   "position": "1",
   "title": "Michaelis-Menten - well mixed"
  }
 },
 "nbformat": 4,
 "nbformat_minor": 2
}
