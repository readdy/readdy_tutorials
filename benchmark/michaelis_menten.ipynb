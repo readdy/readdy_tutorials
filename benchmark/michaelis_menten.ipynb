{
 "cells": [
  {
   "cell_type": "code",
   "execution_count": 1,
   "metadata": {},
   "outputs": [],
   "source": [
    "import os\n",
    "import numpy as np\n",
    "import readdy"
   ]
  },
  {
   "cell_type": "markdown",
   "metadata": {},
   "source": [
    "__Setup ReaDDy system__\n",
    "\n",
    "The intrinsic forward rate $\\lambda_\\mathrm{f}$ is obtained from the macroscopic forward rate \n",
    "$k_\\mathrm{f} = 5.88 \\,\\mathrm{\\mu M}^{-1} \\mathrm{s}^{-1} = 0.98 \\times 10^{-2} \\mathrm{\\mu m}^{3} \\mathrm{s}^{-1}$ by \n",
    "application of\n",
    "\n",
    "$$\n",
    "k_\\mathrm{f} = 4\\pi (D_E + D_S) R \\left[1 - \\frac{\\tanh(\\kappa R)}{\\kappa R}\\right]\n",
    "$$\n",
    "\n",
    "where\n",
    "\n",
    "$$\n",
    "\\kappa = \\sqrt{\\frac{\\lambda_\\mathrm{f}}{D_E + D_S}}\n",
    "$$\n",
    "\n",
    "as described in [1]. Note that this will only work in the well mixed regime. The equation cannot be solved explicitly for $\\kappa$. Hence, the intrinsic rate was numerically approximated by solving a minimization problem.\n",
    "\n",
    "\n",
    "[1] R. Erban and J. Chapman, “Stochastic modelling of reaction-diffusion processes: algorithms for bimolecular reactions.,” Phys. Biol., vol. 6, no. 4, p. 46001, Jan. 2009."
   ]
  },
  {
   "cell_type": "code",
   "execution_count": 2,
   "metadata": {},
   "outputs": [],
   "source": [
    "system = readdy.ReactionDiffusionSystem(\n",
    "    box_size=[0.3, 0.3, 0.3],\n",
    "    unit_system={\"length_unit\": \"micrometer\", \"time_unit\": \"second\"}\n",
    ")\n",
    "\n",
    "system.add_species(\"E\", diffusion_constant=10.)\n",
    "system.add_species(\"S\", diffusion_constant=10.)\n",
    "system.add_species(\"ES\", diffusion_constant=10.)\n",
    "system.add_species(\"P\", diffusion_constant=10.)\n",
    "\n",
    "system.reactions.add(\"fwd: E +(0.03) S -> ES\", rate=86.78638438)\n",
    "system.reactions.add(\"back: ES -> E +(0.03) S\", rate=1.)\n",
    "system.reactions.add(\"prod: ES -> E +(0.03) P\", rate=1.)"
   ]
  },
  {
   "cell_type": "markdown",
   "metadata": {},
   "source": [
    "__Simulate the system__"
   ]
  },
  {
   "cell_type": "code",
   "execution_count": null,
   "metadata": {},
   "outputs": [],
   "source": [
    "simulation = system.simulation(kernel=\"CPU\")\n",
    "simulation.output_file = \"out.h5\"\n",
    "simulation.reaction_handler = \"UncontrolledApproximation\"\n",
    "\n",
    "n_particles_e = 909\n",
    "n_particles_s = 9091\n",
    "edge_length = system.box_size[0]\n",
    "initial_positions_e = np.random.random(size=(n_particles_e, 3)) * edge_length - .5*edge_length\n",
    "initial_positions_s = np.random.random(size=(n_particles_s, 3)) * edge_length - .5*edge_length\n",
    "simulation.add_particles(\"E\", initial_positions_e)\n",
    "simulation.add_particles(\"S\", initial_positions_s)\n",
    "\n",
    "simulation.observe.number_of_particles(stride=1, types=[\"E\", \"S\", \"ES\", \"P\"])"
   ]
  },
  {
   "cell_type": "code",
   "execution_count": null,
   "metadata": {},
   "outputs": [
    {
     "data": {
      "application/vnd.jupyter.widget-view+json": {
       "model_id": "aa2288b2721f4cca863db62b04eb15a1",
       "version_major": 2,
       "version_minor": 0
      },
      "text/html": [
       "<p>Failed to display Jupyter Widget of type <code>Box</code>.</p>\n",
       "<p>\n",
       "  If you're reading this message in Jupyter Notebook or JupyterLab, it may mean\n",
       "  that the widgets JavaScript is still loading. If this message persists, it\n",
       "  likely means that the widgets JavaScript library is either not installed or\n",
       "  not enabled. See the <a href=\"https://ipywidgets.readthedocs.io/en/stable/user_install.html\">Jupyter\n",
       "  Widgets Documentation</a> for setup instructions.\n",
       "</p>\n",
       "<p>\n",
       "  If you're reading this message in another notebook frontend (for example, a static\n",
       "  rendering on GitHub or <a href=\"https://nbviewer.jupyter.org/\">NBViewer</a>),\n",
       "  it may mean that your frontend doesn't currently support widgets.\n",
       "</p>\n"
      ],
      "text/plain": [
       "Box(children=(Text(value=''), IntProgress(value=0)))"
      ]
     },
     "metadata": {},
     "output_type": "display_data"
    }
   ],
   "source": [
    "if os.path.exists(simulation.output_file):\n",
    "    os.remove(simulation.output_file)\n",
    "\n",
    "dt = 1e-4\n",
    "n_steps = int(10. / dt)\n",
    "\n",
    "simulation.run(n_steps=n_steps, timestep=dt)"
   ]
  },
  {
   "cell_type": "code",
   "execution_count": null,
   "metadata": {},
   "outputs": [],
   "source": [
    "traj = readdy.Trajectory(simulation.output_file)\n",
    "time, counts = traj.read_observable_number_of_particles()\n",
    "counts = counts / system.box_volume.magnitude\n",
    "time = time * dt"
   ]
  },
  {
   "cell_type": "markdown",
   "metadata": {},
   "source": [
    "__Analytical solution (integrated ODE)__"
   ]
  },
  {
   "cell_type": "code",
   "execution_count": null,
   "metadata": {},
   "outputs": [],
   "source": [
    "from scipy.integrate import odeint\n",
    "\n",
    "def f(x, t0, kf, kr, kcat):\n",
    "    \"\"\"\n",
    "    x: state vector with concentrations of E, S, ES, P\n",
    "    \"\"\"\n",
    "    return np.array([\n",
    "        -kf * x[0] * x[1] + (kr+kcat)*x[2],\n",
    "        -kf * x[0] * x[1] + kr * x[2],\n",
    "        kf * x[0] * x[1]- (kr+kcat)*x[2],\n",
    "        kcat*x[2]\n",
    "    ])\n",
    "\n",
    "init_state = np.array([n_particles_e, n_particles_s, 0., 0.]) / system.box_volume.magnitude\n",
    "ode_time = np.linspace(0.,10,100000)\n",
    "ode_result = odeint(f, y0=init_state, t=ode_time, args=(0.98e-2, 1., 1.))"
   ]
  },
  {
   "cell_type": "code",
   "execution_count": null,
   "metadata": {},
   "outputs": [],
   "source": [
    "import matplotlib.pyplot as plt\n",
    "\n",
    "stride = 100\n",
    "plt.plot(time[::stride], counts[:,0][::stride], \"-\", label='E')\n",
    "plt.plot(time[::stride], counts[:,1][::stride], \"-\", label='S')\n",
    "plt.plot(time[::stride], counts[:,2][::stride], \"-\", label='ES')\n",
    "plt.plot(time[::stride], counts[:,3][::stride], \"-\", label='P')\n",
    "plt.plot(ode_time, ode_result[:,0], \"--\", color=\"grey\", label=\"LMA solution\")\n",
    "plt.plot(ode_time, ode_result[:,1], \"--\", color=\"grey\")\n",
    "plt.plot(ode_time, ode_result[:,2], \"--\", color=\"grey\")\n",
    "plt.plot(ode_time, ode_result[:,3], \"--\", color=\"grey\")\n",
    "plt.legend()\n",
    "plt.xlabel(r\"time in $\\mathrm{s}$\")\n",
    "plt.ylabel(r\"concentration in $\\mathrm{\\mu m}^{-3}$\")\n",
    "plt.show()"
   ]
  },
  {
   "cell_type": "markdown",
   "metadata": {},
   "source": [
    "__Performance data__"
   ]
  },
  {
   "cell_type": "code",
   "execution_count": null,
   "metadata": {},
   "outputs": [],
   "source": [
    "perf = simulation._simulation.performance_root()"
   ]
  },
  {
   "cell_type": "code",
   "execution_count": null,
   "metadata": {},
   "outputs": [],
   "source": [
    "print(perf)"
   ]
  }
 ],
 "metadata": {
  "kernelspec": {
   "display_name": "Python 3",
   "language": "python",
   "name": "python3"
  },
  "language_info": {
   "codemirror_mode": {
    "name": "ipython",
    "version": 3
   },
   "file_extension": ".py",
   "mimetype": "text/x-python",
   "name": "python",
   "nbconvert_exporter": "python",
   "pygments_lexer": "ipython3",
   "version": "3.6.3"
  }
 },
 "nbformat": 4,
 "nbformat_minor": 2
}
