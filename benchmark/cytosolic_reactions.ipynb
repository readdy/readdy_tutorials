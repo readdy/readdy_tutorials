{
 "cells": [
  {
   "cell_type": "markdown",
   "metadata": {},
   "source": [
    "We consider the system of particle species A, B and C that undergo reactions $A + B\\rightleftharpoons C$ and also have optional volume exclusion effects due to repulsive potentials between all particles. A and B Particles will be initially uniformly distributed in a periodic box and no C particles are present. \n",
    "\n",
    "We first demonstrate how the concentration of particles evolves in time and compares to a description by the law of mass action (LMA). This demonstrates that ReaDDy produces exact results when parameters are in the well-mixed regime. We also show that including a repulsive potential between all particles, but not changing the intrinsic reaction rates, will lead to different macroscopic reaction kinetics.\n",
    "\n",
    "The focus of this demonstration is the measurement of computation time. In particular we observe the computation time $\\tau$ per particle and per integration step. The system is simulated for different initial particle numbers, such that the density is constant."
   ]
  },
  {
   "cell_type": "code",
   "execution_count": 1,
   "metadata": {},
   "outputs": [],
   "source": [
    "import os\n",
    "import numpy as np\n",
    "\n",
    "import readdy\n",
    "ut = readdy.units"
   ]
  },
  {
   "cell_type": "markdown",
   "metadata": {},
   "source": [
    "Add species A, B and C to the system. Diffusion constants are chosen to represent the size of particles A, B and C according to the Einstein-Stokes relation\n",
    "\n",
    "$$D_i = \\frac{k_B T}{6\\pi\\eta r_i}$$\n",
    "\n",
    "where $D_i$ is the diffusion coefficient of species $i$ and $r_i$ is its radius. $\\eta$ is the viscosity of a cellular environment, i.e. mostly water. $k_B T$ is the termal energy, here we choose it to represent a system at room temperature.\n",
    "\n",
    "Note that in ReaDDy, the concept of a particle radius does not exist. The volume of a particle only becomes important when setting the reaction radius of a reaction or when setting the interaction distance of a interaction potential. However in modeling a certain system, we have particles with certain sizes in mind. To implement these, one can set the radii of particles outside of ReaDDy and use them to choose the reaction radii and interaction distances."
   ]
  },
  {
   "cell_type": "code",
   "execution_count": 2,
   "metadata": {},
   "outputs": [],
   "source": [
    "particle_radii = {\"A\": 1.5, \"B\": 3., \"C\": 3.12}  # in nanometers\n",
    "dt = 1e-1 * ut.nanosecond"
   ]
  },
  {
   "cell_type": "code",
   "execution_count": 3,
   "metadata": {},
   "outputs": [],
   "source": [
    "def get_system(with_repulsion):\n",
    "    system = readdy.ReactionDiffusionSystem(\n",
    "        box_size=[60., 60., 60.],\n",
    "        temperature=293.,\n",
    "        unit_system={\"length_unit\": \"nanometer\", \"time_unit\": \"nanosecond\", \"energy_unit\": \"kilojoule / mol\"}\n",
    "    )\n",
    "    \n",
    "    system.add_species(\"A\", diffusion_constant=143.1 * ut.micrometer ** 2 / ut.second)\n",
    "    system.add_species(\"B\", diffusion_constant=71.6 * ut.micrometer ** 2 / ut.second)\n",
    "    system.add_species(\"C\", diffusion_constant=68.82 * ut.micrometer ** 2 / ut.second)\n",
    "    \n",
    "    if with_repulsion:\n",
    "        force_constant = 10. * ut.kilojoule / ut.mol / (ut.nanometer ** 2)\n",
    "    else:\n",
    "        force_constant = 0. * ut.kilojoule / ut.mol / (ut.nanometer ** 2)\n",
    "    if force_constant.magnitude > 0.:\n",
    "        all_pairs = [(\"A\",\"A\"), (\"B\",\"B\"), (\"C\", \"C\"), (\"A\", \"B\"), (\"A\", \"C\"), (\"B\", \"C\")]\n",
    "        for pair in all_pairs:\n",
    "            distance = particle_radii[pair[0]] + particle_radii[pair[1]]\n",
    "            system.potentials.add_harmonic_repulsion(pair[0], pair[1], force_constant, \n",
    "                                                     interaction_distance=distance)\n",
    "    return system"
   ]
  },
  {
   "cell_type": "markdown",
   "metadata": {},
   "source": [
    "Particles can undergo the two reactions $A + B \\rightarrow C$ and $C \\rightarrow A + B$. Note that the particles radii are chosen, such that the total volume of particles is conserved in this reaction, i.e.\n",
    "\n",
    "$$ r_A^3 + r_B^3 = r_C^3 $$\n",
    "\n",
    "The reaction radius $R$ is chosen as $R=r_A + r_B$. This is used as the maximum distance of educts in the Fusion reaction as well as the distance at which products will be placed in the Fission reaction."
   ]
  },
  {
   "cell_type": "code",
   "execution_count": 4,
   "metadata": {},
   "outputs": [],
   "source": [
    "reaction_radius = particle_radii[\"A\"] + particle_radii[\"B\"]\n",
    "def configure_reactions(system):\n",
    "    system.reactions.add_fusion(\"fusion\", \"A\", \"B\", \"C\",\n",
    "                                rate=1e6 / ut.second,\n",
    "                                educt_distance=reaction_radius * ut.nanometer)\n",
    "    system.reactions.add_fission(\"fission\", \"C\", \"A\", \"B\",\n",
    "                                 rate=5e4 / ut.second,\n",
    "                                 product_distance=reaction_radius * ut.nanometer)"
   ]
  },
  {
   "cell_type": "code",
   "execution_count": 5,
   "metadata": {},
   "outputs": [],
   "source": [
    "number_a = 509\n",
    "number_b = 509\n",
    "def simulate(system, output_file):\n",
    "    simulation = system.simulation(kernel=\"SingleCPU\")\n",
    "    simulation.output_file = output_file\n",
    "    simulation.reaction_handler = \"UncontrolledApproximation\"\n",
    "\n",
    "    edge_length = system.box_size[0]\n",
    "    initial_positions_a = np.random.random(size=(number_a, 3)) * edge_length - .5 * edge_length\n",
    "    initial_positions_b = np.random.random(size=(number_b, 3)) * edge_length - .5 * edge_length\n",
    "    simulation.add_particles(\"A\", initial_positions_a)\n",
    "    simulation.add_particles(\"B\", initial_positions_b)\n",
    "\n",
    "    simulation.observe.number_of_particles(stride=1, types=[\"A\", \"B\", \"C\"])\n",
    "\n",
    "    if os.path.exists(simulation.output_file):\n",
    "        os.remove(simulation.output_file)\n",
    "\n",
    "    n_steps = int(10000. / dt.magnitude)  # simulate to 10 microseconds\n",
    "    simulation.run(n_steps=n_steps, timestep=dt)"
   ]
  },
  {
   "cell_type": "code",
   "execution_count": 6,
   "metadata": {},
   "outputs": [],
   "source": [
    "system_with_repulsion = get_system(True)\n",
    "configure_reactions(system_with_repulsion)\n",
    "system_without_repulsion = get_system(False)\n",
    "configure_reactions(system_without_repulsion)"
   ]
  },
  {
   "cell_type": "code",
   "execution_count": 7,
   "metadata": {},
   "outputs": [
    {
     "name": "stdout",
     "output_type": "stream",
     "text": [
      "Configured kernel context with:\n",
      "--------------------------------\n",
      " - kBT = 2.43614\n",
      " - periodic b.c. = (true, true, true)\n",
      " - box size = (60, 60, 60)\n",
      " - particle types:\n",
      "     *  particle type \"C\" with D=0.06882\n",
      "     *  particle type \"A\" with D=0.1431\n",
      "     *  particle type \"B\" with D=0.0716\n",
      " - potentials of order 2:\n",
      "     * for types \"B\" and \"B\"\n",
      "         * Harmonic repulsion with force constant k=10\n",
      "     * for types \"A\" and \"B\"\n",
      "         * Harmonic repulsion with force constant k=10\n",
      "     * for types \"A\" and \"A\"\n",
      "         * Harmonic repulsion with force constant k=10\n",
      "     * for types \"C\" and \"C\"\n",
      "         * Harmonic repulsion with force constant k=10\n",
      "     * for types \"A\" and \"C\"\n",
      "         * Harmonic repulsion with force constant k=10\n",
      "     * for types \"B\" and \"C\"\n",
      "         * Harmonic repulsion with force constant k=10\n",
      " - unimolecular reactions:\n",
      "     * Fission C -> A + B with a rate of 5e-05, a product distance of 4.5, and weights 0.5 and 0.5\n",
      " - bimolecular reactions:\n",
      "     * Fusion A + B -> C with a rate of 0.001, an educt distance of 4.5, and weights 0.5 and 0.5\n",
      "\n"
     ]
    },
    {
     "data": {
      "application/vnd.jupyter.widget-view+json": {
       "model_id": "32860b235eea4d8c83cc743f493194f0",
       "version_major": 2,
       "version_minor": 0
      },
      "text/html": [
       "<p>Failed to display Jupyter Widget of type <code>HBox</code>.</p>\n",
       "<p>\n",
       "  If you're reading this message in the Jupyter Notebook or JupyterLab Notebook, it may mean\n",
       "  that the widgets JavaScript is still loading. If this message persists, it\n",
       "  likely means that the widgets JavaScript library is either not installed or\n",
       "  not enabled. See the <a href=\"https://ipywidgets.readthedocs.io/en/stable/user_install.html\">Jupyter\n",
       "  Widgets Documentation</a> for setup instructions.\n",
       "</p>\n",
       "<p>\n",
       "  If you're reading this message in another frontend (for example, a static\n",
       "  rendering on GitHub or <a href=\"https://nbviewer.jupyter.org/\">NBViewer</a>),\n",
       "  it may mean that your frontend doesn't currently support widgets.\n",
       "</p>\n"
      ],
      "text/plain": [
       "HBox(children=(HBox(children=(Label(value='Simulation progress'),), layout=Layout(max_width='35%', min_width='35%')), HBox(children=(IntProgress(value=0, max=10000), HTML(value='')), layout=Layout(padding='0 0 0 20px'))), layout=Layout(display='flex', width='100%'))"
      ]
     },
     "metadata": {},
     "output_type": "display_data"
    },
    {
     "name": "stdout",
     "output_type": "stream",
     "text": [
      "\r"
     ]
    }
   ],
   "source": [
    "outfile_with_repulsion = \"cytosolic_reactions_with_repulsion.h5\"\n",
    "simulate(system_with_repulsion, outfile_with_repulsion)"
   ]
  },
  {
   "cell_type": "code",
   "execution_count": 8,
   "metadata": {},
   "outputs": [
    {
     "name": "stdout",
     "output_type": "stream",
     "text": [
      "Configured kernel context with:\n",
      "--------------------------------\n",
      " - kBT = 2.43614\n",
      " - periodic b.c. = (true, true, true)\n",
      " - box size = (60, 60, 60)\n",
      " - particle types:\n",
      "     *  particle type \"C\" with D=0.06882\n",
      "     *  particle type \"A\" with D=0.1431\n",
      "     *  particle type \"B\" with D=0.0716\n",
      " - unimolecular reactions:\n",
      "     * Fission C -> A + B with a rate of 5e-05, a product distance of 4.5, and weights 0.5 and 0.5\n",
      " - bimolecular reactions:\n",
      "     * Fusion A + B -> C with a rate of 0.001, an educt distance of 4.5, and weights 0.5 and 0.5\n",
      "\n"
     ]
    },
    {
     "data": {
      "application/vnd.jupyter.widget-view+json": {
       "model_id": "2fdf67b2160f4b4695181cc57f3b5d4b",
       "version_major": 2,
       "version_minor": 0
      },
      "text/html": [
       "<p>Failed to display Jupyter Widget of type <code>HBox</code>.</p>\n",
       "<p>\n",
       "  If you're reading this message in the Jupyter Notebook or JupyterLab Notebook, it may mean\n",
       "  that the widgets JavaScript is still loading. If this message persists, it\n",
       "  likely means that the widgets JavaScript library is either not installed or\n",
       "  not enabled. See the <a href=\"https://ipywidgets.readthedocs.io/en/stable/user_install.html\">Jupyter\n",
       "  Widgets Documentation</a> for setup instructions.\n",
       "</p>\n",
       "<p>\n",
       "  If you're reading this message in another frontend (for example, a static\n",
       "  rendering on GitHub or <a href=\"https://nbviewer.jupyter.org/\">NBViewer</a>),\n",
       "  it may mean that your frontend doesn't currently support widgets.\n",
       "</p>\n"
      ],
      "text/plain": [
       "HBox(children=(HBox(children=(Label(value='Simulation progress'),), layout=Layout(max_width='35%', min_width='35%')), HBox(children=(IntProgress(value=0, max=10000), HTML(value='')), layout=Layout(padding='0 0 0 20px'))), layout=Layout(display='flex', width='100%'))"
      ]
     },
     "metadata": {},
     "output_type": "display_data"
    },
    {
     "name": "stdout",
     "output_type": "stream",
     "text": [
      "\r"
     ]
    }
   ],
   "source": [
    "outfile_without_repulsion = \"cytosolic_reactions_without_repulsion.h5\"\n",
    "simulate(system_without_repulsion, outfile_without_repulsion)"
   ]
  },
  {
   "cell_type": "markdown",
   "metadata": {},
   "source": [
    "Obtain output"
   ]
  },
  {
   "cell_type": "code",
   "execution_count": 9,
   "metadata": {},
   "outputs": [],
   "source": [
    "c = dict()\n",
    "\n",
    "traj_with_repulsion = readdy.Trajectory(outfile_with_repulsion)\n",
    "times, counts = traj_with_repulsion.read_observable_number_of_particles()\n",
    "concentrations = counts / system_with_repulsion.box_volume.magnitude\n",
    "c[\"w/ repulsion\"] = {\"A\": concentrations[:, 0], \"B\": concentrations[:, 1], \"C\": concentrations[:, 2]}\n",
    "\n",
    "traj_without_repulsion = readdy.Trajectory(outfile_without_repulsion)\n",
    "times2, counts2 = traj_without_repulsion.read_observable_number_of_particles()\n",
    "concentrations2 = counts2 / system_without_repulsion.box_volume.magnitude\n",
    "c[\"w/o repulsion\"] = {\"A\": concentrations2[:, 0], \"B\": concentrations2[:, 1], \"C\": concentrations2[:, 2]}\n",
    "times = times * dt.magnitude"
   ]
  },
  {
   "cell_type": "markdown",
   "metadata": {},
   "source": [
    "Under the assumption that the system is well mixed (particles encounter often, but rarely react), and there are no interaction potentials, that would obstruct particles in their free diffusion, one can approximate the macroscopic association rate $k_\\mathrm{on}$ as\n",
    "\n",
    "$$k_\\mathrm{on} = \\lambda_\\mathrm{on} V_R $$\n",
    "\n",
    "where $\\lambda_\\mathrm{on}$ is the intrinsic association rate and $V_R$ is the reaction volume available to a pair of particles A and B."
   ]
  },
  {
   "cell_type": "code",
   "execution_count": 10,
   "metadata": {},
   "outputs": [],
   "source": [
    "from scipy.integrate import odeint\n",
    "\n",
    "lambda_on = 1e6 * 1e-9 # per nanosecond\n",
    "reaction_volume = 4. / 3. * np.pi * reaction_radius**3\n",
    "k_on = lambda_on * reaction_volume # dilute (large volume) and well mixed (fast diffusion) approximation\n",
    "k_off = 5e4 * 1e-9 # per nanosecond\n",
    "def f(x, _):\n",
    "    result = np.zeros_like(x)\n",
    "    delta = - k_on * x[0] * x[0] + k_off * x[1]\n",
    "    result[0] = delta\n",
    "    result[1] = -1. * delta\n",
    "    return result\n",
    "\n",
    "x_init = np.array([number_a, 0.]) / system_with_repulsion.box_volume.magnitude\n",
    "ode_times = np.arange(0., 10000. , 1.) # in nanoseconds\n",
    "ode_solution = odeint(f, x_init, t=ode_times)"
   ]
  },
  {
   "cell_type": "code",
   "execution_count": 11,
   "metadata": {},
   "outputs": [
    {
     "data": {
      "image/png": "[encoded data removed]",
      "text/plain": [
       "<matplotlib.figure.Figure at 0x7ff16e0a2278>"
      ]
     },
     "metadata": {},
     "output_type": "display_data"
    }
   ],
   "source": [
    "%matplotlib inline\n",
    "import matplotlib.pyplot as plt\n",
    "\n",
    "plt.plot(times, c[\"w/o repulsion\"][\"A\"], label=\"[A]=[B]\")\n",
    "plt.plot(times, c[\"w/o repulsion\"][\"C\"], label=\"[C]\")\n",
    "plt.plot(times, c[\"w/ repulsion\"][\"A\"], label=\"[A]=[B], w/ repulsion\")\n",
    "plt.plot(times, c[\"w/ repulsion\"][\"C\"], label=\"[C], w/ repulsion\")\n",
    "plt.plot(ode_times, ode_solution[:, 0], \"k--\", label=\"law of mass action\")\n",
    "plt.plot(ode_times, ode_solution[:, 1], \"k--\")\n",
    "plt.legend(loc=\"best\")\n",
    "plt.xlabel(r\"Time in $\\mathrm{ns}$\")\n",
    "plt.ylabel(r\"Concentration in $\\mathrm{nm}^{-3}$\")\n",
    "plt.show()"
   ]
  },
  {
   "cell_type": "markdown",
   "metadata": {},
   "source": [
    "__Performance__\n",
    "\n",
    "\n",
    "The system shown above is simulated for constant densities but different number of particles. For the measurements we always have particle repulsion present. The computation time is measured for the different compute-kernels `SingleCPU` and `CPU`. The most important value is the computation time $\\tau$ per particle and per integration step. This value is measured at the highest number of particles as it usually saturates when load-balancing improves. An exception is the legacy Java version, which was measured at 1500 particles since it does not scale well. The measurements were performed on a machine equipped with a `Intel(R) Xeon(R) CPU E5-1630 v4 @ 3.70GHz` that has 8 logical CPUs, all of which were used for profiling the `CPU` compute-kernel.\n",
    "\n",
    "$\\tau$ - computation time per particle and per integration step\n",
    "\n",
    "| ReaDDy version | $\\tau$ SingleCPU  | $\\tau$ CPU  |\n",
    "|---|---| ---|\n",
    "|java legacy(@1500 particles) | 3.77806e-06 | n.a. |\n",
    "| v1.0.0-py36_7_g50d9ee5 | 2.11896e-06 s | 8.21963e-07 s |\n",
    "| v1.0.0-py36_59_ga47c0048 | 1.43479e-06 s | 6.02905e-07 s |\n",
    "\n",
    "\n",
    "\n",
    "![](scaling_cytosolic_reactions_v1.0.0-py36_59_ga47c0048_platypus.png)"
   ]
  }
 ],
 "metadata": {
  "kernelspec": {
   "display_name": "Python 3",
   "language": "python",
   "name": "python3"
  },
  "language_info": {
   "codemirror_mode": {
    "name": "ipython",
    "version": 3
   },
   "file_extension": ".py",
   "mimetype": "text/x-python",
   "name": "python",
   "nbconvert_exporter": "python",
   "pygments_lexer": "ipython3",
   "version": "3.6.4"
  },
  "readdy": {
   "position": "2",
   "title": "Cytosolic reactions"
  }
 },
 "nbformat": 4,
 "nbformat_minor": 2
}
